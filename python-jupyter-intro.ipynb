{
 "cells": [
  {
   "cell_type": "markdown",
   "metadata": {},
   "source": [
    "# Introduction to python & jupyter\n",
    "\n",
    "What this notebook covers:\n",
    "1. Using the Notebook\n",
    "2. Variables and types\n",
    "3. Built-in Functions, help, and libraries\n",
    "4. Collections (list, tuple, set, dictionary)\n",
    "5. Conditions and If statements\n",
    "6. loops\n",
    "7. Functions, lambdas, map/filter/reduce\n",
    "8. Classes and Objects\n",
    "9. Exception Handling\n",
    "10. JSON\n",
    "11. File Handling\n",
    "12. Jupyter architecture"
   ]
  },
  {
   "cell_type": "markdown",
   "metadata": {},
   "source": [
    "# Using the Notebook\n",
    "\n",
    "## Modes\n",
    "\n",
    "* If you press [`Esc`] and [`Return`] alternately, the outer border of your code cell will change from gray/blue to green.\n",
    "\n",
    "* These are the **Command** (gray) and **Edit** (green) modes of your notebook.\n",
    "\n",
    "* In Command mode, pressing the [`H`] key will provide a list of all the shortcut keys.\n",
    "\n",
    "* Command mode allows you to edit notebook-level features, and Edit mode changes the content of cells.\n",
    "\n",
    "* When in Command mode (esc/gray):\n",
    "    * The [`B`] key will make a new cell below the currently selected cell.\n",
    "    * The [`A`] key will make one above.\n",
    "    * The [`X`] key will delete the current cell.\n",
    "    * The [`Z`] key will undo your last cell deletion.\n",
    "\n",
    "* All actions can be done using the menus, but there are lots of keyboard shortcuts to speed things up.\n",
    "* If you remember the [`Esc`] and [`H`] shortcut, you will be able to find out all the rest.\n",
    "\n",
    "* Pressing the [`Return`] key turns the border green and engages **Edit** mode, which allows you to type within the cell.\n",
    "\n",
    "* Pressing [`Shift+Return`] together will execute the contents of the cell."
   ]
  },
  {
   "cell_type": "markdown",
   "metadata": {},
   "source": [
    "## Markdown\n",
    "\n",
    "Notebooks can also render Markdown.\n",
    "\n",
    "* Turn the current cell into a Markdown cell by entering the **Command** mode ([`Esc`]/gray) and press the [`M`] key.\n",
    "`In [ ]:` will disappear to show it is no longer a code cell and you will be able to write in Markdown.\n",
    "\n",
    "* Turn the current cell into a Code cell by entering the **Command** mode ([`Esc`]/gray) and press the [`Y`] key."
   ]
  },
  {
   "cell_type": "markdown",
   "metadata": {},
   "source": [
    "# Variables and types\n",
    "\n"
   ]
  },
  {
   "cell_type": "markdown",
   "metadata": {},
   "source": [
    "\n",
    "## The runtime environment\n",
    "The runtime environment is essentially the IPython kernel, the REPL (read-evaluate-print-loop). \n",
    "\n",
    "**The order in which cells are executed matters, not the order in which they are rendered**, although when you run all, they are intuitively run in order. Let's have a look at the following example."
   ]
  },
  {
   "cell_type": "code",
   "execution_count": 3,
   "metadata": {},
   "outputs": [],
   "source": [
    "foo = [1,2,3]"
   ]
  },
  {
   "cell_type": "code",
   "execution_count": 4,
   "metadata": {},
   "outputs": [
    {
     "name": "stdout",
     "output_type": "stream",
     "text": [
      "[1, 2, 3]\n"
     ]
    }
   ],
   "source": [
    "print(foo)"
   ]
  },
  {
   "cell_type": "code",
   "execution_count": 5,
   "metadata": {},
   "outputs": [
    {
     "data": {
      "text/plain": [
       "['In',\n",
       " 'Out',\n",
       " '_',\n",
       " '_2',\n",
       " '__',\n",
       " '___',\n",
       " '__builtin__',\n",
       " '__builtins__',\n",
       " '__doc__',\n",
       " '__loader__',\n",
       " '__name__',\n",
       " '__package__',\n",
       " '__spec__',\n",
       " '__vsc_ipynb_file__',\n",
       " '_dh',\n",
       " '_i',\n",
       " '_i1',\n",
       " '_i2',\n",
       " '_i3',\n",
       " '_i4',\n",
       " '_i5',\n",
       " '_ih',\n",
       " '_ii',\n",
       " '_iii',\n",
       " '_oh',\n",
       " 'exit',\n",
       " 'foo',\n",
       " 'get_ipython',\n",
       " 'open',\n",
       " 'quit']"
      ]
     },
     "execution_count": 5,
     "metadata": {},
     "output_type": "execute_result"
    }
   ],
   "source": [
    "foo = \"I'm not [1,2,3]\"\n",
    "dir()"
   ]
  },
  {
   "cell_type": "markdown",
   "metadata": {},
   "source": [
    "In order to know which variables you have in your environment, you can use the following ipython commands:\n",
    "- `dir()`\n",
    "- `locals()`\n",
    "- `globals()`\n",
    "\n",
    "To get help about a function you can use ?, as for example `?dict`"
   ]
  },
  {
   "cell_type": "markdown",
   "metadata": {},
   "source": [
    "## Types\n",
    "\n",
    "* Use the built-in function `type` to find out what type a value has"
   ]
  },
  {
   "cell_type": "code",
   "execution_count": 6,
   "metadata": {},
   "outputs": [
    {
     "data": {
      "text/plain": [
       "int"
      ]
     },
     "execution_count": 6,
     "metadata": {},
     "output_type": "execute_result"
    }
   ],
   "source": [
    "a = 10\n",
    "type(a)"
   ]
  },
  {
   "cell_type": "markdown",
   "metadata": {},
   "source": [
    "Must convert numbers to strings or vice versa when operating on them\n",
    "\n",
    "`1 + '2'` would give\n",
    "\n",
    "`TypeError: unsupported operand type(s) for +: 'int' and 'str'`\n",
    "\n",
    "In fact, this operatiopn is now allowed because it’s ambiguous: should be `3` or `'12'`?\n",
    "\n",
    "Some types can be converted to other types by using the type name as a function."
   ]
  },
  {
   "cell_type": "code",
   "execution_count": 7,
   "metadata": {},
   "outputs": [
    {
     "name": "stdout",
     "output_type": "stream",
     "text": [
      "3\n",
      "12\n"
     ]
    }
   ],
   "source": [
    "print(1 + int('2'))\n",
    "print(str(1) + '2')"
   ]
  },
  {
   "cell_type": "markdown",
   "metadata": {},
   "source": [
    "# Built-in Functions and Help\n",
    "\n",
    "* len, print, max, min, round\n",
    "* int, str, and float create a new value from an existing one\n",
    "\n",
    "* Use the built-in function `help` to get help for a function. Every built-in function has online documentation."
   ]
  },
  {
   "cell_type": "code",
   "execution_count": 10,
   "metadata": {},
   "outputs": [
    {
     "name": "stdout",
     "output_type": "stream",
     "text": [
      "Help on built-in function round in module builtins:\n",
      "\n",
      "round(number, ndigits=None)\n",
      "    Round a number to a given precision in decimal digits.\n",
      "    \n",
      "    The return value is an integer if ndigits is omitted or None.  Otherwise\n",
      "    the return value has the same type as the number.  ndigits may be negative.\n",
      "\n"
     ]
    }
   ],
   "source": [
    "help(round)"
   ]
  },
  {
   "attachments": {},
   "cell_type": "markdown",
   "metadata": {},
   "source": [
    "The Jupyter Notebook has 3 ways to get help.\n",
    "    * Place the cursor inside the parenthesis of the function, hold down shift, and press tab.\n",
    "    * use the function help\n",
    "    * by using the question mark `?`, you can access the Docstring for quick reference on syntax."
   ]
  },
  {
   "cell_type": "code",
   "execution_count": 8,
   "metadata": {},
   "outputs": [
    {
     "name": "stdout",
     "output_type": "stream",
     "text": [
      "\u001b[0;31mSignature:\u001b[0m \u001b[0mstr\u001b[0m\u001b[0;34m.\u001b[0m\u001b[0mreplace\u001b[0m\u001b[0;34m(\u001b[0m\u001b[0mself\u001b[0m\u001b[0;34m,\u001b[0m \u001b[0mold\u001b[0m\u001b[0;34m,\u001b[0m \u001b[0mnew\u001b[0m\u001b[0;34m,\u001b[0m \u001b[0mcount\u001b[0m\u001b[0;34m=\u001b[0m\u001b[0;34m-\u001b[0m\u001b[0;36m1\u001b[0m\u001b[0;34m,\u001b[0m \u001b[0;34m/\u001b[0m\u001b[0;34m)\u001b[0m\u001b[0;34m\u001b[0m\u001b[0;34m\u001b[0m\u001b[0m\n",
      "\u001b[0;31mDocstring:\u001b[0m\n",
      "Return a copy with all occurrences of substring old replaced by new.\n",
      "\n",
      "  count\n",
      "    Maximum number of occurrences to replace.\n",
      "    -1 (the default value) means replace all occurrences.\n",
      "\n",
      "If the optional argument count is given, only the first count occurrences are\n",
      "replaced.\n",
      "\u001b[0;31mType:\u001b[0m      method_descriptor"
     ]
    }
   ],
   "source": [
    "str.replace?"
   ]
  },
  {
   "cell_type": "code",
   "execution_count": 9,
   "metadata": {},
   "outputs": [
    {
     "name": "stdout",
     "output_type": "stream",
     "text": [
      "Help on method_descriptor:\n",
      "\n",
      "replace(self, old, new, count=-1, /)\n",
      "    Return a copy with all occurrences of substring old replaced by new.\n",
      "\n",
      "      count\n",
      "        Maximum number of occurrences to replace.\n",
      "        -1 (the default value) means replace all occurrences.\n",
      "\n",
      "    If the optional argument count is given, only the first count occurrences are\n",
      "    replaced.\n",
      "\n"
     ]
    }
   ],
   "source": [
    "help(str.replace)"
   ]
  },
  {
   "cell_type": "markdown",
   "metadata": {},
   "source": [
    "# Importing libraries\n",
    "\n",
    "* Use import to load a library module into a program’s memory.\n",
    "* Then refer to things from the module as module_name.thing_name.\n",
    "\n",
    "* Use from ... import ... to load only specific items from a library module."
   ]
  },
  {
   "cell_type": "code",
   "execution_count": 13,
   "metadata": {},
   "outputs": [
    {
     "name": "stdout",
     "output_type": "stream",
     "text": [
      "cos(pi) is -1.0\n"
     ]
    }
   ],
   "source": [
    "from math import cos, pi\n",
    "\n",
    "print('cos(pi) is', cos(pi))"
   ]
  },
  {
   "cell_type": "code",
   "execution_count": 14,
   "metadata": {},
   "outputs": [
    {
     "name": "stdout",
     "output_type": "stream",
     "text": [
      "pi is 3.141592653589793\n"
     ]
    }
   ],
   "source": [
    "import math\n",
    "\n",
    "print('pi is', math.pi)"
   ]
  },
  {
   "cell_type": "markdown",
   "metadata": {},
   "source": [
    "## Aliases\n",
    "\n",
    "* Use import ... as ... to give a library a short alias while importing it.\n",
    "* Then refer to items in the library using that shortened name."
   ]
  },
  {
   "cell_type": "code",
   "execution_count": 15,
   "metadata": {},
   "outputs": [
    {
     "name": "stdout",
     "output_type": "stream",
     "text": [
      "cos(pi) is -1.0\n"
     ]
    }
   ],
   "source": [
    "import math as m\n",
    "\n",
    "print('cos(pi) is', m.cos(m.pi))"
   ]
  },
  {
   "cell_type": "markdown",
   "metadata": {},
   "source": [
    "# Collections\n",
    "\n",
    "There are four collection data types in the Python programming language:\n",
    "\n",
    "1. List is a collection which is ordered and changeable. Allows duplicate members.\n",
    "2. Tuple is a collection which is ordered and unchangeable. Allows duplicate members.\n",
    "3. Set is a collection which is unordered and unindexed. No duplicate members.\n",
    "4. Dictionary is a collection which is unordered, changeable and indexed. No duplicate members."
   ]
  },
  {
   "cell_type": "markdown",
   "metadata": {},
   "source": [
    "# List\n",
    "\n",
    "A list is a collection which is ordered and changeable. In Python lists are written with square brackets."
   ]
  },
  {
   "cell_type": "code",
   "execution_count": 16,
   "metadata": {},
   "outputs": [
    {
     "name": "stdout",
     "output_type": "stream",
     "text": [
      "['apple', 'banana', 'cherry']\n"
     ]
    }
   ],
   "source": [
    "thislist = [\"apple\", \"banana\", \"cherry\"]\n",
    "print(thislist)"
   ]
  },
  {
   "cell_type": "markdown",
   "metadata": {},
   "source": [
    "## Access Items\n",
    "\n",
    "You access the list items by referring to the index number:"
   ]
  },
  {
   "cell_type": "code",
   "execution_count": 17,
   "metadata": {},
   "outputs": [
    {
     "name": "stdout",
     "output_type": "stream",
     "text": [
      "banana\n"
     ]
    }
   ],
   "source": [
    "thislist = [\"apple\", \"banana\", \"cherry\"]\n",
    "print(thislist[1])"
   ]
  },
  {
   "cell_type": "markdown",
   "metadata": {},
   "source": [
    "## Change Item Value\n",
    "\n",
    "To change the value of a specific item, refer to the index number:"
   ]
  },
  {
   "cell_type": "code",
   "execution_count": 18,
   "metadata": {},
   "outputs": [
    {
     "name": "stdout",
     "output_type": "stream",
     "text": [
      "['not an apple', 'banana', 'cherry']\n"
     ]
    }
   ],
   "source": [
    "thislist[0] = \"not an apple\"\n",
    "print(thislist)"
   ]
  },
  {
   "cell_type": "markdown",
   "metadata": {},
   "source": [
    "## Loop Through a List\n",
    "\n",
    "You can loop through the list items by using a for loop:"
   ]
  },
  {
   "cell_type": "code",
   "execution_count": 19,
   "metadata": {},
   "outputs": [
    {
     "name": "stdout",
     "output_type": "stream",
     "text": [
      "apple\n",
      "banana\n",
      "cherry\n"
     ]
    }
   ],
   "source": [
    "thislist = [\"apple\", \"banana\", \"cherry\"]\n",
    "for x in thislist:\n",
    "    print(x)"
   ]
  },
  {
   "cell_type": "markdown",
   "metadata": {},
   "source": [
    "## Check if Item Exists\n",
    "To determine if a specified item is present in a list use the in keyword:"
   ]
  },
  {
   "cell_type": "code",
   "execution_count": 20,
   "metadata": {},
   "outputs": [
    {
     "name": "stdout",
     "output_type": "stream",
     "text": [
      "Yes, 'apple' is in the fruits list\n"
     ]
    }
   ],
   "source": [
    "thislist = [\"apple\", \"banana\", \"cherry\"]\n",
    "if \"apple\" in thislist:\n",
    "    print(\"Yes, 'apple' is in the fruits list\")"
   ]
  },
  {
   "cell_type": "markdown",
   "metadata": {},
   "source": [
    "## List Length\n",
    "To determine how many items a list has, use the len() method:\n",
    "\n",
    "## Add/remove Items\n",
    "To add an item to the end of the list, use the append() method.\n",
    "\n",
    "To add an item at the specified index, use the insert() method:\n",
    "\n",
    "There are several methods to remove the first instance of the items from a list:\n",
    "- The remove() method removes the specified item:\n",
    "- The pop() method removes the specified index, (or the last item if index is not specified):\n",
    "- The del keyword removes the specified index:"
   ]
  },
  {
   "cell_type": "code",
   "execution_count": 21,
   "metadata": {},
   "outputs": [
    {
     "name": "stdout",
     "output_type": "stream",
     "text": [
      "['apple', 'banana', 'cherry', 'orange']\n"
     ]
    }
   ],
   "source": [
    "thislist = [\"apple\", \"banana\", \"cherry\"]\n",
    "thislist.append(\"orange\")\n",
    "print(thislist)"
   ]
  },
  {
   "cell_type": "code",
   "execution_count": 22,
   "metadata": {},
   "outputs": [
    {
     "name": "stdout",
     "output_type": "stream",
     "text": [
      "['apple', 'orange', 'banana', 'cherry']\n"
     ]
    }
   ],
   "source": [
    "thislist = [\"apple\", \"banana\", \"cherry\"]\n",
    "thislist.insert(1, \"orange\")\n",
    "print(thislist)"
   ]
  },
  {
   "cell_type": "code",
   "execution_count": 23,
   "metadata": {},
   "outputs": [
    {
     "name": "stdout",
     "output_type": "stream",
     "text": [
      "['apple', 'cherry', 'banana']\n"
     ]
    }
   ],
   "source": [
    "thislist = [\"apple\", \"banana\", \"cherry\", \"banana\"]\n",
    "thislist.remove(\"banana\")\n",
    "print(thislist)"
   ]
  },
  {
   "cell_type": "code",
   "execution_count": 24,
   "metadata": {},
   "outputs": [
    {
     "name": "stdout",
     "output_type": "stream",
     "text": [
      "cherry\n",
      "['apple', 'banana']\n"
     ]
    }
   ],
   "source": [
    "thislist = [\"apple\", \"banana\", \"cherry\"]\n",
    "print(thislist.pop())\n",
    "print(thislist)"
   ]
  },
  {
   "cell_type": "code",
   "execution_count": 25,
   "metadata": {},
   "outputs": [
    {
     "name": "stdout",
     "output_type": "stream",
     "text": [
      "['banana', 'cherry']\n"
     ]
    }
   ],
   "source": [
    "thislist = [\"apple\", \"banana\", \"cherry\"]\n",
    "del thislist[0]\n",
    "print(thislist)"
   ]
  },
  {
   "cell_type": "markdown",
   "metadata": {},
   "source": [
    "## The list() Constructor\n",
    "It is also possible to use the list() constructor to make a list."
   ]
  },
  {
   "cell_type": "code",
   "execution_count": 26,
   "metadata": {},
   "outputs": [
    {
     "name": "stdout",
     "output_type": "stream",
     "text": [
      "['apple', 'banana', 'cherry']\n"
     ]
    }
   ],
   "source": [
    "thislist = list((\"apple\", \"banana\", \"cherry\")) # note the double round-brackets\n",
    "print(thislist)"
   ]
  },
  {
   "cell_type": "markdown",
   "metadata": {},
   "source": [
    "## List are heterogeneous\n",
    "\n",
    "Lists may contain values of different types.\n",
    "\n",
    "A single list may contain numbers, strings, and anything else."
   ]
  },
  {
   "cell_type": "code",
   "execution_count": 27,
   "metadata": {},
   "outputs": [
    {
     "data": {
      "text/plain": [
       "[1, 'Create lists.', 2, 'Extract items from lists.', 3, 'Modify lists.']"
      ]
     },
     "execution_count": 27,
     "metadata": {},
     "output_type": "execute_result"
    }
   ],
   "source": [
    "goals = [1, 'Create lists.', 2, 'Extract items from lists.', 3, 'Modify lists.']\n",
    "goals"
   ]
  },
  {
   "cell_type": "markdown",
   "metadata": {},
   "source": [
    "## Character strings\n",
    "\n",
    "Character strings can be indexed like lists.\n",
    "\n",
    "Get single characters from a character string using indexes in square brackets."
   ]
  },
  {
   "cell_type": "code",
   "execution_count": 28,
   "metadata": {},
   "outputs": [
    {
     "name": "stdout",
     "output_type": "stream",
     "text": [
      "zeroth character: c\n",
      "third character: b\n"
     ]
    }
   ],
   "source": [
    "element = 'carbon'\n",
    "print('zeroth character:', element[0])\n",
    "print('third character:', element[3])"
   ]
  },
  {
   "cell_type": "markdown",
   "metadata": {},
   "source": [
    "### Character strings are immutable.\n",
    "\n",
    "Cannot change the characters in a string after it has been created.\n",
    "Immutable: can’t be changed after creation.\n",
    "In contrast, lists are mutable: they can be modified in place.\n",
    "Python considers the string to be a single value with parts, not a collection of values."
   ]
  },
  {
   "cell_type": "code",
   "execution_count": 29,
   "metadata": {},
   "outputs": [
    {
     "ename": "TypeError",
     "evalue": "'str' object does not support item assignment",
     "output_type": "error",
     "traceback": [
      "\u001b[0;31m---------------------------------------------------------------------------\u001b[0m",
      "\u001b[0;31mTypeError\u001b[0m                                 Traceback (most recent call last)",
      "\u001b[0;32m<ipython-input-29-6dc46761ce07>\u001b[0m in \u001b[0;36m<module>\u001b[0;34m\u001b[0m\n\u001b[0;32m----> 1\u001b[0;31m \u001b[0melement\u001b[0m\u001b[0;34m[\u001b[0m\u001b[0;36m0\u001b[0m\u001b[0;34m]\u001b[0m \u001b[0;34m=\u001b[0m \u001b[0;34m'C'\u001b[0m\u001b[0;34m\u001b[0m\u001b[0;34m\u001b[0m\u001b[0m\n\u001b[0m",
      "\u001b[0;31mTypeError\u001b[0m: 'str' object does not support item assignment"
     ]
    }
   ],
   "source": [
    "element[0] = 'C'"
   ]
  },
  {
   "cell_type": "markdown",
   "metadata": {},
   "source": [
    "## Slicing\n",
    "\n",
    "A slice is a part of a string (or, more generally, any list-like thing).\n",
    "\n",
    "We take a slice by using `[start:stop]`, where start is replaced with the index of the first element we want and stop is replaced with the index of the element just after the last element we want.\n",
    "Mathematically, you might say that a slice selects `[start:stop)`.\n",
    "\n",
    "Taking a slice does not change the contents of the original string. Instead, the slice is a copy of part of the original string."
   ]
  },
  {
   "cell_type": "code",
   "execution_count": 30,
   "metadata": {},
   "outputs": [
    {
     "name": "stdout",
     "output_type": "stream",
     "text": [
      "2345\n",
      "23456789\n",
      "012345\n",
      "0123456789\n",
      "0123456789\n"
     ]
    }
   ],
   "source": [
    "string = '0123456789'\n",
    "print(string[2:6])\n",
    "print(string[2:])\n",
    "print(string[:6])\n",
    "print(string[:])\n",
    "print(string)"
   ]
  },
  {
   "cell_type": "markdown",
   "metadata": {},
   "source": [
    "The more general syntax is:\n",
    "[start:end:step]\n",
    "\n",
    "so for example, to reverse a list you can do:\n",
    "[::-1]\n",
    "\n",
    "using -n for the start or stop means the nth position from the last"
   ]
  },
  {
   "cell_type": "code",
   "execution_count": 31,
   "metadata": {},
   "outputs": [
    {
     "name": "stdout",
     "output_type": "stream",
     "text": [
      "[1, 2, 3, 4, 5, 6, 7, 8, 9]\n",
      "[9, 8, 7, 6, 5, 4, 3, 2, 1]\n",
      "[3, 5, 7]\n",
      "[8, 6, 4, 2]\n",
      "[2, 3, 4, 5, 6, 7, 8]\n",
      "[8, 7, 6, 5, 4, 3, 2, 1]\n",
      "[8, 7, 6, 5, 4, 3]\n"
     ]
    }
   ],
   "source": [
    "l = list(range(1,10))\n",
    "print(l)\n",
    "\n",
    "# reverse\n",
    "print(l[::-1])\n",
    "\n",
    "print(l[2:8:2])\n",
    "\n",
    "print(l[7::-2])\n",
    "\n",
    "# trimming first and last\n",
    "print(l[1:-1:])\n",
    "\n",
    "assert l[7::-1] == l[-2::-1], \"Lists are different?!?!\"\n",
    "print(l[-2::-1])\n",
    "\n",
    "assert l[-2:1:-1] == l[7:-8:-1], \"Lists are different?!?!\"\n",
    "print(l[-2:1:-1])"
   ]
  },
  {
   "cell_type": "markdown",
   "metadata": {},
   "source": [
    "# Tuple\n",
    "\n",
    "A tuple is a collection which is ordered and unchangeable. In Python tuples are written with round brackets."
   ]
  },
  {
   "cell_type": "code",
   "execution_count": 32,
   "metadata": {},
   "outputs": [
    {
     "name": "stdout",
     "output_type": "stream",
     "text": [
      "('apple', 'banana', 'cherry')\n"
     ]
    }
   ],
   "source": [
    "thistuple = (\"apple\", \"banana\", \"cherry\")\n",
    "print(thistuple)"
   ]
  },
  {
   "cell_type": "markdown",
   "metadata": {},
   "source": [
    "## Access Tuple Items\n",
    "\n",
    "You can access tuple items by referring to the index number, inside square brackets:"
   ]
  },
  {
   "cell_type": "code",
   "execution_count": 33,
   "metadata": {},
   "outputs": [
    {
     "name": "stdout",
     "output_type": "stream",
     "text": [
      "banana\n"
     ]
    }
   ],
   "source": [
    "thistuple = (\"apple\", \"banana\", \"cherry\")\n",
    "print(thistuple[1])"
   ]
  },
  {
   "cell_type": "markdown",
   "metadata": {},
   "source": [
    "## Change Tuple Values\n",
    "\n",
    "Once a tuple is created, you cannot change its values. Tuples are unchangeable."
   ]
  },
  {
   "cell_type": "code",
   "execution_count": 34,
   "metadata": {},
   "outputs": [
    {
     "ename": "TypeError",
     "evalue": "'tuple' object does not support item assignment",
     "output_type": "error",
     "traceback": [
      "\u001b[0;31m---------------------------------------------------------------------------\u001b[0m",
      "\u001b[0;31mTypeError\u001b[0m                                 Traceback (most recent call last)",
      "\u001b[0;32m<ipython-input-34-8fc40b62bc33>\u001b[0m in \u001b[0;36m<module>\u001b[0;34m\u001b[0m\n\u001b[1;32m      1\u001b[0m \u001b[0mthistuple\u001b[0m \u001b[0;34m=\u001b[0m \u001b[0;34m(\u001b[0m\u001b[0;34m\"apple\"\u001b[0m\u001b[0;34m,\u001b[0m \u001b[0;34m\"banana\"\u001b[0m\u001b[0;34m,\u001b[0m \u001b[0;34m\"cherry\"\u001b[0m\u001b[0;34m)\u001b[0m\u001b[0;34m\u001b[0m\u001b[0;34m\u001b[0m\u001b[0m\n\u001b[0;32m----> 2\u001b[0;31m \u001b[0mthistuple\u001b[0m\u001b[0;34m[\u001b[0m\u001b[0;36m1\u001b[0m\u001b[0;34m]\u001b[0m \u001b[0;34m=\u001b[0m \u001b[0;34m\"blackcurrant\"\u001b[0m\u001b[0;34m\u001b[0m\u001b[0;34m\u001b[0m\u001b[0m\n\u001b[0m",
      "\u001b[0;31mTypeError\u001b[0m: 'tuple' object does not support item assignment"
     ]
    }
   ],
   "source": [
    "thistuple = (\"apple\", \"banana\", \"cherry\")\n",
    "thistuple[1] = \"blackcurrant\""
   ]
  },
  {
   "cell_type": "markdown",
   "metadata": {},
   "source": [
    "## Loop Through a Tuple\n",
    "\n",
    "You can loop through the tuple items by using a for loop."
   ]
  },
  {
   "cell_type": "code",
   "execution_count": 35,
   "metadata": {},
   "outputs": [
    {
     "name": "stdout",
     "output_type": "stream",
     "text": [
      "apple\n",
      "banana\n",
      "cherry\n"
     ]
    }
   ],
   "source": [
    "thistuple = (\"apple\", \"banana\", \"cherry\")\n",
    "for x in thistuple:\n",
    "    print(x)"
   ]
  },
  {
   "cell_type": "markdown",
   "metadata": {},
   "source": [
    "## Check if Item Exists\n",
    "\n",
    "To determine if a specified item is present in a tuple use the in keyword:"
   ]
  },
  {
   "cell_type": "code",
   "execution_count": 36,
   "metadata": {},
   "outputs": [
    {
     "name": "stdout",
     "output_type": "stream",
     "text": [
      "Yes, 'apple' is in the fruits tuple\n"
     ]
    }
   ],
   "source": [
    "thistuple = (\"apple\", \"banana\", \"cherry\")\n",
    "if \"apple\" in thistuple:\n",
    "    print(\"Yes, 'apple' is in the fruits tuple\")"
   ]
  },
  {
   "cell_type": "markdown",
   "metadata": {},
   "source": [
    "## Tuple Length\n",
    "\n",
    "To determine how many items a tuple has, use the len() method:"
   ]
  },
  {
   "cell_type": "code",
   "execution_count": 37,
   "metadata": {},
   "outputs": [
    {
     "name": "stdout",
     "output_type": "stream",
     "text": [
      "3\n"
     ]
    }
   ],
   "source": [
    "thistuple = (\"apple\", \"banana\", \"cherry\")\n",
    "print(len(thistuple))"
   ]
  },
  {
   "cell_type": "markdown",
   "metadata": {},
   "source": [
    "## Add/remove items\n",
    "\n",
    "Once a tuple is created, you cannot add items to it. Tuples are unchangeable.\n",
    "\n",
    "Tuples are unchangeable, so you cannot remove items from it."
   ]
  },
  {
   "cell_type": "code",
   "execution_count": 38,
   "metadata": {},
   "outputs": [
    {
     "ename": "TypeError",
     "evalue": "'tuple' object doesn't support item deletion",
     "output_type": "error",
     "traceback": [
      "\u001b[0;31m---------------------------------------------------------------------------\u001b[0m",
      "\u001b[0;31mTypeError\u001b[0m                                 Traceback (most recent call last)",
      "\u001b[0;32m<ipython-input-38-293ff02c2f14>\u001b[0m in \u001b[0;36m<module>\u001b[0;34m\u001b[0m\n\u001b[1;32m      1\u001b[0m \u001b[0mthistuple\u001b[0m \u001b[0;34m=\u001b[0m \u001b[0;34m(\u001b[0m\u001b[0;34m\"apple\"\u001b[0m\u001b[0;34m,\u001b[0m \u001b[0;34m\"banana\"\u001b[0m\u001b[0;34m,\u001b[0m \u001b[0;34m\"cheery\"\u001b[0m\u001b[0;34m)\u001b[0m\u001b[0;34m\u001b[0m\u001b[0;34m\u001b[0m\u001b[0m\n\u001b[0;32m----> 2\u001b[0;31m \u001b[0;32mdel\u001b[0m \u001b[0mthistuple\u001b[0m\u001b[0;34m[\u001b[0m\u001b[0;36m0\u001b[0m\u001b[0;34m]\u001b[0m\u001b[0;34m\u001b[0m\u001b[0;34m\u001b[0m\u001b[0m\n\u001b[0m",
      "\u001b[0;31mTypeError\u001b[0m: 'tuple' object doesn't support item deletion"
     ]
    }
   ],
   "source": [
    "thistuple = (\"apple\", \"banana\", \"cheery\")\n",
    "del thistuple[0]"
   ]
  },
  {
   "cell_type": "markdown",
   "metadata": {},
   "source": [
    "## The tuple() Constructor\n",
    "\n",
    "It is also possible to use the tuple() constructor to make a tuple."
   ]
  },
  {
   "cell_type": "code",
   "execution_count": 39,
   "metadata": {},
   "outputs": [
    {
     "name": "stdout",
     "output_type": "stream",
     "text": [
      "('apple', 'banana', 'cherry')\n"
     ]
    }
   ],
   "source": [
    "thistuple = tuple((\"apple\", \"banana\", \"cherry\")) # note the double round-brackets\n",
    "print(thistuple)\n"
   ]
  },
  {
   "cell_type": "markdown",
   "metadata": {},
   "source": [
    "## List vs Tuple memory footprint\n",
    "\n",
    "Tuples need less space because they are of fixed size. Lists have one level of indirection more to add new elements. Lists also overallocate to avoid re-allocating all the time. For this reason, they also need to keep track of the filled and allocated size. \n",
    "\n",
    "![list](list.png)"
   ]
  },
  {
   "cell_type": "code",
   "execution_count": 40,
   "metadata": {},
   "outputs": [
    {
     "name": "stdout",
     "output_type": "stream",
     "text": [
      "50\n",
      "28\n",
      "64\n",
      "64\n",
      "50\n",
      "28\n",
      "64\n",
      "64\n",
      "80\n",
      "80\n",
      "40\n",
      "56\n"
     ]
    }
   ],
   "source": [
    "from sys import getsizeof\n",
    "\n",
    "print(getsizeof(\"a\"))\n",
    "print(getsizeof(1))\n",
    "\n",
    "print(getsizeof([\"a\"]))\n",
    "print(getsizeof([1]))\n",
    "print(getsizeof((\"a\")))\n",
    "print(getsizeof((1)))\n",
    "\n",
    "print(getsizeof((\"a\",\"b\",\"c\")))\n",
    "print(getsizeof((1,2,3)))\n",
    "print(getsizeof([\"a\",\"b\",\"c\"]))\n",
    "print(getsizeof([1,2,3]))\n",
    "\n",
    "print(getsizeof(()))\n",
    "print(getsizeof([]))"
   ]
  },
  {
   "cell_type": "markdown",
   "metadata": {},
   "source": [
    "### Overallocation"
   ]
  },
  {
   "cell_type": "code",
   "execution_count": 41,
   "metadata": {},
   "outputs": [
    {
     "name": "stdout",
     "output_type": "stream",
     "text": [
      "56\n",
      "88\n",
      "88\n",
      "88\n",
      "80\n",
      "112\n",
      "80\n"
     ]
    }
   ],
   "source": [
    "a = []\n",
    "print(getsizeof(a))\n",
    "a.append(1)\n",
    "print(getsizeof(a))\n",
    "a.append(2)\n",
    "print(getsizeof(a))\n",
    "a.append(3)\n",
    "print(getsizeof(a))\n",
    "\n",
    "b = [1,2,3]\n",
    "print(getsizeof(b))\n",
    "b.append(4)\n",
    "print(getsizeof(b))\n",
    "\n",
    "print(getsizeof(list(a)))"
   ]
  },
  {
   "cell_type": "markdown",
   "metadata": {},
   "source": [
    "# Set\n",
    "\n",
    "A set is a collection which is unordered and unindexed. In Python sets are written with curly brackets."
   ]
  },
  {
   "cell_type": "code",
   "execution_count": 42,
   "metadata": {},
   "outputs": [
    {
     "name": "stdout",
     "output_type": "stream",
     "text": [
      "{'banana', 'apple', 'cherry'}\n"
     ]
    }
   ],
   "source": [
    "thisset = {\"apple\", \"banana\", \"cherry\"}\n",
    "print(thisset)"
   ]
  },
  {
   "cell_type": "markdown",
   "metadata": {},
   "source": [
    "## Access Items\n",
    "\n",
    "You cannot access items in a set by referring to an index, since sets are unordered the items has no index.\n",
    "\n",
    "But you can loop through the set items using a for loop, or ask if a specified value is present in a set, by using the in keyword."
   ]
  },
  {
   "cell_type": "code",
   "execution_count": 43,
   "metadata": {},
   "outputs": [
    {
     "name": "stdout",
     "output_type": "stream",
     "text": [
      "banana\n",
      "apple\n",
      "cherry\n"
     ]
    }
   ],
   "source": [
    "thisset = {\"apple\", \"banana\", \"cherry\"}\n",
    "\n",
    "for x in thisset:\n",
    "    print(x)\n"
   ]
  },
  {
   "cell_type": "code",
   "execution_count": 44,
   "metadata": {},
   "outputs": [
    {
     "name": "stdout",
     "output_type": "stream",
     "text": [
      "True\n"
     ]
    }
   ],
   "source": [
    "thisset = {\"apple\", \"banana\", \"cherry\"}\n",
    "\n",
    "print(\"banana\" in thisset)"
   ]
  },
  {
   "cell_type": "markdown",
   "metadata": {},
   "source": [
    "## Change/add/remove Items\n",
    "\n",
    "Once a set is created, you cannot change its items, but you can add new items.\n",
    "\n",
    "To add one item to a set use the add() method.\n",
    "\n",
    "To add more than one item to a set use the update() method.\n",
    "\n",
    "To remove an item in a set, use the remove(), or the discard() method.\n",
    "\n",
    "You can also use the pop(), method to remove an item, but this method will remove the last item. Remember that sets are unordered, so you will not know what item that gets removed.\n",
    "The return value of the pop() method is the removed item."
   ]
  },
  {
   "cell_type": "code",
   "execution_count": 45,
   "metadata": {},
   "outputs": [
    {
     "name": "stdout",
     "output_type": "stream",
     "text": [
      "{'banana', 'apple', 'orange', 'cherry'}\n"
     ]
    }
   ],
   "source": [
    "thisset = {\"apple\", \"banana\", \"cherry\"}\n",
    "thisset.add(\"orange\")\n",
    "print(thisset)"
   ]
  },
  {
   "cell_type": "code",
   "execution_count": 46,
   "metadata": {},
   "outputs": [
    {
     "name": "stdout",
     "output_type": "stream",
     "text": [
      "{'banana', 'orange', 'grapes', 'cherry', 'mango', 'apple'}\n"
     ]
    }
   ],
   "source": [
    "thisset = {\"apple\", \"banana\", \"cherry\"}\n",
    "thisset.update([\"orange\", \"mango\", \"grapes\"])\n",
    "print(thisset)"
   ]
  },
  {
   "cell_type": "code",
   "execution_count": 47,
   "metadata": {},
   "outputs": [
    {
     "name": "stdout",
     "output_type": "stream",
     "text": [
      "{'apple', 'cherry'}\n"
     ]
    }
   ],
   "source": [
    "thisset = {\"apple\", \"banana\", \"cherry\"}\n",
    "thisset.remove(\"banana\")\n",
    "print(thisset)"
   ]
  },
  {
   "cell_type": "code",
   "execution_count": 48,
   "metadata": {},
   "outputs": [
    {
     "ename": "KeyError",
     "evalue": "'orange'",
     "output_type": "error",
     "traceback": [
      "\u001b[0;31m---------------------------------------------------------------------------\u001b[0m",
      "\u001b[0;31mKeyError\u001b[0m                                  Traceback (most recent call last)",
      "\u001b[0;32m<ipython-input-48-c4725c14f245>\u001b[0m in \u001b[0;36m<module>\u001b[0;34m\u001b[0m\n\u001b[1;32m      1\u001b[0m \u001b[0mthisset\u001b[0m \u001b[0;34m=\u001b[0m \u001b[0;34m{\u001b[0m\u001b[0;34m\"apple\"\u001b[0m\u001b[0;34m,\u001b[0m \u001b[0;34m\"banana\"\u001b[0m\u001b[0;34m,\u001b[0m \u001b[0;34m\"cherry\"\u001b[0m\u001b[0;34m}\u001b[0m\u001b[0;34m\u001b[0m\u001b[0;34m\u001b[0m\u001b[0m\n\u001b[1;32m      2\u001b[0m \u001b[0;31m# Note: If the item to remove does not exist, remove() will raise an error.\u001b[0m\u001b[0;34m\u001b[0m\u001b[0;34m\u001b[0m\u001b[0;34m\u001b[0m\u001b[0m\n\u001b[0;32m----> 3\u001b[0;31m \u001b[0mthisset\u001b[0m\u001b[0;34m.\u001b[0m\u001b[0mremove\u001b[0m\u001b[0;34m(\u001b[0m\u001b[0;34m\"orange\"\u001b[0m\u001b[0;34m)\u001b[0m\u001b[0;34m\u001b[0m\u001b[0;34m\u001b[0m\u001b[0m\n\u001b[0m",
      "\u001b[0;31mKeyError\u001b[0m: 'orange'"
     ]
    }
   ],
   "source": [
    "thisset = {\"apple\", \"banana\", \"cherry\"}\n",
    "# Note: If the item to remove does not exist, remove() will raise an error.\n",
    "thisset.remove(\"orange\")"
   ]
  },
  {
   "cell_type": "code",
   "execution_count": 49,
   "metadata": {},
   "outputs": [
    {
     "name": "stdout",
     "output_type": "stream",
     "text": [
      "{'banana', 'apple', 'cherry'}\n"
     ]
    }
   ],
   "source": [
    "thisset = {\"apple\", \"banana\", \"cherry\"}\n",
    "# Note: If the item to remove does not exist, discard() will NOT raise an error.\n",
    "thisset.discard(\"orange\")\n",
    "print(thisset)"
   ]
  },
  {
   "cell_type": "code",
   "execution_count": 50,
   "metadata": {},
   "outputs": [
    {
     "name": "stdout",
     "output_type": "stream",
     "text": [
      "banana\n",
      "{'apple', 'cherry'}\n"
     ]
    }
   ],
   "source": [
    "thisset = {\"apple\", \"banana\", \"cherry\"}\n",
    "# Note: Sets are unordered, so when using the pop() method, you will not know which item that gets removed.\n",
    "x = thisset.pop()\n",
    "print(x)\n",
    "print(thisset)"
   ]
  },
  {
   "cell_type": "code",
   "execution_count": 51,
   "metadata": {},
   "outputs": [
    {
     "name": "stdout",
     "output_type": "stream",
     "text": [
      "set()\n"
     ]
    }
   ],
   "source": [
    "thisset = {\"apple\", \"banana\", \"cherry\"}\n",
    "thisset.clear()\n",
    "print(thisset)"
   ]
  },
  {
   "cell_type": "markdown",
   "metadata": {},
   "source": [
    "## Get the Length of a Set\n",
    "\n",
    "To determine how many items a set has, use the len() method."
   ]
  },
  {
   "cell_type": "code",
   "execution_count": 52,
   "metadata": {},
   "outputs": [
    {
     "name": "stdout",
     "output_type": "stream",
     "text": [
      "3\n"
     ]
    }
   ],
   "source": [
    "thisset = {\"apple\", \"banana\", \"cherry\"}\n",
    "print(len(thisset))"
   ]
  },
  {
   "cell_type": "markdown",
   "metadata": {},
   "source": [
    "## The set() Constructor\n",
    "\n",
    "It is also possible to use the set() constructor to make a set."
   ]
  },
  {
   "cell_type": "code",
   "execution_count": 53,
   "metadata": {},
   "outputs": [
    {
     "name": "stdout",
     "output_type": "stream",
     "text": [
      "{'banana', 'apple', 'cherry'}\n"
     ]
    }
   ],
   "source": [
    "thisset = set((\"apple\", \"banana\", \"cherry\")) # note the double round-brackets\n",
    "print(thisset)"
   ]
  },
  {
   "cell_type": "markdown",
   "metadata": {},
   "source": [
    "# Dictionary\n",
    "\n",
    "A dictionary is a collection which is unordered, changeable and indexed. In Python dictionaries are written with curly brackets, and they have keys and values."
   ]
  },
  {
   "cell_type": "code",
   "execution_count": 54,
   "metadata": {},
   "outputs": [
    {
     "name": "stdout",
     "output_type": "stream",
     "text": [
      "{'brand': 'Ford', 'model': 'Mustang', 'year': 1964}\n"
     ]
    }
   ],
   "source": [
    "thisdict = {\n",
    "    \"brand\": \"Ford\",\n",
    "    \"model\": \"Mustang\",\n",
    "    \"year\": 1964\n",
    "}\n",
    "print(thisdict)"
   ]
  },
  {
   "cell_type": "markdown",
   "metadata": {},
   "source": [
    "## Accessing Items\n",
    "\n",
    "You can access the items of a dictionary by referring to its key name, inside square brackets.\n",
    "\n",
    "There is also a method called get() that will give you the same result."
   ]
  },
  {
   "cell_type": "code",
   "execution_count": 55,
   "metadata": {},
   "outputs": [
    {
     "name": "stdout",
     "output_type": "stream",
     "text": [
      "Mustang\n",
      "Mustang\n"
     ]
    }
   ],
   "source": [
    "x = thisdict[\"model\"]\n",
    "print(x)\n",
    "y = thisdict.get(\"model\")\n",
    "print(y)"
   ]
  },
  {
   "cell_type": "markdown",
   "metadata": {},
   "source": [
    "## Change Values\n",
    "\n",
    "You can change the value of a specific item by referring to its key name:"
   ]
  },
  {
   "cell_type": "code",
   "execution_count": 56,
   "metadata": {},
   "outputs": [
    {
     "name": "stdout",
     "output_type": "stream",
     "text": [
      "{'brand': 'Ford', 'model': 'Mustang', 'year': 2018}\n"
     ]
    }
   ],
   "source": [
    "thisdict = {\n",
    "    \"brand\": \"Ford\",\n",
    "    \"model\": \"Mustang\",\n",
    "    \"year\": 1964\n",
    "}\n",
    "thisdict[\"year\"] = 2018\n",
    "print(thisdict)"
   ]
  },
  {
   "cell_type": "markdown",
   "metadata": {},
   "source": [
    "## Loop Through a Dictionary\n",
    "\n",
    "You can loop through a dictionary by using a for loop.\n",
    "\n",
    "When looping through a dictionary, the return value are the keys of the dictionary, but there are methods to return the values as well."
   ]
  },
  {
   "cell_type": "code",
   "execution_count": 57,
   "metadata": {},
   "outputs": [
    {
     "name": "stdout",
     "output_type": "stream",
     "text": [
      "key = brand \t value = Ford\n",
      "key = model \t value = Mustang\n",
      "key = year \t value = 2018\n"
     ]
    }
   ],
   "source": [
    "for x in thisdict:\n",
    "    print('key =', x, '\\t value =', thisdict[x])"
   ]
  },
  {
   "cell_type": "code",
   "execution_count": 58,
   "metadata": {},
   "outputs": [
    {
     "name": "stdout",
     "output_type": "stream",
     "text": [
      "Ford\n",
      "Mustang\n",
      "2018\n"
     ]
    }
   ],
   "source": [
    "for x in thisdict.values():\n",
    "    print(x)      "
   ]
  },
  {
   "cell_type": "code",
   "execution_count": 59,
   "metadata": {},
   "outputs": [
    {
     "name": "stdout",
     "output_type": "stream",
     "text": [
      "key= brand \t value =  Ford\n",
      "key= model \t value =  Mustang\n",
      "key= year \t value =  2018\n"
     ]
    }
   ],
   "source": [
    "for x, y in thisdict.items():\n",
    "    print('key=', x, '\\t value = ', y)"
   ]
  },
  {
   "cell_type": "markdown",
   "metadata": {},
   "source": [
    "## Check if Key Exists\n",
    "\n",
    "To determine if a specified key is present in a dictionary use the `in` keyword:"
   ]
  },
  {
   "cell_type": "code",
   "execution_count": 60,
   "metadata": {},
   "outputs": [
    {
     "name": "stdout",
     "output_type": "stream",
     "text": [
      "Yes, 'model' is one of the keys in the thisdict dictionary\n"
     ]
    }
   ],
   "source": [
    "thisdict = {\n",
    "    \"brand\": \"Ford\",\n",
    "    \"model\": \"Mustang\",\n",
    "    \"year\": 1964\n",
    "}\n",
    "\n",
    "if \"model\" in thisdict:\n",
    "    print(\"Yes, 'model' is one of the keys in the thisdict dictionary\")"
   ]
  },
  {
   "cell_type": "markdown",
   "metadata": {},
   "source": [
    "## Dictionary Length\n",
    "\n",
    "To determine how many items (key-value pairs) a dictionary has, use the len() method."
   ]
  },
  {
   "cell_type": "code",
   "execution_count": 61,
   "metadata": {},
   "outputs": [
    {
     "name": "stdout",
     "output_type": "stream",
     "text": [
      "3\n"
     ]
    }
   ],
   "source": [
    "print(len(thisdict))"
   ]
  },
  {
   "cell_type": "markdown",
   "metadata": {},
   "source": [
    "## Adding/removing Items\n",
    "\n",
    "Adding an item to the dictionary is done by using a new index key and assigning a value to it.\n",
    "\n",
    "There are several methods to remove items from a dictionary:\n",
    "- The pop() method removes the item with the specified key name\n",
    "- The popitem() method removes a random item\n",
    "- The del keyword removes the item with the specified key name"
   ]
  },
  {
   "cell_type": "code",
   "execution_count": 62,
   "metadata": {},
   "outputs": [
    {
     "name": "stdout",
     "output_type": "stream",
     "text": [
      "{'brand': 'Ford', 'model': 'Mustang', 'year': 1964, 'color': 'red'}\n"
     ]
    }
   ],
   "source": [
    "thisdict = {\n",
    "    \"brand\": \"Ford\",\n",
    "    \"model\": \"Mustang\",\n",
    "    \"year\": 1964\n",
    "}\n",
    "thisdict[\"color\"] = \"red\"\n",
    "print(thisdict)"
   ]
  },
  {
   "cell_type": "code",
   "execution_count": 63,
   "metadata": {},
   "outputs": [
    {
     "name": "stdout",
     "output_type": "stream",
     "text": [
      "{'brand': 'Ford', 'year': 1964}\n"
     ]
    }
   ],
   "source": [
    "thisdict = {\n",
    "    \"brand\": \"Ford\",\n",
    "    \"model\": \"Mustang\",\n",
    "    \"year\": 1964\n",
    "}\n",
    "thisdict.pop(\"model\")\n",
    "print(thisdict)"
   ]
  },
  {
   "cell_type": "code",
   "execution_count": 64,
   "metadata": {},
   "outputs": [
    {
     "name": "stdout",
     "output_type": "stream",
     "text": [
      "{'brand': 'Ford', 'model': 'Mustang'}\n"
     ]
    }
   ],
   "source": [
    "thisdict = {\n",
    "    \"brand\": \"Ford\",\n",
    "    \"model\": \"Mustang\",\n",
    "    \"year\": 1964\n",
    "}\n",
    "thisdict.popitem()\n",
    "print(thisdict)"
   ]
  },
  {
   "cell_type": "code",
   "execution_count": 65,
   "metadata": {},
   "outputs": [
    {
     "name": "stdout",
     "output_type": "stream",
     "text": [
      "{'brand': 'Ford', 'year': 1964}\n"
     ]
    }
   ],
   "source": [
    "thisdict = {\n",
    "    \"brand\": \"Ford\",\n",
    "    \"model\": \"Mustang\",\n",
    "    \"year\": 1964\n",
    "}\n",
    "del thisdict[\"model\"]\n",
    "print(thisdict)"
   ]
  },
  {
   "cell_type": "markdown",
   "metadata": {},
   "source": [
    "## The dict() Constructor\n",
    "\n",
    "It is also possible to use the dict() constructor to make a dictionary:"
   ]
  },
  {
   "cell_type": "code",
   "execution_count": 66,
   "metadata": {},
   "outputs": [
    {
     "name": "stdout",
     "output_type": "stream",
     "text": [
      "{'brand': 'Ford', 'model': 'Mustang', 'year': 1964}\n"
     ]
    }
   ],
   "source": [
    "thisdict = dict(brand=\"Ford\", model=\"Mustang\", year=1964)\n",
    "# note that keywords are not string literals\n",
    "# note the use of equals rather than colon for the assignment\n",
    "print(thisdict)"
   ]
  },
  {
   "cell_type": "markdown",
   "metadata": {},
   "source": [
    "## Defaultdict\n",
    "\n",
    "A very handy data structure to create dictionaries of other data structures (e.g., dictionary of lists, of sets, of dictionaries). It is part of the `collections` library"
   ]
  },
  {
   "cell_type": "code",
   "execution_count": 67,
   "metadata": {},
   "outputs": [
    {
     "data": {
      "text/plain": [
       "defaultdict(list, {'odd': [1, 3, 5, 7, 9], 'even': [2, 4, 6, 8]})"
      ]
     },
     "execution_count": 67,
     "metadata": {},
     "output_type": "execute_result"
    }
   ],
   "source": [
    "from collections import defaultdict\n",
    "\n",
    "a = defaultdict(list)\n",
    "\n",
    "for i in range(1,10):\n",
    "    if i % 2 == 0:\n",
    "        a['even'].append(i)\n",
    "    else:\n",
    "        a['odd'].append(i)\n",
    "        \n",
    "a"
   ]
  },
  {
   "cell_type": "markdown",
   "metadata": {},
   "source": [
    "# Conditions and If statements\n",
    "\n",
    "Python supports the usual logical conditions from mathematics:\n",
    "\n",
    "- Equals: `a == b`\n",
    "- Not Equals: `a != b`\n",
    "- Less than: `a < b`\n",
    "- Less than or equal to: `a <= b`\n",
    "- Greater than: `a > b`\n",
    "- Greater than or equal to: `a >= b`\n",
    "\n",
    "These conditions can be used in several ways, most commonly in \"if statements\" and loops.\n",
    "\n",
    "An \"if statement\" is written by using the if keyword."
   ]
  },
  {
   "cell_type": "code",
   "execution_count": 68,
   "metadata": {},
   "outputs": [
    {
     "name": "stdout",
     "output_type": "stream",
     "text": [
      "b is greater than a\n"
     ]
    }
   ],
   "source": [
    "a = 33\n",
    "b = 200\n",
    "if b > a:\n",
    "    print(\"b is greater than a\")"
   ]
  },
  {
   "cell_type": "markdown",
   "metadata": {},
   "source": [
    "In this example we use two variables, a and b, which are used as part of the if statement to test whether b is greater than a. As a is 33, and b is 200, we know that 200 is greater than 33, and so we print to screen that \"b is greater than a\".\n",
    "\n",
    "## Indentation\n",
    "\n",
    "Python relies on indentation, using whitespace, to define scope in the code. Other programming languages often use curly-brackets for this purpose."
   ]
  },
  {
   "cell_type": "code",
   "execution_count": 69,
   "metadata": {},
   "outputs": [
    {
     "ename": "IndentationError",
     "evalue": "expected an indented block (<ipython-input-69-4276c1871af7>, line 4)",
     "output_type": "error",
     "traceback": [
      "\u001b[0;36m  File \u001b[0;32m\"<ipython-input-69-4276c1871af7>\"\u001b[0;36m, line \u001b[0;32m4\u001b[0m\n\u001b[0;31m    print(\"b is greater than a\") # you will get an error\u001b[0m\n\u001b[0m    ^\u001b[0m\n\u001b[0;31mIndentationError\u001b[0m\u001b[0;31m:\u001b[0m expected an indented block\n"
     ]
    }
   ],
   "source": [
    "a = 33\n",
    "b = 200\n",
    "if b > a:\n",
    "print(\"b is greater than a\") # you will get an error"
   ]
  },
  {
   "cell_type": "markdown",
   "metadata": {},
   "source": [
    "## Elif\n",
    "\n",
    "The elif keyword is pythons way of saying \"if the previous conditions were not true, then try this condition\"."
   ]
  },
  {
   "cell_type": "code",
   "execution_count": 70,
   "metadata": {},
   "outputs": [
    {
     "name": "stdout",
     "output_type": "stream",
     "text": [
      "a and b are equal\n"
     ]
    }
   ],
   "source": [
    "a = 33\n",
    "b = 33\n",
    "if b > a:\n",
    "    print(\"b is greater than a\")\n",
    "elif a == b:\n",
    "    print(\"a and b are equal\")"
   ]
  },
  {
   "cell_type": "markdown",
   "metadata": {},
   "source": [
    "In this example a is equal to b, so the first condition is not true, but the elif condition is true, so we print to screen that \"a and b are equal\".\n",
    "\n",
    "## Else\n",
    "\n",
    "The else keyword catches anything which isn't caught by the preceding conditions."
   ]
  },
  {
   "cell_type": "code",
   "execution_count": 71,
   "metadata": {},
   "outputs": [
    {
     "name": "stdout",
     "output_type": "stream",
     "text": [
      "a is greater than b\n"
     ]
    }
   ],
   "source": [
    "a = 200\n",
    "b = 33\n",
    "if b > a:\n",
    "    print(\"b is greater than a\")\n",
    "elif a == b:\n",
    "    print(\"a and b are equal\")\n",
    "else:\n",
    "    print(\"a is greater than b\")"
   ]
  },
  {
   "cell_type": "markdown",
   "metadata": {},
   "source": [
    "In this example a is greater to b, so the first condition is not true, also the elif condition is not true, so we go to the else condition and print to screen that \"a is greater than b\".\n",
    "\n",
    "## Short Hand If / If ... Else\n",
    "\n",
    "If you have only one statement to execute, you can put it on the same line as the if statement. Same if you have one if and one else."
   ]
  },
  {
   "cell_type": "code",
   "execution_count": 72,
   "metadata": {},
   "outputs": [
    {
     "name": "stdout",
     "output_type": "stream",
     "text": [
      "a is greater than b\n"
     ]
    }
   ],
   "source": [
    "if a > b: print(\"a is greater than b\")"
   ]
  },
  {
   "cell_type": "code",
   "execution_count": 73,
   "metadata": {},
   "outputs": [
    {
     "data": {
      "text/plain": [
       "[1, 4, 3, 8, 5, 12, 7, 16, 9]"
      ]
     },
     "execution_count": 73,
     "metadata": {},
     "output_type": "execute_result"
    }
   ],
   "source": [
    "r = range(1,10)\n",
    "r2 = [x * 2 if x % 2 == 0 else x for x in r]\n",
    "r2"
   ]
  },
  {
   "cell_type": "markdown",
   "metadata": {},
   "source": [
    "General syntax is:\n",
    "\n",
    "true_exp if condition else false_exp\n"
   ]
  },
  {
   "cell_type": "code",
   "execution_count": 74,
   "metadata": {},
   "outputs": [
    {
     "name": "stdout",
     "output_type": "stream",
     "text": [
      "true\n"
     ]
    },
    {
     "data": {
      "text/plain": [
       "0"
      ]
     },
     "execution_count": 74,
     "metadata": {},
     "output_type": "execute_result"
    }
   ],
   "source": [
    "print(\"true\") if 1 == 1 else print(\"false\")\n",
    "a = 1 if 1 == 2 else 0\n",
    "a"
   ]
  },
  {
   "cell_type": "markdown",
   "metadata": {},
   "source": [
    "## and / or\n",
    "\n",
    "The and keyword is a logical operator, and is used to combine conditional statements.\n",
    "\n",
    "The or keyword is a logical operator, and is used to combine conditional statements."
   ]
  },
  {
   "cell_type": "code",
   "execution_count": 75,
   "metadata": {},
   "outputs": [
    {
     "name": "stdout",
     "output_type": "stream",
     "text": [
      "Both conditions are True\n"
     ]
    }
   ],
   "source": [
    "a = 10\n",
    "b = 5\n",
    "c = 20\n",
    "\n",
    "if a > b and c > a:\n",
    "    print(\"Both conditions are True\")"
   ]
  },
  {
   "cell_type": "code",
   "execution_count": 76,
   "metadata": {},
   "outputs": [
    {
     "name": "stdout",
     "output_type": "stream",
     "text": [
      "At least one of the conditions is True\n"
     ]
    }
   ],
   "source": [
    "if a > b or a > c:\n",
    "    print(\"At least one of the conditions is True\")"
   ]
  },
  {
   "cell_type": "markdown",
   "metadata": {},
   "source": [
    "Or is also used in assignment as a convenience method to avoid assigning something to None"
   ]
  },
  {
   "cell_type": "code",
   "execution_count": 10,
   "metadata": {},
   "outputs": [
    {
     "data": {
      "text/plain": [
       "'value'"
      ]
     },
     "execution_count": 10,
     "metadata": {},
     "output_type": "execute_result"
    }
   ],
   "source": [
    "n = None\n",
    "\n",
    "val = n or \"value\"\n",
    "val"
   ]
  },
  {
   "cell_type": "markdown",
   "metadata": {},
   "source": [
    "# The while Loop\n",
    "\n",
    "With the while loop we can execute a set of statements as long as a condition is true.\n",
    "\n",
    "The while loop requires relevant variables to be ready, in the following example we need to define an indexing variable, i, which we set to 1."
   ]
  },
  {
   "cell_type": "code",
   "execution_count": 77,
   "metadata": {},
   "outputs": [
    {
     "name": "stdout",
     "output_type": "stream",
     "text": [
      "1\n",
      "2\n",
      "3\n",
      "4\n",
      "5\n"
     ]
    }
   ],
   "source": [
    "i = 1\n",
    "while i < 6:\n",
    "    print(i)\n",
    "    i += 1"
   ]
  },
  {
   "cell_type": "markdown",
   "metadata": {},
   "source": [
    "## The break and continue statements\n",
    "\n",
    "With the break statement we can stop the loop even if the while condition is true.\n",
    "\n",
    "With the continue statement we can stop the current iteration, and continue with the next:"
   ]
  },
  {
   "cell_type": "code",
   "execution_count": 78,
   "metadata": {},
   "outputs": [
    {
     "name": "stdout",
     "output_type": "stream",
     "text": [
      "1\n",
      "2\n",
      "3\n"
     ]
    }
   ],
   "source": [
    "i = 1\n",
    "while i < 6:\n",
    "    print(i)\n",
    "    if i == 3:\n",
    "        break\n",
    "    i += 1"
   ]
  },
  {
   "cell_type": "code",
   "execution_count": 79,
   "metadata": {},
   "outputs": [
    {
     "name": "stdout",
     "output_type": "stream",
     "text": [
      "1\n",
      "2\n",
      "4\n",
      "5\n",
      "6\n"
     ]
    }
   ],
   "source": [
    "i = 0\n",
    "while i < 6:\n",
    "    i += 1 \n",
    "    if i == 3:\n",
    "        continue\n",
    "    print(i)"
   ]
  },
  {
   "cell_type": "markdown",
   "metadata": {},
   "source": [
    "# For Loops\n",
    "\n",
    "A for loop is used for iterating over a sequence (that is either a list, a tuple, a dictionary, a set, a string, or an iterator).\n",
    "\n",
    "This is less like the for keyword in other programming language, and works more like an iterator method as found in other object-orientated programming languages.\n",
    "\n",
    "With the for loop we can execute a set of statements, once for each item in a list, tuple, set etc.\n",
    "    \n",
    "The for loop does not require an indexing variable to set beforehand."
   ]
  },
  {
   "cell_type": "code",
   "execution_count": 80,
   "metadata": {},
   "outputs": [
    {
     "name": "stdout",
     "output_type": "stream",
     "text": [
      "apple\n",
      "banana\n",
      "cherry\n"
     ]
    }
   ],
   "source": [
    "fruits = [\"apple\", \"banana\", \"cherry\"]\n",
    "for x in fruits:\n",
    "    print(x)"
   ]
  },
  {
   "cell_type": "markdown",
   "metadata": {},
   "source": [
    "## Looping Through a String\n",
    "\n",
    "Even strings are iterable objects, they contain a sequence of characters:"
   ]
  },
  {
   "cell_type": "code",
   "execution_count": 81,
   "metadata": {},
   "outputs": [
    {
     "name": "stdout",
     "output_type": "stream",
     "text": [
      "b\n",
      "a\n",
      "n\n",
      "a\n",
      "n\n",
      "a\n"
     ]
    }
   ],
   "source": [
    "for x in \"banana\":\n",
    "    print(x)"
   ]
  },
  {
   "cell_type": "markdown",
   "metadata": {},
   "source": [
    "## The break Statement\n",
    "\n",
    "With the break statement we can stop the loop before it has looped through all the items:"
   ]
  },
  {
   "cell_type": "code",
   "execution_count": 82,
   "metadata": {},
   "outputs": [
    {
     "name": "stdout",
     "output_type": "stream",
     "text": [
      "apple\n",
      "banana\n"
     ]
    }
   ],
   "source": [
    "fruits = [\"apple\", \"banana\", \"cherry\"]\n",
    "for x in fruits:\n",
    "    print(x)\n",
    "    if x == \"banana\":\n",
    "        break"
   ]
  },
  {
   "cell_type": "code",
   "execution_count": 83,
   "metadata": {},
   "outputs": [
    {
     "name": "stdout",
     "output_type": "stream",
     "text": [
      "apple\n"
     ]
    }
   ],
   "source": [
    "fruits = [\"apple\", \"banana\", \"cherry\"]\n",
    "for x in fruits:\n",
    "    if x == \"banana\":\n",
    "        break\n",
    "    print(x)"
   ]
  },
  {
   "cell_type": "markdown",
   "metadata": {},
   "source": [
    "## The continue Statement\n",
    "\n",
    "With the continue statement we can stop the current iteration of the loop, and continue with the next:"
   ]
  },
  {
   "cell_type": "code",
   "execution_count": 84,
   "metadata": {},
   "outputs": [
    {
     "name": "stdout",
     "output_type": "stream",
     "text": [
      "apple\n",
      "cherry\n"
     ]
    }
   ],
   "source": [
    "fruits = [\"apple\", \"banana\", \"cherry\"]\n",
    "for x in fruits:\n",
    "    if x == \"banana\":\n",
    "        continue\n",
    "    print(x)"
   ]
  },
  {
   "cell_type": "markdown",
   "metadata": {},
   "source": [
    "## The range() Function\n",
    "\n",
    "To loop through a set of code a specified number of times, we can use the range() function,\n",
    "The range() function returns a sequence of numbers, starting from 0 by default, and increments by 1 (by default), and ends at a specified number.\n",
    "\n",
    "The range() function defaults to 0 as a starting value, however it is possible to specify the starting value by adding a parameter: `range(2, 6)`, which means values from 2 to 6 (but not including 6).\n",
    "\n",
    "The range() function defaults to increment the sequence by 1, however it is possible to specify the increment value by adding a third parameter: `range(2, 30, 3)`."
   ]
  },
  {
   "cell_type": "code",
   "execution_count": 85,
   "metadata": {},
   "outputs": [
    {
     "name": "stdout",
     "output_type": "stream",
     "text": [
      "0\n",
      "1\n",
      "2\n",
      "3\n",
      "4\n",
      "5\n"
     ]
    }
   ],
   "source": [
    "for x in range(6):\n",
    "    print(x)"
   ]
  },
  {
   "cell_type": "code",
   "execution_count": 86,
   "metadata": {},
   "outputs": [
    {
     "name": "stdout",
     "output_type": "stream",
     "text": [
      "2\n",
      "3\n",
      "4\n",
      "5\n"
     ]
    }
   ],
   "source": [
    "for x in range(2, 6):\n",
    "    print(x)"
   ]
  },
  {
   "cell_type": "code",
   "execution_count": 87,
   "metadata": {},
   "outputs": [
    {
     "name": "stdout",
     "output_type": "stream",
     "text": [
      "2\n",
      "5\n",
      "8\n"
     ]
    }
   ],
   "source": [
    "for x in range(2, 10, 3):\n",
    "    print(x)"
   ]
  },
  {
   "cell_type": "markdown",
   "metadata": {},
   "source": [
    "## Else in For Loop\n",
    "\n",
    "The else keyword in a for loop specifies a block of code to be executed when the loop is finished."
   ]
  },
  {
   "cell_type": "code",
   "execution_count": 88,
   "metadata": {},
   "outputs": [
    {
     "name": "stdout",
     "output_type": "stream",
     "text": [
      "0\n",
      "1\n",
      "2\n",
      "3\n",
      "4\n",
      "5\n",
      "Finally finished!\n"
     ]
    }
   ],
   "source": [
    "for x in range(6):\n",
    "    print(x)\n",
    "else:\n",
    "    print(\"Finally finished!\")"
   ]
  },
  {
   "cell_type": "markdown",
   "metadata": {},
   "source": [
    "## Nested Loops\n",
    "\n",
    "A nested loop is a loop inside a loop.\n",
    "\n",
    "The \"inner loop\" will be executed one time for each iteration of the \"outer loop\"."
   ]
  },
  {
   "cell_type": "code",
   "execution_count": 89,
   "metadata": {},
   "outputs": [
    {
     "name": "stdout",
     "output_type": "stream",
     "text": [
      "red apple\n",
      "red banana\n",
      "red cherry\n",
      "big apple\n",
      "big banana\n",
      "big cherry\n",
      "tasty apple\n",
      "tasty banana\n",
      "tasty cherry\n"
     ]
    }
   ],
   "source": [
    "adj = [\"red\", \"big\", \"tasty\"]\n",
    "fruits = [\"apple\", \"banana\", \"cherry\"]\n",
    "\n",
    "for x in adj:\n",
    "    for y in fruits:\n",
    "        print(x, y)"
   ]
  },
  {
   "cell_type": "markdown",
   "metadata": {},
   "source": [
    "# Functions\n",
    "\n",
    "A function is a block of code which only runs when it is called.\n",
    "\n",
    "You can pass data, known as parameters, into a function.\n",
    "\n",
    "A function can return data as a result.\n",
    "\n",
    "## Creating and calling a function\n",
    "\n",
    "In Python a function is defined using the def keyword.\n",
    "\n",
    "To call a function, use the function name followed by parenthesis."
   ]
  },
  {
   "cell_type": "code",
   "execution_count": 90,
   "metadata": {},
   "outputs": [
    {
     "name": "stdout",
     "output_type": "stream",
     "text": [
      "Hello from a function\n"
     ]
    }
   ],
   "source": [
    "def my_function():\n",
    "    print(\"Hello from a function\")\n",
    "\n",
    "my_function()"
   ]
  },
  {
   "cell_type": "markdown",
   "metadata": {},
   "source": [
    "## Parameters\n",
    "\n",
    "Information can be passed to functions as parameter.\n",
    "\n",
    "Parameters are specified after the function name, inside the parentheses. You can add as many parameters as you want, just separate them with a comma.\n",
    "\n",
    "The following example has a function with one parameter (fname). When the function is called, we pass along a first name, which is used inside the function to print a message."
   ]
  },
  {
   "cell_type": "code",
   "execution_count": 91,
   "metadata": {},
   "outputs": [
    {
     "name": "stdout",
     "output_type": "stream",
     "text": [
      "Hello I am Emil\n",
      "Hello I am Tobias\n",
      "Hello I am Linus\n"
     ]
    }
   ],
   "source": [
    "def my_function(fname):\n",
    "    print(\"Hello I am\", fname)\n",
    "\n",
    "my_function(\"Emil\")\n",
    "my_function(\"Tobias\")\n",
    "my_function(\"Linus\")"
   ]
  },
  {
   "cell_type": "markdown",
   "metadata": {},
   "source": [
    "Arguments can be passed positionally or by name. When using name the order does not matter, whereas it does when passing argument positionally."
   ]
  },
  {
   "cell_type": "code",
   "execution_count": 92,
   "metadata": {},
   "outputs": [
    {
     "name": "stdout",
     "output_type": "stream",
     "text": [
      "a=a, b=b, c=c\n",
      "a=c, b=a, c=b\n",
      "a=a, b=b, c=c\n",
      "a=a, b=b, c=c\n"
     ]
    }
   ],
   "source": [
    "def foo(a,b,c):\n",
    "    print(f\"a={a}, b={b}, c={c}\")\n",
    "\n",
    "foo(\"a\",\"b\",\"c\")\n",
    "foo(\"c\", \"a\", \"b\")\n",
    "foo(a=\"a\", b=\"b\", c=\"c\")\n",
    "foo(c=\"c\", a=\"a\", b=\"b\")"
   ]
  },
  {
   "cell_type": "markdown",
   "metadata": {},
   "source": [
    "## Default Parameter Value\n",
    "\n",
    "The following example shows how to use a default parameter value.\n",
    "\n",
    "If we call the function without parameter, it uses the default value."
   ]
  },
  {
   "cell_type": "code",
   "execution_count": 93,
   "metadata": {},
   "outputs": [
    {
     "name": "stdout",
     "output_type": "stream",
     "text": [
      "I am from Sweden\n",
      "I am from India\n",
      "I am from Switzerland\n",
      "I am from Brazil\n"
     ]
    }
   ],
   "source": [
    "def my_function(country = \"Switzerland\"):\n",
    "    print(\"I am from \" + country)\n",
    "\n",
    "my_function(\"Sweden\")\n",
    "my_function(\"India\")\n",
    "my_function()\n",
    "my_function(\"Brazil\")"
   ]
  },
  {
   "cell_type": "markdown",
   "metadata": {},
   "source": [
    "## Return Values\n",
    "\n",
    "To let a function return a value, use the return statement."
   ]
  },
  {
   "cell_type": "code",
   "execution_count": 94,
   "metadata": {},
   "outputs": [
    {
     "name": "stdout",
     "output_type": "stream",
     "text": [
      "15\n",
      "25\n",
      "45\n"
     ]
    }
   ],
   "source": [
    "def times5(x):\n",
    "    return 5 * x\n",
    "\n",
    "print(times5(3))\n",
    "print(times5(5))\n",
    "print(times5(9)) "
   ]
  },
  {
   "cell_type": "markdown",
   "metadata": {},
   "source": [
    "## Packing\n",
    "\n",
    "In python you can define a function with an undetermined amount of positional arguments. These arguments are then packed in a tuple and passed to the function."
   ]
  },
  {
   "cell_type": "code",
   "execution_count": 95,
   "metadata": {},
   "outputs": [
    {
     "name": "stdout",
     "output_type": "stream",
     "text": [
      "<class 'tuple'>\n",
      "1\n",
      "2\n",
      "3\n",
      "<class 'tuple'>\n",
      "[1, 2, 3]\n",
      "<class 'tuple'>\n",
      "a\n",
      "b\n",
      "c\n"
     ]
    }
   ],
   "source": [
    "def foo(*args):\n",
    "    print(type(args))\n",
    "    for arg in args:\n",
    "        print(arg)\n",
    "        \n",
    "foo(1,2,3)\n",
    "foo([1,2,3])\n",
    "foo(\"a\",\"b\",\"c\")"
   ]
  },
  {
   "cell_type": "markdown",
   "metadata": {},
   "source": [
    "Similarly, you can also create functions that take an undetermined number of keyworded arguments. These arguments are then packed in a dictionary and passed to the function."
   ]
  },
  {
   "cell_type": "code",
   "execution_count": 96,
   "metadata": {},
   "outputs": [
    {
     "name": "stdout",
     "output_type": "stream",
     "text": [
      "<class 'dict'>\n",
      "key=exchange, value=NYSE\n",
      "key=year, value=2021\n",
      "key=stocks, value=['GME', 'NOK', 'AMC']\n"
     ]
    }
   ],
   "source": [
    "def foo(**kwargs):\n",
    "    print(type(kwargs))\n",
    "    for k, v in kwargs.items():\n",
    "        print(f\"key={k}, value={v}\")\n",
    "        \n",
    "foo(exchange=\"NYSE\", year=2021, stocks=[\"GME\", \"NOK\", \"AMC\"])"
   ]
  },
  {
   "cell_type": "markdown",
   "metadata": {},
   "source": [
    "## Unpacking\n",
    "\n",
    "If you have a function that takes 3 parameters, you can pass to such function a list of 3 elements if you unpack them with the `*` operator"
   ]
  },
  {
   "cell_type": "code",
   "execution_count": 97,
   "metadata": {},
   "outputs": [
    {
     "name": "stdout",
     "output_type": "stream",
     "text": [
      "a=1, b=2, c=3\n"
     ]
    }
   ],
   "source": [
    "def foo(a, b, c):\n",
    "    print(f\"a={a}, b={b}, c={c}\")\n",
    "    \n",
    "foo(*[1,2,3])"
   ]
  },
  {
   "cell_type": "markdown",
   "metadata": {},
   "source": [
    "The same goes for names parameters and dictionaries, using the `**` operator"
   ]
  },
  {
   "cell_type": "code",
   "execution_count": 98,
   "metadata": {},
   "outputs": [
    {
     "name": "stdout",
     "output_type": "stream",
     "text": [
      "a=[1, 2, 3], b=1, c=c\n"
     ]
    }
   ],
   "source": [
    "def foo(a, b, c):\n",
    "    print(f\"a={a}, b={b}, c={c}\")\n",
    "    \n",
    "\n",
    "foo(**{\"b\":1, \"c\":\"c\", \"a\": [1,2,3]})"
   ]
  },
  {
   "cell_type": "markdown",
   "metadata": {},
   "source": [
    "## Recursion\n",
    "\n",
    "Python also accepts function recursion, which means a defined function can call itself.\n",
    "\n",
    "Recursion is a common mathematical and programming concept. It means that a function calls itself. This has the benefit of meaning that you can loop through data to reach a result.\n",
    "\n",
    "The developer should be very careful with recursion as it can be quite easy to slip into writing a function which never terminates, or one that uses excess amounts of memory or processor power. However, when written correctly recursion can be a very efficient and mathematically-elegant approach to programming."
   ]
  },
  {
   "cell_type": "code",
   "execution_count": 99,
   "metadata": {},
   "outputs": [
    {
     "name": "stdout",
     "output_type": "stream",
     "text": [
      "Recursion Example Results\n",
      "fibonacci(25) = 75025\n"
     ]
    }
   ],
   "source": [
    "def fib(k):\n",
    "    if k == 0:\n",
    "        result = 0\n",
    "    elif k == 1:\n",
    "        result = 1\n",
    "    else:\n",
    "        result = fib(k-1) + fib(k-2)\n",
    "    return result\n",
    "    \n",
    "print(\"Recursion Example Results\")\n",
    "print(\"fibonacci(25) =\", fib(25))"
   ]
  },
  {
   "cell_type": "markdown",
   "metadata": {},
   "source": [
    "# Python Lambda\n",
    "\n",
    "A lambda function is a small anonymous function.\n",
    "\n",
    "A lambda function can take any number of arguments, but can only have one expression.\n",
    "\n",
    "Syntax\n",
    "\n",
    "`lambda arguments : expression`\n",
    "\n",
    "The expression is executed and the result is returned."
   ]
  },
  {
   "cell_type": "code",
   "execution_count": 100,
   "metadata": {},
   "outputs": [
    {
     "name": "stdout",
     "output_type": "stream",
     "text": [
      "15\n"
     ]
    }
   ],
   "source": [
    "x = lambda a : a + 10\n",
    "print(x(5))"
   ]
  },
  {
   "cell_type": "code",
   "execution_count": 101,
   "metadata": {},
   "outputs": [
    {
     "name": "stdout",
     "output_type": "stream",
     "text": [
      "30\n"
     ]
    }
   ],
   "source": [
    "x = lambda a, b : a * b\n",
    "print(x(5, 6))"
   ]
  },
  {
   "cell_type": "code",
   "execution_count": 102,
   "metadata": {},
   "outputs": [
    {
     "name": "stdout",
     "output_type": "stream",
     "text": [
      "13\n"
     ]
    }
   ],
   "source": [
    "x = lambda a, b, c : a + b + c\n",
    "print(x(5, 6, 2))"
   ]
  },
  {
   "cell_type": "markdown",
   "metadata": {},
   "source": [
    "## Why Use Lambda Functions?\n",
    "\n",
    "The power of lambda is better shown when you use them as an anonymous function inside another function.\n",
    "\n",
    "Say you have a function definition that takes one argument, and that argument will be multiplied with an unknown number. You can then use that function definition to make a function that always doubles the number you send in, or use the same function definition to make a function that always triples the number you send in, etc."
   ]
  },
  {
   "cell_type": "code",
   "execution_count": 103,
   "metadata": {},
   "outputs": [
    {
     "data": {
      "text/plain": [
       "22"
      ]
     },
     "execution_count": 103,
     "metadata": {},
     "output_type": "execute_result"
    }
   ],
   "source": [
    "def myfunc(n):\n",
    "    return lambda a : a * n\n",
    "\n",
    "doubler = myfunc(2)\n",
    "tripler = myfunc(3)\n",
    "\n",
    "doubler(11)"
   ]
  },
  {
   "cell_type": "markdown",
   "metadata": {},
   "source": [
    "# Map, filter, reduce\n",
    "\n",
    "Lambda functions are typically used in map, filter, and reduce. These functions facilitate a functional approach to programming.\n",
    "\n",
    "## map\n",
    "\n",
    "Map applies a function to all the items in an input_list. Here is the blueprint:\n",
    "\n",
    "`map(function_to_apply, list_of_inputs)`\n",
    "\n",
    "**n.b.** in python 3 map (and filter) return iterators and not lists (as in python 2) - so, best is simply to iterate on the results, but for the sake of the example we can also use the list constructor (not recommended otherwise, as it is wasteful)\n",
    "\n",
    "reference: https://docs.python.org/3.0/whatsnew/3.0.html#views-and-iterators-instead-of-lists"
   ]
  },
  {
   "cell_type": "code",
   "execution_count": 104,
   "metadata": {},
   "outputs": [
    {
     "data": {
      "text/plain": [
       "[1, 4, 9, 16, 25]"
      ]
     },
     "execution_count": 104,
     "metadata": {},
     "output_type": "execute_result"
    }
   ],
   "source": [
    "items = [1, 2, 3, 4, 5]\n",
    "\n",
    "list(map(lambda x: x**2, items))"
   ]
  },
  {
   "cell_type": "markdown",
   "metadata": {},
   "source": [
    "Same result with list comprehensions (python style)"
   ]
  },
  {
   "cell_type": "code",
   "execution_count": 105,
   "metadata": {},
   "outputs": [
    {
     "data": {
      "text/plain": [
       "[1, 4, 9, 16, 25]"
      ]
     },
     "execution_count": 105,
     "metadata": {},
     "output_type": "execute_result"
    }
   ],
   "source": [
    "items = [1, 2, 3, 4, 5]\n",
    "\n",
    "[x**2 for x in items]"
   ]
  },
  {
   "cell_type": "markdown",
   "metadata": {},
   "source": [
    "The list of input can also be a list of functions :)"
   ]
  },
  {
   "cell_type": "code",
   "execution_count": 106,
   "metadata": {},
   "outputs": [
    {
     "name": "stdout",
     "output_type": "stream",
     "text": [
      "[0, 0]\n",
      "[1, 2]\n",
      "[4, 4]\n",
      "[9, 6]\n",
      "[16, 8]\n"
     ]
    }
   ],
   "source": [
    "def multiply(x):\n",
    "    return (x*x)\n",
    "def add(x):\n",
    "    return (x+x)\n",
    "\n",
    "funcs = [multiply, add]\n",
    "\n",
    "for i in range(5):\n",
    "    v = list(map(lambda x: x(i), funcs))\n",
    "    print(v)\n"
   ]
  },
  {
   "cell_type": "markdown",
   "metadata": {},
   "source": [
    "## filter\n",
    "\n",
    "Filter creates a list of elements for which a function returns true."
   ]
  },
  {
   "cell_type": "code",
   "execution_count": 107,
   "metadata": {},
   "outputs": [
    {
     "name": "stdout",
     "output_type": "stream",
     "text": [
      "[-5, -4, -3, -2, -1]\n"
     ]
    }
   ],
   "source": [
    "number_list = range(-5, 5)\n",
    "less_than_zero = list(filter(lambda x: x < 0, number_list))\n",
    "print(less_than_zero)"
   ]
  },
  {
   "cell_type": "markdown",
   "metadata": {},
   "source": [
    "Same result with list comprehensions (python style)"
   ]
  },
  {
   "cell_type": "code",
   "execution_count": 108,
   "metadata": {},
   "outputs": [
    {
     "data": {
      "text/plain": [
       "[-5, -4, -3, -2, -1]"
      ]
     },
     "execution_count": 108,
     "metadata": {},
     "output_type": "execute_result"
    }
   ],
   "source": [
    "number_list = range(-5, 5)\n",
    "\n",
    "[ x for x in number_list if x < 0]"
   ]
  },
  {
   "cell_type": "markdown",
   "metadata": {},
   "source": [
    "## reduce\n",
    "\n",
    "`reduce` is a function for performing some computation on a list and returning the result. It applies a rolling computation to sequential pairs of values in a list. Similar to `fold` or `inject` in other languages.\n",
    "\n",
    "**n.b.** reduce used to be a built-in function in python 2 but was removed in python 3 because they say most of the times a for loop is more readable. You can still use it from the [functools library](https://docs.python.org/3.0/library/functools.html#functools.reduce)\n",
    "\n",
    "reference: https://docs.python.org/3.0/whatsnew/3.0.html#builtins\n",
    "\n",
    "For example, if you wanted to compute the product of a list of integers, you could use a basic for loop."
   ]
  },
  {
   "cell_type": "code",
   "execution_count": 109,
   "metadata": {},
   "outputs": [
    {
     "data": {
      "text/plain": [
       "24"
      ]
     },
     "execution_count": 109,
     "metadata": {},
     "output_type": "execute_result"
    }
   ],
   "source": [
    "product = 1\n",
    "mylist = [1, 2, 3, 4]\n",
    "for num in mylist:\n",
    "    product = product * num\n",
    "product"
   ]
  },
  {
   "cell_type": "markdown",
   "metadata": {},
   "source": [
    "However, a more elegant way to do this is to use the `reduce` function."
   ]
  },
  {
   "cell_type": "code",
   "execution_count": 110,
   "metadata": {},
   "outputs": [
    {
     "data": {
      "text/plain": [
       "0"
      ]
     },
     "execution_count": 110,
     "metadata": {},
     "output_type": "execute_result"
    }
   ],
   "source": [
    "from functools import reduce\n",
    "mylist = [1, 2, 3, 4]\n",
    "\n",
    "product = reduce((lambda x, y: x * y), mylist, 0)\n",
    "product"
   ]
  },
  {
   "cell_type": "markdown",
   "metadata": {},
   "source": [
    "# Classes and Objects\n",
    "\n",
    "\n",
    "Almost everything in Python is an object, with its properties and methods.\n",
    "\n",
    "A Class is like an object constructor, or a \"blueprint\" for creating objects.\n",
    "\n",
    "## Create Classes and Objects\n",
    "\n",
    "To create a class, use the keyword class.\n",
    "\n",
    "Then we can use the name of the class to create objects."
   ]
  },
  {
   "cell_type": "code",
   "execution_count": 111,
   "metadata": {},
   "outputs": [
    {
     "name": "stdout",
     "output_type": "stream",
     "text": [
      "5\n"
     ]
    }
   ],
   "source": [
    "# Create a class named MyClass, with a property named x:\n",
    "\n",
    "class MyClass:\n",
    "    x = 5\n",
    "    \n",
    "# Create an object named p1, and print the value of x:\n",
    "\n",
    "p1 = MyClass()\n",
    "print(p1.x)"
   ]
  },
  {
   "cell_type": "markdown",
   "metadata": {},
   "source": [
    "## The `__init__()` function\n",
    "\n",
    "The examples above are classes and objects in their simplest form, and are not really useful in real life applications.\n",
    "\n",
    "To understand the meaning of classes we have to understand the built-in `__init__()` function.\n",
    "\n",
    "All classes have a function called `__init__()`, which is always executed when the class is being initiated (like a constructor).\n",
    "\n",
    "Use the `__init__()` function to assign values to object properties, or other operations that are necessary to do when the object is being created."
   ]
  },
  {
   "cell_type": "code",
   "execution_count": 112,
   "metadata": {},
   "outputs": [
    {
     "name": "stdout",
     "output_type": "stream",
     "text": [
      "John\n",
      "36\n"
     ]
    }
   ],
   "source": [
    "# Create a class named Person, use the __init__() function to assign values for name and age:\n",
    "\n",
    "class Person:\n",
    "    def __init__(self, name, age):\n",
    "        self.name = name\n",
    "        self.age = age\n",
    "\n",
    "p1 = Person(\"John\", 36)\n",
    "\n",
    "print(p1.name)\n",
    "print(p1.age)"
   ]
  },
  {
   "cell_type": "markdown",
   "metadata": {},
   "source": [
    "**Note: The __init__() function is called automatically every time the class is being used to create a new object.**"
   ]
  },
  {
   "cell_type": "code",
   "execution_count": 113,
   "metadata": {},
   "outputs": [
    {
     "ename": "TypeError",
     "evalue": "__init__() missing 2 required positional arguments: 'name' and 'age'",
     "output_type": "error",
     "traceback": [
      "\u001b[0;31m---------------------------------------------------------------------------\u001b[0m",
      "\u001b[0;31mTypeError\u001b[0m                                 Traceback (most recent call last)",
      "\u001b[0;32m<ipython-input-113-7072810cbb55>\u001b[0m in \u001b[0;36m<module>\u001b[0;34m\u001b[0m\n\u001b[1;32m      1\u001b[0m \u001b[0mp1\u001b[0m \u001b[0;34m=\u001b[0m \u001b[0mPerson\u001b[0m\u001b[0;34m(\u001b[0m\u001b[0;34m\"John\"\u001b[0m\u001b[0;34m,\u001b[0m \u001b[0;36m36\u001b[0m\u001b[0;34m)\u001b[0m\u001b[0;34m\u001b[0m\u001b[0;34m\u001b[0m\u001b[0m\n\u001b[0;32m----> 2\u001b[0;31m \u001b[0mp2\u001b[0m \u001b[0;34m=\u001b[0m \u001b[0mPerson\u001b[0m\u001b[0;34m(\u001b[0m\u001b[0;34m)\u001b[0m \u001b[0;31m# will give an error\u001b[0m\u001b[0;34m\u001b[0m\u001b[0;34m\u001b[0m\u001b[0m\n\u001b[0m",
      "\u001b[0;31mTypeError\u001b[0m: __init__() missing 2 required positional arguments: 'name' and 'age'"
     ]
    }
   ],
   "source": [
    "p1 = Person(\"John\", 36)\n",
    "p2 = Person() # will give an error"
   ]
  },
  {
   "cell_type": "markdown",
   "metadata": {},
   "source": [
    "## Methods\n",
    "\n",
    "Objects can also contain methods. Methods in objects are functions that belongs to the object.\n",
    "\n",
    "Let us create a method in the Person class."
   ]
  },
  {
   "cell_type": "code",
   "execution_count": 114,
   "metadata": {},
   "outputs": [
    {
     "name": "stdout",
     "output_type": "stream",
     "text": [
      "Hello my name is John\n"
     ]
    }
   ],
   "source": [
    "# Insert a function that prints a greeting, and execute it on the p1 object:\n",
    "\n",
    "class Person:\n",
    "    def __init__(self, name, age):\n",
    "        self.name = name\n",
    "        self.age = age\n",
    "\n",
    "    def myfunc(self):\n",
    "        print(\"Hello my name is \" + self.name)\n",
    "\n",
    "p1 = Person(\"John\", 36)\n",
    "p1.myfunc()"
   ]
  },
  {
   "cell_type": "markdown",
   "metadata": {},
   "source": [
    "## The self parameter\n",
    "\n",
    "The self parameter is a reference to the class itself, and is used to access variables that belongs to the class.\n",
    "\n",
    "It does not have to be named self , you can call it whatever you like, but it has to be the first parameter of any function in the class."
   ]
  },
  {
   "cell_type": "code",
   "execution_count": 115,
   "metadata": {},
   "outputs": [
    {
     "name": "stdout",
     "output_type": "stream",
     "text": [
      "Hello my name is John\n"
     ]
    }
   ],
   "source": [
    "# Use the words mysillyobject and abc instead of self:\n",
    "\n",
    "class Person:\n",
    "    def __init__(my_object, name, age):\n",
    "        my_object.name = name\n",
    "        my_object.age = age\n",
    "\n",
    "    def myfunc(abc):\n",
    "        print(\"Hello my name is \" + abc.name)\n",
    "\n",
    "p1 = Person(\"John\", 36)\n",
    "p1.myfunc()"
   ]
  },
  {
   "cell_type": "markdown",
   "metadata": {},
   "source": [
    "## Modify and delete object properties\n",
    "\n",
    "You can modify properties on objects using the dot notation.\n",
    "\n",
    "You can delete properties on objects by using the del keyword. You can also delete the entire object by using the del keyword."
   ]
  },
  {
   "cell_type": "code",
   "execution_count": 116,
   "metadata": {},
   "outputs": [
    {
     "name": "stdout",
     "output_type": "stream",
     "text": [
      "40\n"
     ]
    }
   ],
   "source": [
    "# Set the age of p1 to 40:\n",
    "\n",
    "p1.age = 40\n",
    "\n",
    "print(p1.age)"
   ]
  },
  {
   "cell_type": "code",
   "execution_count": 117,
   "metadata": {},
   "outputs": [
    {
     "ename": "AttributeError",
     "evalue": "'Person' object has no attribute 'age'",
     "output_type": "error",
     "traceback": [
      "\u001b[0;31m---------------------------------------------------------------------------\u001b[0m",
      "\u001b[0;31mAttributeError\u001b[0m                            Traceback (most recent call last)",
      "\u001b[0;32m<ipython-input-117-55a5992bcc6f>\u001b[0m in \u001b[0;36m<module>\u001b[0;34m\u001b[0m\n\u001b[1;32m      2\u001b[0m \u001b[0;34m\u001b[0m\u001b[0m\n\u001b[1;32m      3\u001b[0m \u001b[0;32mdel\u001b[0m \u001b[0mp1\u001b[0m\u001b[0;34m.\u001b[0m\u001b[0mage\u001b[0m\u001b[0;34m\u001b[0m\u001b[0;34m\u001b[0m\u001b[0m\n\u001b[0;32m----> 4\u001b[0;31m \u001b[0mprint\u001b[0m\u001b[0;34m(\u001b[0m\u001b[0mp1\u001b[0m\u001b[0;34m.\u001b[0m\u001b[0mage\u001b[0m\u001b[0;34m)\u001b[0m \u001b[0;31m# will raise an error\u001b[0m\u001b[0;34m\u001b[0m\u001b[0;34m\u001b[0m\u001b[0m\n\u001b[0m",
      "\u001b[0;31mAttributeError\u001b[0m: 'Person' object has no attribute 'age'"
     ]
    }
   ],
   "source": [
    "# Delete the age property from the p1 object:\n",
    "\n",
    "del p1.age\n",
    "print(p1.age) # will raise an error"
   ]
  },
  {
   "cell_type": "code",
   "execution_count": 118,
   "metadata": {},
   "outputs": [
    {
     "ename": "NameError",
     "evalue": "name 'p1' is not defined",
     "output_type": "error",
     "traceback": [
      "\u001b[0;31m---------------------------------------------------------------------------\u001b[0m",
      "\u001b[0;31mNameError\u001b[0m                                 Traceback (most recent call last)",
      "\u001b[0;32m<ipython-input-118-19d6326795be>\u001b[0m in \u001b[0;36m<module>\u001b[0;34m\u001b[0m\n\u001b[1;32m      2\u001b[0m \u001b[0;34m\u001b[0m\u001b[0m\n\u001b[1;32m      3\u001b[0m \u001b[0;32mdel\u001b[0m \u001b[0mp1\u001b[0m\u001b[0;34m\u001b[0m\u001b[0;34m\u001b[0m\u001b[0m\n\u001b[0;32m----> 4\u001b[0;31m \u001b[0mprint\u001b[0m\u001b[0;34m(\u001b[0m\u001b[0mp1\u001b[0m\u001b[0;34m.\u001b[0m\u001b[0mage\u001b[0m\u001b[0;34m)\u001b[0m \u001b[0;31m# will raise an error\u001b[0m\u001b[0;34m\u001b[0m\u001b[0;34m\u001b[0m\u001b[0m\n\u001b[0m",
      "\u001b[0;31mNameError\u001b[0m: name 'p1' is not defined"
     ]
    }
   ],
   "source": [
    "# Delete the p1 object:\n",
    "\n",
    "del p1\n",
    "print(p1.age) # will raise an error"
   ]
  },
  {
   "cell_type": "markdown",
   "metadata": {},
   "source": [
    "# Iterators\n",
    "\n",
    "An iterator is an object that contains a countable number of values.\n",
    "\n",
    "An iterator is an object that can be iterated upon, meaning that you can traverse through all the values.\n",
    "\n",
    "Technically, in Python, an iterator is an object which implements the iterator protocol, which consist of the methods `__iter__()` and `__next__()`.\n",
    "\n",
    "## Iterator vs Iterable\n",
    "\n",
    "Lists, tuples, dictionaries, and sets are all iterable objects. They are iterable containers which you can get an iterator from.\n",
    "\n",
    "All these objects have a iter() method which is used to get an iterator."
   ]
  },
  {
   "cell_type": "code",
   "execution_count": 119,
   "metadata": {},
   "outputs": [
    {
     "name": "stdout",
     "output_type": "stream",
     "text": [
      "apple\n",
      "banana\n",
      "cherry\n"
     ]
    }
   ],
   "source": [
    "mytuple = (\"apple\", \"banana\", \"cherry\")\n",
    "myit = iter(mytuple)\n",
    "\n",
    "print(next(myit))\n",
    "print(next(myit))\n",
    "print(next(myit))"
   ]
  },
  {
   "cell_type": "markdown",
   "metadata": {},
   "source": [
    "Even strings are iterable objects, and can return an iterator."
   ]
  },
  {
   "cell_type": "code",
   "execution_count": 120,
   "metadata": {},
   "outputs": [
    {
     "name": "stdout",
     "output_type": "stream",
     "text": [
      "b\n",
      "a\n",
      "n\n",
      "a\n",
      "n\n",
      "a\n"
     ]
    }
   ],
   "source": [
    "mystr = \"banana\"\n",
    "myit = iter(mystr)\n",
    "\n",
    "print(next(myit))\n",
    "print(next(myit))\n",
    "print(next(myit))\n",
    "print(next(myit))\n",
    "print(next(myit))\n",
    "print(next(myit))"
   ]
  },
  {
   "cell_type": "markdown",
   "metadata": {},
   "source": [
    "## Looping Through an Iterator\n",
    "\n",
    "We can also use a for loop to iterate through an iterable object. The for loop actually creates an iterator object and executes the next() method for each loop."
   ]
  },
  {
   "cell_type": "code",
   "execution_count": 121,
   "metadata": {},
   "outputs": [
    {
     "name": "stdout",
     "output_type": "stream",
     "text": [
      "apple\n",
      "banana\n",
      "cherry\n"
     ]
    }
   ],
   "source": [
    "mytuple = (\"apple\", \"banana\", \"cherry\")\n",
    "for x in mytuple:\n",
    "    print(x)"
   ]
  },
  {
   "cell_type": "code",
   "execution_count": 122,
   "metadata": {},
   "outputs": [
    {
     "name": "stdout",
     "output_type": "stream",
     "text": [
      "b\n",
      "a\n",
      "n\n",
      "a\n",
      "n\n",
      "a\n"
     ]
    }
   ],
   "source": [
    "mystr = \"banana\"\n",
    "for x in mystr:\n",
    "    print(x)"
   ]
  },
  {
   "cell_type": "markdown",
   "metadata": {},
   "source": [
    "## Create an Iterator\n",
    "\n",
    "To create an object/class as an iterator you have to implement the methods `__iter__()` and `next()` to your object (`__next__()` in python 3).\n",
    "\n",
    "As explained before, all classes have a function called `__init__()`, which allows you do some initializing when the object is being created.\n",
    "\n",
    "The `__iter__()` method acts similar, you can do operations (initializing etc.), but must always return the iterator object itself.\n",
    "\n",
    "The `next()` method also allows you to do operations, and must return the next item in the sequence."
   ]
  },
  {
   "cell_type": "code",
   "execution_count": 123,
   "metadata": {},
   "outputs": [
    {
     "name": "stdout",
     "output_type": "stream",
     "text": [
      "0\n",
      "1\n",
      "2\n",
      "3\n"
     ]
    }
   ],
   "source": [
    "# Create an iterator that returns numbers, starting with 1, and each sequence will increase by one (returning 1,2,3,4,5 etc.):\n",
    "\n",
    "class MyNumbers:\n",
    "    def __iter__(self):\n",
    "        self.a = 0\n",
    "        return self\n",
    "    \n",
    "    def __next__(self):\n",
    "        x = self.a\n",
    "        self.a += 1\n",
    "        return x\n",
    "\n",
    "myclass = MyNumbers()\n",
    "myiter = iter(myclass)\n",
    "\n",
    "print(next(myiter))\n",
    "print(next(myiter))\n",
    "print(next(myiter))\n",
    "print(next(myiter))"
   ]
  },
  {
   "cell_type": "markdown",
   "metadata": {},
   "source": [
    "# Exception Handling\n",
    "\n",
    "When an error occurs, or exception as we call it, Python will normally stop and generate an error message.\n",
    "\n",
    "These exceptions can be handled using the try statement.\n",
    "\n",
    "The try block lets you test a block of code for errors.\n",
    "\n",
    "The except block lets you handle the error.\n",
    "\n",
    "The finally block lets you execute code, regardless of the result of the try- and except blocks.\n",
    "\n",
    "**Example:** Since the try block raises an error (zzz is undefined), the except block will be executed. Without the try block, the program will crash and raise an error."
   ]
  },
  {
   "cell_type": "code",
   "execution_count": 124,
   "metadata": {},
   "outputs": [
    {
     "name": "stdout",
     "output_type": "stream",
     "text": [
      "An exception occurred\n"
     ]
    }
   ],
   "source": [
    "try:\n",
    "    print(zzz)\n",
    "except:\n",
    "    print(\"An exception occurred\")"
   ]
  },
  {
   "cell_type": "markdown",
   "metadata": {},
   "source": [
    "## Multiple exceptions\n",
    "\n",
    "You can define multiple exception blocks to handle different types of errors.\n",
    "\n",
    "**Example:** Print one message if the try block raises a NameError and another for other errors:"
   ]
  },
  {
   "cell_type": "code",
   "execution_count": 1,
   "metadata": {},
   "outputs": [
    {
     "name": "stdout",
     "output_type": "stream",
     "text": [
      "Something else went wrong:\n",
      "division by zero\n"
     ]
    }
   ],
   "source": [
    "try:\n",
    "    0 / 0\n",
    "except NameError as ne:\n",
    "    print(f\"Variable zzz is not defined {e}\")\n",
    "except Exception as e:\n",
    "    print(f\"Something else went wrong:\\n{e}\")"
   ]
  },
  {
   "cell_type": "markdown",
   "metadata": {},
   "source": [
    "## Else\n",
    "\n",
    "You can use the else keyword to define a block of code to be executed if no errors were raised."
   ]
  },
  {
   "cell_type": "code",
   "execution_count": 126,
   "metadata": {},
   "outputs": [
    {
     "name": "stdout",
     "output_type": "stream",
     "text": [
      "Hello\n",
      "Nothing went wrong\n"
     ]
    }
   ],
   "source": [
    "try:\n",
    "    print(\"Hello\")\n",
    "except:\n",
    "    print(\"Something went wrong\")\n",
    "else:\n",
    "    print(\"Nothing went wrong\")"
   ]
  },
  {
   "cell_type": "markdown",
   "metadata": {},
   "source": [
    "## Finally\n",
    "\n",
    "The finally block, if specified, will be executed regardless if the try block raises an error or not. Useful to make sure that something is executed in any case (clean up resources, close file handler, commit/abort transaction, etc)."
   ]
  },
  {
   "cell_type": "code",
   "execution_count": 127,
   "metadata": {},
   "outputs": [
    {
     "name": "stdout",
     "output_type": "stream",
     "text": [
      "Something went wrong\n",
      "The 'try except' is finished\n"
     ]
    }
   ],
   "source": [
    "try:\n",
    "    print(zzz)    \n",
    "except:\n",
    "    print(\"Something went wrong\")\n",
    "finally:\n",
    "    print(\"The 'try except' is finished\")"
   ]
  },
  {
   "cell_type": "markdown",
   "metadata": {},
   "source": [
    "# JSON\n",
    "\n",
    "Python has a built-in package called json, which can be use to work with JSON data.\n",
    "\n",
    "## json => python\n",
    "\n",
    "Parse JSON: Convert from JSON to Python\n",
    "If you have a JSON string, you can parse it by using the json.loads() method.\n",
    "\n",
    "The result will be a Python dictionary."
   ]
  },
  {
   "cell_type": "code",
   "execution_count": 128,
   "metadata": {},
   "outputs": [
    {
     "data": {
      "text/plain": [
       "dict"
      ]
     },
     "execution_count": 128,
     "metadata": {},
     "output_type": "execute_result"
    }
   ],
   "source": [
    "import json\n",
    "\n",
    "# some JSON:\n",
    "x =  '{ \"name\":\"John\", \"age\":30, \"city\":\"New York\"}'\n",
    "\n",
    "y = json.loads(x)\n",
    "type(y)"
   ]
  },
  {
   "cell_type": "markdown",
   "metadata": {},
   "source": [
    "## python => JSON\n",
    "\n",
    "If you have a Python object, you can convert it into a JSON string by using the json.dumps() method.\n",
    "\n",
    "You can convert Python objects of the following types, into JSON strings:\n",
    "\n",
    "- dict\n",
    "- list\n",
    "- tuple\n",
    "- string\n",
    "- int\n",
    "- float\n",
    "- True\n",
    "- False\n",
    "- None"
   ]
  },
  {
   "cell_type": "code",
   "execution_count": 129,
   "metadata": {},
   "outputs": [
    {
     "data": {
      "text/plain": [
       "str"
      ]
     },
     "execution_count": 129,
     "metadata": {},
     "output_type": "execute_result"
    }
   ],
   "source": [
    "import json\n",
    "\n",
    "# a Python object (dict):\n",
    "x = {\n",
    "  \"name\": \"John\",\n",
    "  \"age\": 30,\n",
    "  \"city\": \"New York\"\n",
    "}\n",
    "\n",
    "y = json.dumps(x)\n",
    "type(y)"
   ]
  },
  {
   "cell_type": "code",
   "execution_count": 130,
   "metadata": {},
   "outputs": [
    {
     "name": "stdout",
     "output_type": "stream",
     "text": [
      "{\"name\": \"John\", \"age\": 30}\n",
      "[\"apple\", \"bananas\"]\n",
      "[\"apple\", \"bananas\"]\n",
      "\"hello\"\n",
      "42\n",
      "31.76\n",
      "true\n",
      "false\n",
      "null\n"
     ]
    }
   ],
   "source": [
    "import json\n",
    "\n",
    "print(json.dumps({\"name\": \"John\", \"age\": 30}))\n",
    "print(json.dumps([\"apple\", \"bananas\"]))\n",
    "print(json.dumps((\"apple\", \"bananas\")))\n",
    "print(json.dumps(\"hello\"))\n",
    "print(json.dumps(42))\n",
    "print(json.dumps(31.76))\n",
    "print(json.dumps(True))\n",
    "print(json.dumps(False))\n",
    "print(json.dumps(None))"
   ]
  },
  {
   "cell_type": "markdown",
   "metadata": {},
   "source": [
    "## Formatting the Result\n",
    "\n",
    "The example above prints a JSON string, but it is not very easy to read, with no indentations and line breaks.\n",
    "\n",
    "The json.dumps() method has parameters to make it easier to read the result.\n",
    "\n",
    "You can use the indent parameter to define the numbers of indents and make the format more readable."
   ]
  },
  {
   "cell_type": "code",
   "execution_count": 131,
   "metadata": {},
   "outputs": [
    {
     "name": "stdout",
     "output_type": "stream",
     "text": [
      "{\"name\": \"John\", \"age\": 30, \"city\": \"New York\"}\n",
      "{\n",
      "    \"name\": \"John\",\n",
      "    \"age\": 30,\n",
      "    \"city\": \"New York\"\n",
      "}\n"
     ]
    }
   ],
   "source": [
    "x = {\n",
    "  \"name\": \"John\",\n",
    "  \"age\": 30,\n",
    "  \"city\": \"New York\"\n",
    "}\n",
    "\n",
    "print(json.dumps(x))\n",
    "print(json.dumps(x, indent=4))"
   ]
  },
  {
   "cell_type": "markdown",
   "metadata": {},
   "source": [
    "You can also define the separators, default value is (\", \", \": \"), which means using a comma and a space to separate each object, and a colon and a space to separate keys from values."
   ]
  },
  {
   "cell_type": "code",
   "execution_count": 132,
   "metadata": {},
   "outputs": [
    {
     "name": "stdout",
     "output_type": "stream",
     "text": [
      "{\"name\": \"John\", \"age\": 30, \"city\": \"New York\"}\n",
      "{\n",
      "    \"name\": \"John\",\n",
      "    \"age\": 30,\n",
      "    \"city\": \"New York\"\n",
      "}\n",
      "{\n",
      "    \"name\" = \"John\". \n",
      "    \"age\" = 30. \n",
      "    \"city\" = \"New York\"\n",
      "}\n"
     ]
    }
   ],
   "source": [
    "print(json.dumps(x))\n",
    "print(json.dumps(x, indent=4))\n",
    "print(json.dumps(x, indent=4, separators=(\". \", \" = \")))"
   ]
  },
  {
   "cell_type": "markdown",
   "metadata": {},
   "source": [
    "# File Handling\n",
    "\n",
    "The key function for working with files in Python is the open() function.\n",
    "\n",
    "The open() function takes two parameters; filename, and mode.\n",
    "\n",
    "There are four different methods (modes) for opening a file:\n",
    "\n",
    "1. \"r\" - Read - Default value. Opens a file for reading, error if the file does not exist\n",
    "\n",
    "2. \"a\" - Append - Opens a file for appending, creates the file if it does not exist\n",
    "\n",
    "3. \"w\" - Write - Opens a file for writing, creates the file if it does not exist\n",
    "\n",
    "4. \"x\" - Create - Creates the specified file, returns an error if the file exists\n",
    "\n",
    "In addition you can specify if the file should be handled as binary or text mode\n",
    "\n",
    "- \"t\" - Text - Default value. Text mode\n",
    "\n",
    "- \"b\" - Binary - Binary mode (e.g. images)\n",
    "\n",
    "**Syntax**: To open a file for reading it is enough to specify the name of the file:\n",
    "\n",
    "`f = open(\"demofile.txt\")`\n",
    "\n",
    "The code above is the same as:\n",
    "\n",
    "`f = open(\"demofile.txt\", \"rt\")`\n",
    "\n",
    "Because \"r\" for read, and \"t\" for text are the default values, you do not need to specify them."
   ]
  },
  {
   "cell_type": "markdown",
   "metadata": {},
   "source": [
    "The `open()` function returns a file object,which has a `read()` method for reading the content of the file."
   ]
  },
  {
   "cell_type": "code",
   "execution_count": 133,
   "metadata": {},
   "outputs": [
    {
     "name": "stdout",
     "output_type": "stream",
     "text": [
      "#alias ll=\"ls -la\"\n",
      "\n",
      "if which jenv > /dev/null; then eval \"$(jenv init -)\"; fi\n",
      "alias free='ruby ~/scripts/free-mem.rb'\n",
      "\n",
      "# added by Anaconda2 5.0.1 installer\n",
      "export PATH=\"/Users/dambrosm/anaconda2/bin:$PATH\"\n",
      "#export ZEPPELIN_LOG_DIR=\"~/.zeppelin\"\n",
      "#export ZEPPELIN_HOME=/usr/local/Cellar/apache-zeppelin/0.7.3\n",
      "\n"
     ]
    }
   ],
   "source": [
    "f = open(\"/Users/dambrosm/.profile\", \"r\")\n",
    "print(f.read())"
   ]
  },
  {
   "cell_type": "markdown",
   "metadata": {},
   "source": [
    "## Read Only Parts of the File\n",
    "\n",
    "By default the `read()` method returns the whole text, but you can also specify how many character you want to return."
   ]
  },
  {
   "cell_type": "code",
   "execution_count": 134,
   "metadata": {},
   "outputs": [
    {
     "name": "stdout",
     "output_type": "stream",
     "text": [
      "#alias ll=\"ls -la\"\n"
     ]
    }
   ],
   "source": [
    "f = open(\"/Users/dambrosm/.profile\", \"r\")\n",
    "print(f.read(18))"
   ]
  },
  {
   "cell_type": "markdown",
   "metadata": {},
   "source": [
    "## Read Lines\n",
    "\n",
    "You can return one line by using the `readline()` method."
   ]
  },
  {
   "cell_type": "code",
   "execution_count": 135,
   "metadata": {},
   "outputs": [
    {
     "name": "stdout",
     "output_type": "stream",
     "text": [
      "#alias ll=\"ls -la\"\n",
      "\n",
      "\n",
      "\n",
      "if which jenv > /dev/null; then eval \"$(jenv init -)\"; fi\n",
      "\n"
     ]
    }
   ],
   "source": [
    "f = open(\"/Users/dambrosm/.profile\", \"r\")\n",
    "print(f.readline())\n",
    "print(f.readline())\n",
    "print(f.readline())"
   ]
  },
  {
   "cell_type": "markdown",
   "metadata": {},
   "source": [
    "By looping through the lines of the file, you can read the whole file, line by line."
   ]
  },
  {
   "cell_type": "code",
   "execution_count": 136,
   "metadata": {},
   "outputs": [
    {
     "name": "stdout",
     "output_type": "stream",
     "text": [
      "#alias ll=\"ls -la\"\n",
      "\n",
      "\n",
      "\n",
      "if which jenv > /dev/null; then eval \"$(jenv init -)\"; fi\n",
      "\n",
      "alias free='ruby ~/scripts/free-mem.rb'\n",
      "\n",
      "\n",
      "\n",
      "# added by Anaconda2 5.0.1 installer\n",
      "\n",
      "export PATH=\"/Users/dambrosm/anaconda2/bin:$PATH\"\n",
      "\n",
      "#export ZEPPELIN_LOG_DIR=\"~/.zeppelin\"\n",
      "\n",
      "#export ZEPPELIN_HOME=/usr/local/Cellar/apache-zeppelin/0.7.3\n",
      "\n"
     ]
    }
   ],
   "source": [
    "f = open(\"/Users/dambrosm/.profile\", \"r\")\n",
    "for line in f:\n",
    "    print(line)"
   ]
  },
  {
   "cell_type": "markdown",
   "metadata": {},
   "source": [
    "You can also use the method `readlines()` which will read a file line by line, outputting into a list."
   ]
  },
  {
   "cell_type": "code",
   "execution_count": 137,
   "metadata": {},
   "outputs": [
    {
     "name": "stdout",
     "output_type": "stream",
     "text": [
      "#alias ll=\"ls -la\"\n",
      "\n",
      "\n",
      "\n",
      "if which jenv > /dev/null; then eval \"$(jenv init -)\"; fi\n",
      "\n",
      "alias free='ruby ~/scripts/free-mem.rb'\n",
      "\n",
      "\n",
      "\n",
      "# added by Anaconda2 5.0.1 installer\n",
      "\n",
      "export PATH=\"/Users/dambrosm/anaconda2/bin:$PATH\"\n",
      "\n",
      "#export ZEPPELIN_LOG_DIR=\"~/.zeppelin\"\n",
      "\n",
      "#export ZEPPELIN_HOME=/usr/local/Cellar/apache-zeppelin/0.7.3\n",
      "\n",
      "['#alias ll=\"ls -la\"\\n', '\\n', 'if which jenv > /dev/null; then eval \"$(jenv init -)\"; fi\\n', \"alias free='ruby ~/scripts/free-mem.rb'\\n\", '\\n', '# added by Anaconda2 5.0.1 installer\\n', 'export PATH=\"/Users/dambrosm/anaconda2/bin:$PATH\"\\n', '#export ZEPPELIN_LOG_DIR=\"~/.zeppelin\"\\n', '#export ZEPPELIN_HOME=/usr/local/Cellar/apache-zeppelin/0.7.3\\n']\n"
     ]
    }
   ],
   "source": [
    "f = open(\"/Users/dambrosm/.profile\", \"r\")\n",
    "data = f.readlines() \n",
    "\n",
    "for line in data:\n",
    "    print(line)\n",
    "\n",
    "print(data)"
   ]
  },
  {
   "cell_type": "markdown",
   "metadata": {},
   "source": [
    "## Write to an existing file\n",
    "\n",
    "To write to an existing file, you must add a parameter to the `open()` function:\n",
    "\n",
    "- \"a\" - Append - will append to the end of the file\n",
    "\n",
    "- \"w\" - Write - will overwrite any existing content"
   ]
  },
  {
   "cell_type": "code",
   "execution_count": 138,
   "metadata": {},
   "outputs": [
    {
     "name": "stdout",
     "output_type": "stream",
     "text": [
      "Woops! I have deleted the content!\n",
      "\n",
      "one line\n",
      "\n",
      "Now the file has one more line!\n"
     ]
    }
   ],
   "source": [
    "f = open(\"demofile.txt\", \"a\")\n",
    "f.write(\"\\none line\")\n",
    "f.close()\n",
    "\n",
    "f2 = open(\"demofile.txt\", \"a\")\n",
    "f2.write(\"\\nNow the file has one more line!\")\n",
    "f2.close()\n",
    "\n",
    "f3 = open(\"demofile.txt\", \"r\")\n",
    "for line in f3:\n",
    "    print(line)"
   ]
  },
  {
   "cell_type": "code",
   "execution_count": 139,
   "metadata": {},
   "outputs": [
    {
     "name": "stdout",
     "output_type": "stream",
     "text": [
      "Woops! I have deleted the content!\n"
     ]
    }
   ],
   "source": [
    "f = open(\"demofile.txt\", \"w\")\n",
    "\n",
    "f.write(\"Woops! I have deleted the content!\")\n",
    "f.close()\n",
    "# Note: the \"w\" method will overwrite the entire file.\n",
    "\n",
    "f2 = open(\"demofile.txt\", \"r\")\n",
    "for line in f2:\n",
    "    print(line)"
   ]
  },
  {
   "cell_type": "markdown",
   "metadata": {},
   "source": [
    "## Create a new file\n",
    "\n",
    "To create a new file in Python, use the `open()` method, with one of the following parameters:\n",
    "\n",
    "- \"x\" - Create - will create a file, returns an error if the file exist\n",
    "\n",
    "- \"a\" - Append - will create a file if the specified file does not exist\n",
    "\n",
    "- \"w\" - Write - will create a file if the specified file does not exist\n",
    "\n",
    "## Closing a file\n",
    "\n",
    "When you’re done working, you can use the `fh.close()` command to end things. What this does is close the file completely, terminating resources in use, in turn freeing them up for the system to deploy elsewhere. \n",
    "\n",
    "It’s important to understand that when you use the fh.close() method, any further attempts to use the file object will fail. \n",
    "\n",
    "Notice how we have used this in several of our examples to end interaction with a file? This is good practice.\n",
    "\n",
    "\n",
    "## With Statement\n",
    "\n",
    "You can also work with file objects using the with statement. It is designed to provide much cleaner syntax and exceptions handling when you are working with code. That explains why it’s good practice to use the with statement where applicable. \n",
    "\n",
    "One bonus of using this method is that any files opened will be closed automatically after you are done. This leaves less to worry about during cleanup. \n",
    "\n",
    "To use the with statement to open a file:\n",
    "\n",
    "`with open(“filename”) as file: `"
   ]
  },
  {
   "cell_type": "code",
   "execution_count": 140,
   "metadata": {},
   "outputs": [
    {
     "name": "stdout",
     "output_type": "stream",
     "text": [
      "Woops! I have deleted the content!\n"
     ]
    }
   ],
   "source": [
    "with open(\"demofile.txt\", \"r\") as f:\n",
    "    for line in f:\n",
    "        print(line)"
   ]
  },
  {
   "cell_type": "markdown",
   "metadata": {},
   "source": [
    "The functioning of the `with` statement comes from the controlled_execution, which is defined as"
   ]
  },
  {
   "cell_type": "markdown",
   "metadata": {},
   "source": [
    "```class controlled_execution:\n",
    "    def __enter__(self):\n",
    "        set things up\n",
    "        return thing\n",
    "    def __exit__(self, type, value, traceback):\n",
    "        tear things down\n",
    "```"
   ]
  },
  {
   "cell_type": "markdown",
   "metadata": {},
   "source": [
    "```with controlled_execution() as thing:\n",
    "     some code\n",
    "```"
   ]
  },
  {
   "cell_type": "markdown",
   "metadata": {},
   "source": [
    "When the `with` statement is executed, Python evaluates the expression, calls the `__enter__` method on the resulting value (which is called a \"context guard\"), and assigns whatever `__enter__` returns to the variable given by as. Python will then execute the code body, and no matter what happens in that code, call the guard object’s `__exit__` method."
   ]
  },
  {
   "cell_type": "markdown",
   "metadata": {},
   "source": [
    "## parse a json file\n",
    "\n",
    "combine the file handler part with the json loading part"
   ]
  },
  {
   "cell_type": "code",
   "execution_count": 141,
   "metadata": {},
   "outputs": [
    {
     "name": "stdout",
     "output_type": "stream",
     "text": [
      "Fixtures are a great way to mock data for responses to routes\n"
     ]
    }
   ],
   "source": [
    "import json\n",
    "\n",
    "with open('/Users/dambrosm/example.json') as f:\n",
    "    data = json.load(f)\n",
    "    print(data['body'])"
   ]
  },
  {
   "cell_type": "markdown",
   "metadata": {},
   "source": [
    "# Jupyter architecture\n",
    "\n",
    "![](http://jupyter.readthedocs.io/en/latest/_images/notebook_components.png)\n",
    "\n",
    "## The kernel\n",
    "The frontend, via the notebook server uses the IPython kernel. The kernel is where code is executed. The kernel itself doesn’t know anything about the notebook document: it just gets sent cells of code to execute when the user runs them.\n",
    "A kernel process can be connected to more than one frontend simultaneously. In this case, the different frontends will have access to the same variables.\n",
    "\n",
    "## The notebook server\n",
    "The notebook server is responsible for saving and loading notebooks, so you can edit notebooks even if you don’t have the kernel for that language—you just won’t be able to run code.\n",
    "\n",
    "## The frontend\n",
    "The Notebook frontent:\n",
    "- collects the code from the cells\n",
    "- ships the code to the kernel in json via 0MQ\n",
    "- gets and renders the result back\n",
    "- stores code and output, together with markdown notes, in an editable document called a notebook.\n",
    "When you save a notebook, it is sent from your browser to the notebook server, which saves it on disk as a JSON file with a .ipynb extension.\n",
    "\n",
    "\n",
    "Let's use different browsers to see how variable are shared.\n",
    "Let's have a look at the ipynb format.\n"
   ]
  },
  {
   "cell_type": "code",
   "execution_count": 142,
   "metadata": {},
   "outputs": [
    {
     "ename": "NameError",
     "evalue": "name 'my_variable' is not defined",
     "output_type": "error",
     "traceback": [
      "\u001b[0;31m---------------------------------------------------------------------------\u001b[0m",
      "\u001b[0;31mNameError\u001b[0m                                 Traceback (most recent call last)",
      "\u001b[0;32m<ipython-input-142-75dc0442333b>\u001b[0m in \u001b[0;36m<module>\u001b[0;34m\u001b[0m\n\u001b[0;32m----> 1\u001b[0;31m \u001b[0mmy_variable\u001b[0m\u001b[0;34m\u001b[0m\u001b[0;34m\u001b[0m\u001b[0m\n\u001b[0m",
      "\u001b[0;31mNameError\u001b[0m: name 'my_variable' is not defined"
     ]
    }
   ],
   "source": [
    "my_variable"
   ]
  },
  {
   "cell_type": "markdown",
   "metadata": {},
   "source": [
    "# Exercise 1\n",
    "\n",
    "Implement a simple dictionary encoding which, given a list of values and a mapping between values and codes, does the encoding and the decoding.\n",
    "\n",
    "As data use the `main_category` column from the `ks-projects-201801.csv` file. For the mapping use the one defined in `category_mapping.json`.\n",
    "\n",
    "Use the function `sys.getsizeof` to check whether the memory footprint of the encoded format is more efficient.\n",
    "\n",
    "*Note:* to read the csv you can read the text file and split on delimiter, but you'll need to handle the quotation. Instead you can use the csv parser as follows:"
   ]
  },
  {
   "cell_type": "code",
   "execution_count": 143,
   "metadata": {},
   "outputs": [
    {
     "name": "stdout",
     "output_type": "stream",
     "text": [
      "ID | name | category | main_category | currency\n",
      "1000002330 | The Songs of Adelaide & Abullah | Poetry | Publishing | GBP\n",
      "1000003930 | Greeting From Earth: ZGAC Arts Capsule For ET | Narrative Film | Film & Video | USD\n",
      "1000004038 | Where is Hank? | Narrative Film | Film & Video | USD\n",
      "1000007540 | ToshiCapital Rekordz Needs Help to Complete Album | Music | Music | USD\n"
     ]
    }
   ],
   "source": [
    "import csv\n",
    "import itertools\n",
    "\n",
    "with open('ks-projects-201801.csv', 'r') as f:\n",
    "    csvreader = csv.reader(f, delimiter=',', quotechar='\"')\n",
    "    for row in itertools.islice(csvreader, 5):\n",
    "        print(\" | \".join(row[:5]))"
   ]
  },
  {
   "cell_type": "code",
   "execution_count": 144,
   "metadata": {},
   "outputs": [],
   "source": [
    "from sys import getsizeof\n",
    "from itertools import chain\n",
    "from collections import deque\n",
    "try:\n",
    "    from reprlib import repr\n",
    "except ImportError:\n",
    "    pass\n",
    "\n",
    "def total_size(o, handlers={}, verbose=False):\n",
    "    \"\"\" Returns the approximate memory footprint an object and all of its contents.\n",
    "\n",
    "    Automatically finds the contents of the following builtin containers and\n",
    "    their subclasses:  tuple, list, deque, dict, set and frozenset.\n",
    "    To search other containers, add handlers to iterate over their contents:\n",
    "\n",
    "        handlers = {SomeContainerClass: iter,\n",
    "                    OtherContainerClass: OtherContainerClass.get_elements}\n",
    "\n",
    "    \"\"\"\n",
    "    dict_handler = lambda d: chain.from_iterable(d.items())\n",
    "    all_handlers = {tuple: iter,\n",
    "                    list: iter,\n",
    "                    deque: iter,\n",
    "                    dict: dict_handler,\n",
    "                    set: iter,\n",
    "                    frozenset: iter,\n",
    "                   }\n",
    "    all_handlers.update(handlers)     # user handlers take precedence\n",
    "    seen = set()                      # track which object id's have already been seen\n",
    "    default_size = getsizeof(0)       # estimate sizeof object without __sizeof__\n",
    "\n",
    "    def sizeof(o):\n",
    "        if id(o) in seen:       # do not double count the same object\n",
    "            return 0\n",
    "        seen.add(id(o))\n",
    "        s = getsizeof(o, default_size)\n",
    "\n",
    "        if verbose:\n",
    "            print(s, type(o), repr(o))\n",
    "\n",
    "        for typ, handler in all_handlers.items():\n",
    "            if isinstance(o, typ):\n",
    "                s += sum(map(sizeof, handler(o)))\n",
    "                break\n",
    "        return s\n",
    "\n",
    "    return sizeof(o)"
   ]
  },
  {
   "cell_type": "code",
   "execution_count": 88,
   "metadata": {},
   "outputs": [
    {
     "data": {
      "text/plain": [
       "['ID',\n",
       " 'name',\n",
       " 'category',\n",
       " 'main_category',\n",
       " 'currency',\n",
       " 'deadline',\n",
       " 'goal',\n",
       " 'launched',\n",
       " 'pledged',\n",
       " 'state',\n",
       " 'backers',\n",
       " 'country',\n",
       " 'usd pledged',\n",
       " 'usd_pledged_real',\n",
       " 'usd_goal_real']"
      ]
     },
     "execution_count": 88,
     "metadata": {},
     "output_type": "execute_result"
    }
   ],
   "source": [
    "import csv\n",
    "\n",
    "with open('ks-projects-201801.csv', 'r') as f:\n",
    "    csvreader = csv.reader(f, delimiter=',', quotechar='\"')\n",
    "    rows = [row for row in csvreader]\n",
    "    \n",
    "header = rows.pop(0)\n",
    "header"
   ]
  },
  {
   "cell_type": "code",
   "execution_count": 89,
   "metadata": {},
   "outputs": [],
   "source": [
    "header_dict = {name:index for name, index in zip(header, range(len(header)))}"
   ]
  },
  {
   "cell_type": "code",
   "execution_count": 90,
   "metadata": {},
   "outputs": [
    {
     "data": {
      "text/plain": [
       "['Publishing',\n",
       " 'Film & Video',\n",
       " 'Film & Video',\n",
       " 'Music',\n",
       " 'Film & Video',\n",
       " 'Food',\n",
       " 'Food',\n",
       " 'Food',\n",
       " 'Design',\n",
       " 'Film & Video',\n",
       " 'Publishing',\n",
       " 'Music',\n",
       " 'Crafts',\n",
       " 'Games',\n",
       " 'Games',\n",
       " 'Design',\n",
       " 'Comics',\n",
       " 'Publishing',\n",
       " 'Music',\n",
       " 'Food',\n",
       " 'Fashion',\n",
       " 'Fashion',\n",
       " 'Theater',\n",
       " 'Food',\n",
       " 'Comics',\n",
       " 'Music',\n",
       " 'Crafts',\n",
       " 'Film & Video',\n",
       " 'Comics',\n",
       " 'Film & Video',\n",
       " 'Food',\n",
       " 'Design',\n",
       " 'Design',\n",
       " 'Art',\n",
       " 'Music',\n",
       " 'Film & Video',\n",
       " 'Music',\n",
       " 'Film & Video',\n",
       " 'Art',\n",
       " 'Music',\n",
       " 'Publishing',\n",
       " 'Music',\n",
       " 'Photography',\n",
       " 'Games',\n",
       " 'Music',\n",
       " 'Film & Video',\n",
       " 'Food',\n",
       " 'Film & Video',\n",
       " 'Games',\n",
       " 'Art',\n",
       " 'Film & Video',\n",
       " 'Photography',\n",
       " 'Art',\n",
       " 'Photography',\n",
       " 'Film & Video',\n",
       " 'Food',\n",
       " 'Publishing',\n",
       " 'Film & Video',\n",
       " 'Film & Video',\n",
       " 'Games',\n",
       " 'Film & Video',\n",
       " 'Fashion',\n",
       " 'Art',\n",
       " 'Food',\n",
       " 'Music',\n",
       " 'Technology',\n",
       " 'Theater',\n",
       " 'Technology',\n",
       " 'Design',\n",
       " 'Crafts',\n",
       " 'Technology',\n",
       " 'Technology',\n",
       " 'Music',\n",
       " 'Games',\n",
       " 'Food',\n",
       " 'Design',\n",
       " 'Fashion',\n",
       " 'Theater',\n",
       " 'Film & Video',\n",
       " 'Games',\n",
       " 'Fashion',\n",
       " 'Games',\n",
       " 'Film & Video',\n",
       " 'Music',\n",
       " 'Fashion',\n",
       " 'Comics',\n",
       " 'Publishing',\n",
       " 'Theater',\n",
       " 'Food',\n",
       " 'Music',\n",
       " 'Games',\n",
       " 'Comics',\n",
       " 'Theater',\n",
       " 'Music',\n",
       " 'Music',\n",
       " 'Film & Video',\n",
       " 'Film & Video',\n",
       " 'Film & Video',\n",
       " 'Technology',\n",
       " 'Food',\n",
       " 'Film & Video',\n",
       " 'Music',\n",
       " 'Publishing',\n",
       " 'Design',\n",
       " 'Technology',\n",
       " 'Food',\n",
       " 'Film & Video',\n",
       " 'Film & Video',\n",
       " 'Fashion',\n",
       " 'Fashion',\n",
       " 'Music',\n",
       " 'Games',\n",
       " 'Technology',\n",
       " 'Food',\n",
       " 'Music',\n",
       " 'Music',\n",
       " 'Art',\n",
       " 'Film & Video',\n",
       " 'Music',\n",
       " 'Film & Video',\n",
       " 'Publishing',\n",
       " 'Design',\n",
       " 'Dance',\n",
       " 'Games',\n",
       " 'Food',\n",
       " 'Photography',\n",
       " 'Games',\n",
       " 'Technology',\n",
       " 'Art',\n",
       " 'Film & Video',\n",
       " 'Art',\n",
       " 'Film & Video',\n",
       " 'Music',\n",
       " 'Technology',\n",
       " 'Publishing',\n",
       " 'Technology',\n",
       " 'Games',\n",
       " 'Music',\n",
       " 'Publishing',\n",
       " 'Art',\n",
       " 'Photography',\n",
       " 'Film & Video',\n",
       " 'Art',\n",
       " 'Design',\n",
       " 'Fashion',\n",
       " 'Technology',\n",
       " 'Games',\n",
       " 'Publishing',\n",
       " 'Music',\n",
       " 'Music',\n",
       " 'Games',\n",
       " 'Games',\n",
       " 'Technology',\n",
       " 'Theater',\n",
       " 'Technology',\n",
       " 'Photography',\n",
       " 'Film & Video',\n",
       " 'Film & Video',\n",
       " 'Publishing',\n",
       " 'Games',\n",
       " 'Music',\n",
       " 'Games',\n",
       " 'Fashion',\n",
       " 'Technology',\n",
       " 'Technology',\n",
       " 'Music',\n",
       " 'Film & Video',\n",
       " 'Publishing',\n",
       " 'Art',\n",
       " 'Film & Video',\n",
       " 'Technology',\n",
       " 'Music',\n",
       " 'Music',\n",
       " 'Publishing',\n",
       " 'Film & Video',\n",
       " 'Design',\n",
       " 'Music',\n",
       " 'Design',\n",
       " 'Film & Video',\n",
       " 'Design',\n",
       " 'Film & Video',\n",
       " 'Games',\n",
       " 'Music',\n",
       " 'Film & Video',\n",
       " 'Design',\n",
       " 'Publishing',\n",
       " 'Design',\n",
       " 'Technology',\n",
       " 'Music',\n",
       " 'Publishing',\n",
       " 'Film & Video',\n",
       " 'Art',\n",
       " 'Games',\n",
       " 'Music',\n",
       " 'Technology',\n",
       " 'Photography',\n",
       " 'Games',\n",
       " 'Journalism',\n",
       " 'Fashion',\n",
       " 'Games',\n",
       " 'Design',\n",
       " 'Photography',\n",
       " 'Design',\n",
       " 'Food',\n",
       " 'Fashion',\n",
       " 'Photography',\n",
       " 'Film & Video',\n",
       " 'Film & Video',\n",
       " 'Comics',\n",
       " 'Theater',\n",
       " 'Design',\n",
       " 'Fashion',\n",
       " 'Design',\n",
       " 'Art',\n",
       " 'Games',\n",
       " 'Film & Video',\n",
       " 'Theater',\n",
       " 'Games',\n",
       " 'Publishing',\n",
       " 'Games',\n",
       " 'Film & Video',\n",
       " 'Games',\n",
       " 'Art',\n",
       " 'Music',\n",
       " 'Publishing',\n",
       " 'Crafts',\n",
       " 'Food',\n",
       " 'Games',\n",
       " 'Comics',\n",
       " 'Publishing',\n",
       " 'Food',\n",
       " 'Publishing',\n",
       " 'Games',\n",
       " 'Dance',\n",
       " 'Design',\n",
       " 'Publishing',\n",
       " 'Publishing',\n",
       " 'Music',\n",
       " 'Design',\n",
       " 'Music',\n",
       " 'Film & Video',\n",
       " 'Comics',\n",
       " 'Photography',\n",
       " 'Comics',\n",
       " 'Technology',\n",
       " 'Film & Video',\n",
       " 'Film & Video',\n",
       " 'Food',\n",
       " 'Film & Video',\n",
       " 'Art',\n",
       " 'Games',\n",
       " 'Food',\n",
       " 'Art',\n",
       " 'Dance',\n",
       " 'Photography',\n",
       " 'Technology',\n",
       " 'Food',\n",
       " 'Art',\n",
       " 'Film & Video',\n",
       " 'Games',\n",
       " 'Publishing',\n",
       " 'Technology',\n",
       " 'Games',\n",
       " 'Food',\n",
       " 'Dance',\n",
       " 'Music',\n",
       " 'Film & Video',\n",
       " 'Music',\n",
       " 'Fashion',\n",
       " 'Fashion',\n",
       " 'Design',\n",
       " 'Film & Video',\n",
       " 'Games',\n",
       " 'Film & Video',\n",
       " 'Film & Video',\n",
       " 'Music',\n",
       " 'Art',\n",
       " 'Film & Video',\n",
       " 'Film & Video',\n",
       " 'Film & Video',\n",
       " 'Film & Video',\n",
       " 'Film & Video',\n",
       " 'Art',\n",
       " 'Fashion',\n",
       " 'Art',\n",
       " 'Technology',\n",
       " 'Art',\n",
       " 'Comics',\n",
       " 'Publishing',\n",
       " 'Design',\n",
       " 'Publishing',\n",
       " 'Art',\n",
       " 'Fashion',\n",
       " 'Food',\n",
       " 'Music',\n",
       " 'Crafts',\n",
       " 'Film & Video',\n",
       " 'Publishing',\n",
       " 'Fashion',\n",
       " 'Film & Video',\n",
       " 'Film & Video',\n",
       " 'Art',\n",
       " 'Games',\n",
       " 'Publishing',\n",
       " 'Journalism',\n",
       " 'Games',\n",
       " 'Food',\n",
       " 'Games',\n",
       " 'Fashion',\n",
       " 'Film & Video',\n",
       " 'Games',\n",
       " 'Design',\n",
       " 'Theater',\n",
       " 'Photography',\n",
       " 'Design',\n",
       " 'Art',\n",
       " 'Food',\n",
       " 'Film & Video',\n",
       " 'Games',\n",
       " 'Games',\n",
       " 'Fashion',\n",
       " 'Publishing',\n",
       " 'Music',\n",
       " 'Food',\n",
       " 'Photography',\n",
       " 'Food',\n",
       " 'Technology',\n",
       " 'Art',\n",
       " 'Music',\n",
       " 'Film & Video',\n",
       " 'Technology',\n",
       " 'Art',\n",
       " 'Publishing',\n",
       " 'Art',\n",
       " 'Fashion',\n",
       " 'Music',\n",
       " 'Photography',\n",
       " 'Film & Video',\n",
       " 'Fashion',\n",
       " 'Design',\n",
       " 'Publishing',\n",
       " 'Food',\n",
       " 'Publishing',\n",
       " 'Film & Video',\n",
       " 'Comics',\n",
       " 'Technology',\n",
       " 'Fashion',\n",
       " 'Design',\n",
       " 'Film & Video',\n",
       " 'Technology',\n",
       " 'Dance',\n",
       " 'Music',\n",
       " 'Food',\n",
       " 'Music',\n",
       " 'Film & Video',\n",
       " 'Technology',\n",
       " 'Music',\n",
       " 'Music',\n",
       " 'Music',\n",
       " 'Film & Video',\n",
       " 'Design',\n",
       " 'Music',\n",
       " 'Art',\n",
       " 'Fashion',\n",
       " 'Technology',\n",
       " 'Technology',\n",
       " 'Design',\n",
       " 'Technology',\n",
       " 'Film & Video',\n",
       " 'Photography',\n",
       " 'Comics',\n",
       " 'Film & Video',\n",
       " 'Games',\n",
       " 'Music',\n",
       " 'Design',\n",
       " 'Games',\n",
       " 'Technology',\n",
       " 'Film & Video',\n",
       " 'Food',\n",
       " 'Publishing',\n",
       " 'Film & Video',\n",
       " 'Art',\n",
       " 'Publishing',\n",
       " 'Art',\n",
       " 'Film & Video',\n",
       " 'Film & Video',\n",
       " 'Design',\n",
       " 'Games',\n",
       " 'Music',\n",
       " 'Film & Video',\n",
       " 'Publishing',\n",
       " 'Music',\n",
       " 'Film & Video',\n",
       " 'Film & Video',\n",
       " 'Film & Video',\n",
       " 'Music',\n",
       " 'Comics',\n",
       " 'Art',\n",
       " 'Journalism',\n",
       " 'Games',\n",
       " 'Dance',\n",
       " 'Photography',\n",
       " 'Film & Video',\n",
       " 'Food',\n",
       " 'Technology',\n",
       " 'Film & Video',\n",
       " 'Music',\n",
       " 'Technology',\n",
       " 'Comics',\n",
       " 'Design',\n",
       " 'Design',\n",
       " 'Publishing',\n",
       " 'Art',\n",
       " 'Fashion',\n",
       " 'Fashion',\n",
       " 'Film & Video',\n",
       " 'Fashion',\n",
       " 'Art',\n",
       " 'Comics',\n",
       " 'Publishing',\n",
       " 'Film & Video',\n",
       " 'Film & Video',\n",
       " 'Film & Video',\n",
       " 'Film & Video',\n",
       " 'Food',\n",
       " 'Publishing',\n",
       " 'Design',\n",
       " 'Publishing',\n",
       " 'Film & Video',\n",
       " 'Technology',\n",
       " 'Games',\n",
       " 'Design',\n",
       " 'Film & Video',\n",
       " 'Photography',\n",
       " 'Art',\n",
       " 'Art',\n",
       " 'Design',\n",
       " 'Design',\n",
       " 'Publishing',\n",
       " 'Art',\n",
       " 'Comics',\n",
       " 'Food',\n",
       " 'Fashion',\n",
       " 'Art',\n",
       " 'Music',\n",
       " 'Theater',\n",
       " 'Art',\n",
       " 'Journalism',\n",
       " 'Music',\n",
       " 'Film & Video',\n",
       " 'Music',\n",
       " 'Music',\n",
       " 'Publishing',\n",
       " 'Publishing',\n",
       " 'Games',\n",
       " 'Technology',\n",
       " 'Publishing',\n",
       " 'Design',\n",
       " 'Film & Video',\n",
       " 'Photography',\n",
       " 'Technology',\n",
       " 'Art',\n",
       " 'Film & Video',\n",
       " 'Games',\n",
       " 'Art',\n",
       " 'Art',\n",
       " 'Technology',\n",
       " 'Film & Video',\n",
       " 'Art',\n",
       " 'Publishing',\n",
       " 'Dance',\n",
       " 'Crafts',\n",
       " 'Games',\n",
       " 'Film & Video',\n",
       " 'Music',\n",
       " 'Games',\n",
       " 'Publishing',\n",
       " 'Music',\n",
       " 'Design',\n",
       " 'Publishing',\n",
       " 'Food',\n",
       " 'Comics',\n",
       " 'Art',\n",
       " 'Art',\n",
       " 'Film & Video',\n",
       " 'Film & Video',\n",
       " 'Fashion',\n",
       " 'Games',\n",
       " 'Art',\n",
       " 'Film & Video',\n",
       " 'Games',\n",
       " 'Food',\n",
       " 'Film & Video',\n",
       " 'Fashion',\n",
       " 'Technology',\n",
       " 'Games',\n",
       " 'Film & Video',\n",
       " 'Film & Video',\n",
       " 'Games',\n",
       " 'Publishing',\n",
       " 'Food',\n",
       " 'Crafts',\n",
       " 'Music',\n",
       " 'Food',\n",
       " 'Theater',\n",
       " 'Music',\n",
       " 'Film & Video',\n",
       " 'Food',\n",
       " 'Art',\n",
       " 'Film & Video',\n",
       " 'Technology',\n",
       " 'Film & Video',\n",
       " 'Games',\n",
       " 'Crafts',\n",
       " 'Technology',\n",
       " 'Film & Video',\n",
       " 'Technology',\n",
       " 'Music',\n",
       " 'Art',\n",
       " 'Games',\n",
       " 'Film & Video',\n",
       " 'Art',\n",
       " 'Technology',\n",
       " 'Publishing',\n",
       " 'Music',\n",
       " 'Technology',\n",
       " 'Crafts',\n",
       " 'Film & Video',\n",
       " 'Design',\n",
       " 'Music',\n",
       " 'Film & Video',\n",
       " 'Art',\n",
       " 'Music',\n",
       " 'Comics',\n",
       " 'Design',\n",
       " 'Theater',\n",
       " 'Games',\n",
       " 'Film & Video',\n",
       " 'Games',\n",
       " 'Technology',\n",
       " 'Art',\n",
       " 'Music',\n",
       " 'Design',\n",
       " 'Art',\n",
       " 'Art',\n",
       " 'Design',\n",
       " 'Design',\n",
       " 'Design',\n",
       " 'Art',\n",
       " 'Design',\n",
       " 'Music',\n",
       " 'Games',\n",
       " 'Technology',\n",
       " 'Film & Video',\n",
       " 'Film & Video',\n",
       " 'Technology',\n",
       " 'Film & Video',\n",
       " 'Food',\n",
       " 'Food',\n",
       " 'Design',\n",
       " 'Music',\n",
       " 'Technology',\n",
       " 'Publishing',\n",
       " 'Publishing',\n",
       " 'Publishing',\n",
       " 'Crafts',\n",
       " 'Fashion',\n",
       " 'Film & Video',\n",
       " 'Food',\n",
       " 'Film & Video',\n",
       " 'Film & Video',\n",
       " 'Publishing',\n",
       " 'Art',\n",
       " 'Art',\n",
       " 'Film & Video',\n",
       " 'Technology',\n",
       " 'Film & Video',\n",
       " 'Games',\n",
       " 'Music',\n",
       " 'Film & Video',\n",
       " 'Music',\n",
       " 'Technology',\n",
       " 'Technology',\n",
       " 'Art',\n",
       " 'Photography',\n",
       " 'Comics',\n",
       " 'Art',\n",
       " 'Music',\n",
       " 'Music',\n",
       " 'Games',\n",
       " 'Technology',\n",
       " 'Film & Video',\n",
       " 'Theater',\n",
       " 'Games',\n",
       " 'Music',\n",
       " 'Art',\n",
       " 'Music',\n",
       " 'Food',\n",
       " 'Design',\n",
       " 'Film & Video',\n",
       " 'Comics',\n",
       " 'Art',\n",
       " 'Music',\n",
       " 'Film & Video',\n",
       " 'Music',\n",
       " 'Games',\n",
       " 'Film & Video',\n",
       " 'Fashion',\n",
       " 'Theater',\n",
       " 'Design',\n",
       " 'Games',\n",
       " 'Technology',\n",
       " 'Publishing',\n",
       " 'Games',\n",
       " 'Comics',\n",
       " 'Fashion',\n",
       " 'Publishing',\n",
       " 'Fashion',\n",
       " 'Film & Video',\n",
       " 'Games',\n",
       " 'Music',\n",
       " 'Technology',\n",
       " 'Publishing',\n",
       " 'Art',\n",
       " 'Food',\n",
       " 'Journalism',\n",
       " 'Music',\n",
       " 'Theater',\n",
       " 'Music',\n",
       " 'Music',\n",
       " 'Film & Video',\n",
       " 'Film & Video',\n",
       " 'Music',\n",
       " 'Music',\n",
       " 'Fashion',\n",
       " 'Food',\n",
       " 'Film & Video',\n",
       " 'Comics',\n",
       " 'Games',\n",
       " 'Film & Video',\n",
       " 'Art',\n",
       " 'Music',\n",
       " 'Technology',\n",
       " 'Film & Video',\n",
       " 'Publishing',\n",
       " 'Film & Video',\n",
       " 'Fashion',\n",
       " 'Music',\n",
       " 'Film & Video',\n",
       " 'Games',\n",
       " 'Music',\n",
       " 'Design',\n",
       " 'Art',\n",
       " 'Technology',\n",
       " 'Music',\n",
       " 'Technology',\n",
       " 'Games',\n",
       " 'Comics',\n",
       " 'Games',\n",
       " 'Music',\n",
       " 'Art',\n",
       " 'Publishing',\n",
       " 'Music',\n",
       " 'Comics',\n",
       " 'Music',\n",
       " 'Music',\n",
       " 'Film & Video',\n",
       " 'Fashion',\n",
       " 'Film & Video',\n",
       " 'Publishing',\n",
       " 'Fashion',\n",
       " 'Music',\n",
       " 'Theater',\n",
       " 'Comics',\n",
       " 'Food',\n",
       " 'Film & Video',\n",
       " 'Art',\n",
       " 'Film & Video',\n",
       " 'Technology',\n",
       " 'Food',\n",
       " 'Design',\n",
       " 'Fashion',\n",
       " 'Art',\n",
       " 'Design',\n",
       " 'Art',\n",
       " 'Design',\n",
       " 'Film & Video',\n",
       " 'Crafts',\n",
       " 'Crafts',\n",
       " 'Technology',\n",
       " 'Music',\n",
       " 'Publishing',\n",
       " 'Comics',\n",
       " 'Music',\n",
       " 'Fashion',\n",
       " 'Film & Video',\n",
       " 'Publishing',\n",
       " 'Fashion',\n",
       " 'Music',\n",
       " 'Food',\n",
       " 'Dance',\n",
       " 'Games',\n",
       " 'Film & Video',\n",
       " 'Music',\n",
       " 'Film & Video',\n",
       " 'Design',\n",
       " 'Publishing',\n",
       " 'Art',\n",
       " 'Food',\n",
       " 'Games',\n",
       " 'Technology',\n",
       " 'Technology',\n",
       " 'Games',\n",
       " 'Art',\n",
       " 'Journalism',\n",
       " 'Games',\n",
       " 'Film & Video',\n",
       " 'Art',\n",
       " 'Food',\n",
       " 'Photography',\n",
       " 'Food',\n",
       " 'Photography',\n",
       " 'Fashion',\n",
       " 'Film & Video',\n",
       " 'Music',\n",
       " 'Games',\n",
       " 'Games',\n",
       " 'Design',\n",
       " 'Film & Video',\n",
       " 'Publishing',\n",
       " 'Technology',\n",
       " 'Games',\n",
       " 'Food',\n",
       " 'Journalism',\n",
       " 'Film & Video',\n",
       " 'Publishing',\n",
       " 'Design',\n",
       " 'Music',\n",
       " 'Film & Video',\n",
       " 'Technology',\n",
       " 'Comics',\n",
       " 'Comics',\n",
       " 'Design',\n",
       " 'Theater',\n",
       " 'Publishing',\n",
       " 'Film & Video',\n",
       " 'Technology',\n",
       " 'Music',\n",
       " 'Music',\n",
       " 'Music',\n",
       " 'Music',\n",
       " 'Design',\n",
       " 'Film & Video',\n",
       " 'Film & Video',\n",
       " 'Film & Video',\n",
       " 'Film & Video',\n",
       " 'Games',\n",
       " 'Games',\n",
       " 'Art',\n",
       " 'Art',\n",
       " 'Crafts',\n",
       " 'Film & Video',\n",
       " 'Film & Video',\n",
       " 'Food',\n",
       " 'Music',\n",
       " 'Publishing',\n",
       " 'Film & Video',\n",
       " 'Food',\n",
       " 'Comics',\n",
       " 'Fashion',\n",
       " 'Publishing',\n",
       " 'Games',\n",
       " 'Film & Video',\n",
       " 'Film & Video',\n",
       " 'Music',\n",
       " 'Film & Video',\n",
       " 'Film & Video',\n",
       " 'Comics',\n",
       " 'Art',\n",
       " 'Art',\n",
       " 'Fashion',\n",
       " 'Food',\n",
       " 'Games',\n",
       " 'Food',\n",
       " 'Film & Video',\n",
       " 'Games',\n",
       " 'Technology',\n",
       " 'Technology',\n",
       " 'Music',\n",
       " 'Music',\n",
       " 'Design',\n",
       " 'Photography',\n",
       " 'Art',\n",
       " 'Music',\n",
       " 'Games',\n",
       " 'Design',\n",
       " 'Games',\n",
       " 'Publishing',\n",
       " 'Film & Video',\n",
       " 'Film & Video',\n",
       " 'Art',\n",
       " 'Publishing',\n",
       " 'Music',\n",
       " 'Music',\n",
       " 'Film & Video',\n",
       " 'Art',\n",
       " 'Music',\n",
       " 'Film & Video',\n",
       " 'Technology',\n",
       " 'Technology',\n",
       " 'Fashion',\n",
       " 'Fashion',\n",
       " 'Film & Video',\n",
       " 'Film & Video',\n",
       " 'Comics',\n",
       " 'Art',\n",
       " 'Technology',\n",
       " 'Art',\n",
       " 'Theater',\n",
       " 'Music',\n",
       " 'Film & Video',\n",
       " 'Film & Video',\n",
       " 'Crafts',\n",
       " 'Art',\n",
       " 'Music',\n",
       " 'Games',\n",
       " 'Publishing',\n",
       " 'Fashion',\n",
       " 'Photography',\n",
       " 'Publishing',\n",
       " 'Film & Video',\n",
       " 'Art',\n",
       " 'Games',\n",
       " 'Design',\n",
       " 'Film & Video',\n",
       " 'Publishing',\n",
       " 'Music',\n",
       " 'Design',\n",
       " 'Music',\n",
       " 'Fashion',\n",
       " 'Film & Video',\n",
       " 'Journalism',\n",
       " 'Technology',\n",
       " 'Film & Video',\n",
       " 'Music',\n",
       " 'Photography',\n",
       " 'Food',\n",
       " 'Technology',\n",
       " 'Games',\n",
       " 'Games',\n",
       " 'Publishing',\n",
       " 'Games',\n",
       " 'Design',\n",
       " 'Fashion',\n",
       " 'Film & Video',\n",
       " 'Games',\n",
       " 'Music',\n",
       " 'Music',\n",
       " 'Art',\n",
       " 'Publishing',\n",
       " 'Dance',\n",
       " 'Food',\n",
       " 'Publishing',\n",
       " 'Crafts',\n",
       " 'Film & Video',\n",
       " 'Film & Video',\n",
       " 'Food',\n",
       " 'Journalism',\n",
       " 'Music',\n",
       " 'Art',\n",
       " 'Music',\n",
       " 'Art',\n",
       " 'Games',\n",
       " 'Games',\n",
       " 'Design',\n",
       " 'Publishing',\n",
       " 'Publishing',\n",
       " 'Music',\n",
       " 'Design',\n",
       " 'Technology',\n",
       " 'Crafts',\n",
       " 'Music',\n",
       " 'Crafts',\n",
       " 'Film & Video',\n",
       " 'Games',\n",
       " 'Photography',\n",
       " 'Photography',\n",
       " 'Theater',\n",
       " 'Film & Video',\n",
       " 'Music',\n",
       " 'Music',\n",
       " 'Film & Video',\n",
       " 'Art',\n",
       " 'Music',\n",
       " 'Crafts',\n",
       " 'Art',\n",
       " 'Publishing',\n",
       " 'Fashion',\n",
       " 'Food',\n",
       " 'Games',\n",
       " 'Design',\n",
       " 'Games',\n",
       " 'Film & Video',\n",
       " 'Music',\n",
       " 'Publishing',\n",
       " 'Art',\n",
       " 'Technology',\n",
       " 'Art',\n",
       " 'Film & Video',\n",
       " 'Food',\n",
       " 'Music',\n",
       " 'Photography',\n",
       " 'Music',\n",
       " 'Art',\n",
       " 'Art',\n",
       " 'Games',\n",
       " 'Games',\n",
       " 'Photography',\n",
       " 'Games',\n",
       " 'Publishing',\n",
       " 'Publishing',\n",
       " 'Film & Video',\n",
       " 'Film & Video',\n",
       " 'Games',\n",
       " 'Film & Video',\n",
       " 'Comics',\n",
       " 'Photography',\n",
       " 'Design',\n",
       " 'Technology',\n",
       " 'Film & Video',\n",
       " 'Games',\n",
       " 'Film & Video',\n",
       " 'Design',\n",
       " 'Publishing',\n",
       " 'Art',\n",
       " 'Technology',\n",
       " 'Food',\n",
       " 'Music',\n",
       " 'Music',\n",
       " 'Film & Video',\n",
       " 'Food',\n",
       " 'Music',\n",
       " 'Publishing',\n",
       " 'Music',\n",
       " 'Photography',\n",
       " 'Film & Video',\n",
       " 'Comics',\n",
       " 'Film & Video',\n",
       " 'Theater',\n",
       " 'Photography',\n",
       " 'Music',\n",
       " 'Music',\n",
       " 'Publishing',\n",
       " 'Publishing',\n",
       " 'Food',\n",
       " 'Games',\n",
       " 'Art',\n",
       " 'Publishing',\n",
       " 'Design',\n",
       " 'Publishing',\n",
       " 'Music',\n",
       " 'Games',\n",
       " 'Publishing',\n",
       " 'Theater',\n",
       " 'Art',\n",
       " 'Film & Video',\n",
       " 'Music',\n",
       " 'Games',\n",
       " 'Fashion',\n",
       " 'Film & Video',\n",
       " 'Music',\n",
       " 'Journalism',\n",
       " 'Film & Video',\n",
       " 'Design',\n",
       " 'Art',\n",
       " 'Fashion',\n",
       " 'Technology',\n",
       " 'Fashion',\n",
       " 'Music',\n",
       " 'Publishing',\n",
       " 'Games',\n",
       " 'Design',\n",
       " 'Publishing',\n",
       " 'Fashion',\n",
       " 'Music',\n",
       " 'Music',\n",
       " 'Design',\n",
       " 'Music',\n",
       " 'Games',\n",
       " 'Fashion',\n",
       " 'Food',\n",
       " 'Film & Video',\n",
       " 'Design',\n",
       " 'Music',\n",
       " 'Music',\n",
       " 'Publishing',\n",
       " 'Fashion',\n",
       " 'Comics',\n",
       " 'Games',\n",
       " 'Photography',\n",
       " ...]"
      ]
     },
     "execution_count": 90,
     "metadata": {},
     "output_type": "execute_result"
    }
   ],
   "source": [
    "main_category_raw = [ row[header_dict['main_category']] for row in rows]\n",
    "main_category_raw"
   ]
  },
  {
   "cell_type": "code",
   "execution_count": 91,
   "metadata": {},
   "outputs": [
    {
     "data": {
      "text/plain": [
       "{'Film & Video': 0,\n",
       " 'Fashion': 1,\n",
       " 'Theater': 2,\n",
       " 'Publishing': 3,\n",
       " 'Music': 12,\n",
       " 'Food': 5,\n",
       " 'Photography': 7,\n",
       " 'Games': 13,\n",
       " 'Journalism': 8,\n",
       " 'Comics': 9,\n",
       " 'Design': 10,\n",
       " 'Crafts': 11,\n",
       " 'Art': 4,\n",
       " 'Technology': 6,\n",
       " 'Dance': 14}"
      ]
     },
     "execution_count": 91,
     "metadata": {},
     "output_type": "execute_result"
    }
   ],
   "source": [
    "import json\n",
    "with open('category_mapping.json') as f:\n",
    "    mapping = json.loads(f.read())\n",
    "\n",
    "mapping"
   ]
  },
  {
   "cell_type": "code",
   "execution_count": 71,
   "metadata": {},
   "outputs": [
    {
     "data": {
      "text/plain": [
       "[3,\n",
       " 0,\n",
       " 0,\n",
       " 12,\n",
       " 0,\n",
       " 5,\n",
       " 5,\n",
       " 5,\n",
       " 10,\n",
       " 0,\n",
       " 3,\n",
       " 12,\n",
       " 11,\n",
       " 13,\n",
       " 13,\n",
       " 10,\n",
       " 9,\n",
       " 3,\n",
       " 12,\n",
       " 5,\n",
       " 1,\n",
       " 1,\n",
       " 2,\n",
       " 5,\n",
       " 9,\n",
       " 12,\n",
       " 11,\n",
       " 0,\n",
       " 9,\n",
       " 0,\n",
       " 5,\n",
       " 10,\n",
       " 10,\n",
       " 4,\n",
       " 12,\n",
       " 0,\n",
       " 12,\n",
       " 0,\n",
       " 4,\n",
       " 12,\n",
       " 3,\n",
       " 12,\n",
       " 7,\n",
       " 13,\n",
       " 12,\n",
       " 0,\n",
       " 5,\n",
       " 0,\n",
       " 13,\n",
       " 4,\n",
       " 0,\n",
       " 7,\n",
       " 4,\n",
       " 7,\n",
       " 0,\n",
       " 5,\n",
       " 3,\n",
       " 0,\n",
       " 0,\n",
       " 13,\n",
       " 0,\n",
       " 1,\n",
       " 4,\n",
       " 5,\n",
       " 12,\n",
       " 6,\n",
       " 2,\n",
       " 6,\n",
       " 10,\n",
       " 11,\n",
       " 6,\n",
       " 6,\n",
       " 12,\n",
       " 13,\n",
       " 5,\n",
       " 10,\n",
       " 1,\n",
       " 2,\n",
       " 0,\n",
       " 13,\n",
       " 1,\n",
       " 13,\n",
       " 0,\n",
       " 12,\n",
       " 1,\n",
       " 9,\n",
       " 3,\n",
       " 2,\n",
       " 5,\n",
       " 12,\n",
       " 13,\n",
       " 9,\n",
       " 2,\n",
       " 12,\n",
       " 12,\n",
       " 0,\n",
       " 0,\n",
       " 0,\n",
       " 6,\n",
       " 5,\n",
       " 0,\n",
       " 12,\n",
       " 3,\n",
       " 10,\n",
       " 6,\n",
       " 5,\n",
       " 0,\n",
       " 0,\n",
       " 1,\n",
       " 1,\n",
       " 12,\n",
       " 13,\n",
       " 6,\n",
       " 5,\n",
       " 12,\n",
       " 12,\n",
       " 4,\n",
       " 0,\n",
       " 12,\n",
       " 0,\n",
       " 3,\n",
       " 10,\n",
       " 14,\n",
       " 13,\n",
       " 5,\n",
       " 7,\n",
       " 13,\n",
       " 6,\n",
       " 4,\n",
       " 0,\n",
       " 4,\n",
       " 0,\n",
       " 12,\n",
       " 6,\n",
       " 3,\n",
       " 6,\n",
       " 13,\n",
       " 12,\n",
       " 3,\n",
       " 4,\n",
       " 7,\n",
       " 0,\n",
       " 4,\n",
       " 10,\n",
       " 1,\n",
       " 6,\n",
       " 13,\n",
       " 3,\n",
       " 12,\n",
       " 12,\n",
       " 13,\n",
       " 13,\n",
       " 6,\n",
       " 2,\n",
       " 6,\n",
       " 7,\n",
       " 0,\n",
       " 0,\n",
       " 3,\n",
       " 13,\n",
       " 12,\n",
       " 13,\n",
       " 1,\n",
       " 6,\n",
       " 6,\n",
       " 12,\n",
       " 0,\n",
       " 3,\n",
       " 4,\n",
       " 0,\n",
       " 6,\n",
       " 12,\n",
       " 12,\n",
       " 3,\n",
       " 0,\n",
       " 10,\n",
       " 12,\n",
       " 10,\n",
       " 0,\n",
       " 10,\n",
       " 0,\n",
       " 13,\n",
       " 12,\n",
       " 0,\n",
       " 10,\n",
       " 3,\n",
       " 10,\n",
       " 6,\n",
       " 12,\n",
       " 3,\n",
       " 0,\n",
       " 4,\n",
       " 13,\n",
       " 12,\n",
       " 6,\n",
       " 7,\n",
       " 13,\n",
       " 8,\n",
       " 1,\n",
       " 13,\n",
       " 10,\n",
       " 7,\n",
       " 10,\n",
       " 5,\n",
       " 1,\n",
       " 7,\n",
       " 0,\n",
       " 0,\n",
       " 9,\n",
       " 2,\n",
       " 10,\n",
       " 1,\n",
       " 10,\n",
       " 4,\n",
       " 13,\n",
       " 0,\n",
       " 2,\n",
       " 13,\n",
       " 3,\n",
       " 13,\n",
       " 0,\n",
       " 13,\n",
       " 4,\n",
       " 12,\n",
       " 3,\n",
       " 11,\n",
       " 5,\n",
       " 13,\n",
       " 9,\n",
       " 3,\n",
       " 5,\n",
       " 3,\n",
       " 13,\n",
       " 14,\n",
       " 10,\n",
       " 3,\n",
       " 3,\n",
       " 12,\n",
       " 10,\n",
       " 12,\n",
       " 0,\n",
       " 9,\n",
       " 7,\n",
       " 9,\n",
       " 6,\n",
       " 0,\n",
       " 0,\n",
       " 5,\n",
       " 0,\n",
       " 4,\n",
       " 13,\n",
       " 5,\n",
       " 4,\n",
       " 14,\n",
       " 7,\n",
       " 6,\n",
       " 5,\n",
       " 4,\n",
       " 0,\n",
       " 13,\n",
       " 3,\n",
       " 6,\n",
       " 13,\n",
       " 5,\n",
       " 14,\n",
       " 12,\n",
       " 0,\n",
       " 12,\n",
       " 1,\n",
       " 1,\n",
       " 10,\n",
       " 0,\n",
       " 13,\n",
       " 0,\n",
       " 0,\n",
       " 12,\n",
       " 4,\n",
       " 0,\n",
       " 0,\n",
       " 0,\n",
       " 0,\n",
       " 0,\n",
       " 4,\n",
       " 1,\n",
       " 4,\n",
       " 6,\n",
       " 4,\n",
       " 9,\n",
       " 3,\n",
       " 10,\n",
       " 3,\n",
       " 4,\n",
       " 1,\n",
       " 5,\n",
       " 12,\n",
       " 11,\n",
       " 0,\n",
       " 3,\n",
       " 1,\n",
       " 0,\n",
       " 0,\n",
       " 4,\n",
       " 13,\n",
       " 3,\n",
       " 8,\n",
       " 13,\n",
       " 5,\n",
       " 13,\n",
       " 1,\n",
       " 0,\n",
       " 13,\n",
       " 10,\n",
       " 2,\n",
       " 7,\n",
       " 10,\n",
       " 4,\n",
       " 5,\n",
       " 0,\n",
       " 13,\n",
       " 13,\n",
       " 1,\n",
       " 3,\n",
       " 12,\n",
       " 5,\n",
       " 7,\n",
       " 5,\n",
       " 6,\n",
       " 4,\n",
       " 12,\n",
       " 0,\n",
       " 6,\n",
       " 4,\n",
       " 3,\n",
       " 4,\n",
       " 1,\n",
       " 12,\n",
       " 7,\n",
       " 0,\n",
       " 1,\n",
       " 10,\n",
       " 3,\n",
       " 5,\n",
       " 3,\n",
       " 0,\n",
       " 9,\n",
       " 6,\n",
       " 1,\n",
       " 10,\n",
       " 0,\n",
       " 6,\n",
       " 14,\n",
       " 12,\n",
       " 5,\n",
       " 12,\n",
       " 0,\n",
       " 6,\n",
       " 12,\n",
       " 12,\n",
       " 12,\n",
       " 0,\n",
       " 10,\n",
       " 12,\n",
       " 4,\n",
       " 1,\n",
       " 6,\n",
       " 6,\n",
       " 10,\n",
       " 6,\n",
       " 0,\n",
       " 7,\n",
       " 9,\n",
       " 0,\n",
       " 13,\n",
       " 12,\n",
       " 10,\n",
       " 13,\n",
       " 6,\n",
       " 0,\n",
       " 5,\n",
       " 3,\n",
       " 0,\n",
       " 4,\n",
       " 3,\n",
       " 4,\n",
       " 0,\n",
       " 0,\n",
       " 10,\n",
       " 13,\n",
       " 12,\n",
       " 0,\n",
       " 3,\n",
       " 12,\n",
       " 0,\n",
       " 0,\n",
       " 0,\n",
       " 12,\n",
       " 9,\n",
       " 4,\n",
       " 8,\n",
       " 13,\n",
       " 14,\n",
       " 7,\n",
       " 0,\n",
       " 5,\n",
       " 6,\n",
       " 0,\n",
       " 12,\n",
       " 6,\n",
       " 9,\n",
       " 10,\n",
       " 10,\n",
       " 3,\n",
       " 4,\n",
       " 1,\n",
       " 1,\n",
       " 0,\n",
       " 1,\n",
       " 4,\n",
       " 9,\n",
       " 3,\n",
       " 0,\n",
       " 0,\n",
       " 0,\n",
       " 0,\n",
       " 5,\n",
       " 3,\n",
       " 10,\n",
       " 3,\n",
       " 0,\n",
       " 6,\n",
       " 13,\n",
       " 10,\n",
       " 0,\n",
       " 7,\n",
       " 4,\n",
       " 4,\n",
       " 10,\n",
       " 10,\n",
       " 3,\n",
       " 4,\n",
       " 9,\n",
       " 5,\n",
       " 1,\n",
       " 4,\n",
       " 12,\n",
       " 2,\n",
       " 4,\n",
       " 8,\n",
       " 12,\n",
       " 0,\n",
       " 12,\n",
       " 12,\n",
       " 3,\n",
       " 3,\n",
       " 13,\n",
       " 6,\n",
       " 3,\n",
       " 10,\n",
       " 0,\n",
       " 7,\n",
       " 6,\n",
       " 4,\n",
       " 0,\n",
       " 13,\n",
       " 4,\n",
       " 4,\n",
       " 6,\n",
       " 0,\n",
       " 4,\n",
       " 3,\n",
       " 14,\n",
       " 11,\n",
       " 13,\n",
       " 0,\n",
       " 12,\n",
       " 13,\n",
       " 3,\n",
       " 12,\n",
       " 10,\n",
       " 3,\n",
       " 5,\n",
       " 9,\n",
       " 4,\n",
       " 4,\n",
       " 0,\n",
       " 0,\n",
       " 1,\n",
       " 13,\n",
       " 4,\n",
       " 0,\n",
       " 13,\n",
       " 5,\n",
       " 0,\n",
       " 1,\n",
       " 6,\n",
       " 13,\n",
       " 0,\n",
       " 0,\n",
       " 13,\n",
       " 3,\n",
       " 5,\n",
       " 11,\n",
       " 12,\n",
       " 5,\n",
       " 2,\n",
       " 12,\n",
       " 0,\n",
       " 5,\n",
       " 4,\n",
       " 0,\n",
       " 6,\n",
       " 0,\n",
       " 13,\n",
       " 11,\n",
       " 6,\n",
       " 0,\n",
       " 6,\n",
       " 12,\n",
       " 4,\n",
       " 13,\n",
       " 0,\n",
       " 4,\n",
       " 6,\n",
       " 3,\n",
       " 12,\n",
       " 6,\n",
       " 11,\n",
       " 0,\n",
       " 10,\n",
       " 12,\n",
       " 0,\n",
       " 4,\n",
       " 12,\n",
       " 9,\n",
       " 10,\n",
       " 2,\n",
       " 13,\n",
       " 0,\n",
       " 13,\n",
       " 6,\n",
       " 4,\n",
       " 12,\n",
       " 10,\n",
       " 4,\n",
       " 4,\n",
       " 10,\n",
       " 10,\n",
       " 10,\n",
       " 4,\n",
       " 10,\n",
       " 12,\n",
       " 13,\n",
       " 6,\n",
       " 0,\n",
       " 0,\n",
       " 6,\n",
       " 0,\n",
       " 5,\n",
       " 5,\n",
       " 10,\n",
       " 12,\n",
       " 6,\n",
       " 3,\n",
       " 3,\n",
       " 3,\n",
       " 11,\n",
       " 1,\n",
       " 0,\n",
       " 5,\n",
       " 0,\n",
       " 0,\n",
       " 3,\n",
       " 4,\n",
       " 4,\n",
       " 0,\n",
       " 6,\n",
       " 0,\n",
       " 13,\n",
       " 12,\n",
       " 0,\n",
       " 12,\n",
       " 6,\n",
       " 6,\n",
       " 4,\n",
       " 7,\n",
       " 9,\n",
       " 4,\n",
       " 12,\n",
       " 12,\n",
       " 13,\n",
       " 6,\n",
       " 0,\n",
       " 2,\n",
       " 13,\n",
       " 12,\n",
       " 4,\n",
       " 12,\n",
       " 5,\n",
       " 10,\n",
       " 0,\n",
       " 9,\n",
       " 4,\n",
       " 12,\n",
       " 0,\n",
       " 12,\n",
       " 13,\n",
       " 0,\n",
       " 1,\n",
       " 2,\n",
       " 10,\n",
       " 13,\n",
       " 6,\n",
       " 3,\n",
       " 13,\n",
       " 9,\n",
       " 1,\n",
       " 3,\n",
       " 1,\n",
       " 0,\n",
       " 13,\n",
       " 12,\n",
       " 6,\n",
       " 3,\n",
       " 4,\n",
       " 5,\n",
       " 8,\n",
       " 12,\n",
       " 2,\n",
       " 12,\n",
       " 12,\n",
       " 0,\n",
       " 0,\n",
       " 12,\n",
       " 12,\n",
       " 1,\n",
       " 5,\n",
       " 0,\n",
       " 9,\n",
       " 13,\n",
       " 0,\n",
       " 4,\n",
       " 12,\n",
       " 6,\n",
       " 0,\n",
       " 3,\n",
       " 0,\n",
       " 1,\n",
       " 12,\n",
       " 0,\n",
       " 13,\n",
       " 12,\n",
       " 10,\n",
       " 4,\n",
       " 6,\n",
       " 12,\n",
       " 6,\n",
       " 13,\n",
       " 9,\n",
       " 13,\n",
       " 12,\n",
       " 4,\n",
       " 3,\n",
       " 12,\n",
       " 9,\n",
       " 12,\n",
       " 12,\n",
       " 0,\n",
       " 1,\n",
       " 0,\n",
       " 3,\n",
       " 1,\n",
       " 12,\n",
       " 2,\n",
       " 9,\n",
       " 5,\n",
       " 0,\n",
       " 4,\n",
       " 0,\n",
       " 6,\n",
       " 5,\n",
       " 10,\n",
       " 1,\n",
       " 4,\n",
       " 10,\n",
       " 4,\n",
       " 10,\n",
       " 0,\n",
       " 11,\n",
       " 11,\n",
       " 6,\n",
       " 12,\n",
       " 3,\n",
       " 9,\n",
       " 12,\n",
       " 1,\n",
       " 0,\n",
       " 3,\n",
       " 1,\n",
       " 12,\n",
       " 5,\n",
       " 14,\n",
       " 13,\n",
       " 0,\n",
       " 12,\n",
       " 0,\n",
       " 10,\n",
       " 3,\n",
       " 4,\n",
       " 5,\n",
       " 13,\n",
       " 6,\n",
       " 6,\n",
       " 13,\n",
       " 4,\n",
       " 8,\n",
       " 13,\n",
       " 0,\n",
       " 4,\n",
       " 5,\n",
       " 7,\n",
       " 5,\n",
       " 7,\n",
       " 1,\n",
       " 0,\n",
       " 12,\n",
       " 13,\n",
       " 13,\n",
       " 10,\n",
       " 0,\n",
       " 3,\n",
       " 6,\n",
       " 13,\n",
       " 5,\n",
       " 8,\n",
       " 0,\n",
       " 3,\n",
       " 10,\n",
       " 12,\n",
       " 0,\n",
       " 6,\n",
       " 9,\n",
       " 9,\n",
       " 10,\n",
       " 2,\n",
       " 3,\n",
       " 0,\n",
       " 6,\n",
       " 12,\n",
       " 12,\n",
       " 12,\n",
       " 12,\n",
       " 10,\n",
       " 0,\n",
       " 0,\n",
       " 0,\n",
       " 0,\n",
       " 13,\n",
       " 13,\n",
       " 4,\n",
       " 4,\n",
       " 11,\n",
       " 0,\n",
       " 0,\n",
       " 5,\n",
       " 12,\n",
       " 3,\n",
       " 0,\n",
       " 5,\n",
       " 9,\n",
       " 1,\n",
       " 3,\n",
       " 13,\n",
       " 0,\n",
       " 0,\n",
       " 12,\n",
       " 0,\n",
       " 0,\n",
       " 9,\n",
       " 4,\n",
       " 4,\n",
       " 1,\n",
       " 5,\n",
       " 13,\n",
       " 5,\n",
       " 0,\n",
       " 13,\n",
       " 6,\n",
       " 6,\n",
       " 12,\n",
       " 12,\n",
       " 10,\n",
       " 7,\n",
       " 4,\n",
       " 12,\n",
       " 13,\n",
       " 10,\n",
       " 13,\n",
       " 3,\n",
       " 0,\n",
       " 0,\n",
       " 4,\n",
       " 3,\n",
       " 12,\n",
       " 12,\n",
       " 0,\n",
       " 4,\n",
       " 12,\n",
       " 0,\n",
       " 6,\n",
       " 6,\n",
       " 1,\n",
       " 1,\n",
       " 0,\n",
       " 0,\n",
       " 9,\n",
       " 4,\n",
       " 6,\n",
       " 4,\n",
       " 2,\n",
       " 12,\n",
       " 0,\n",
       " 0,\n",
       " 11,\n",
       " 4,\n",
       " 12,\n",
       " 13,\n",
       " 3,\n",
       " 1,\n",
       " 7,\n",
       " 3,\n",
       " 0,\n",
       " 4,\n",
       " 13,\n",
       " 10,\n",
       " 0,\n",
       " 3,\n",
       " 12,\n",
       " 10,\n",
       " 12,\n",
       " 1,\n",
       " 0,\n",
       " 8,\n",
       " 6,\n",
       " 0,\n",
       " 12,\n",
       " 7,\n",
       " 5,\n",
       " 6,\n",
       " 13,\n",
       " 13,\n",
       " 3,\n",
       " 13,\n",
       " 10,\n",
       " 1,\n",
       " 0,\n",
       " 13,\n",
       " 12,\n",
       " 12,\n",
       " 4,\n",
       " 3,\n",
       " 14,\n",
       " 5,\n",
       " 3,\n",
       " 11,\n",
       " 0,\n",
       " 0,\n",
       " 5,\n",
       " 8,\n",
       " 12,\n",
       " 4,\n",
       " 12,\n",
       " 4,\n",
       " 13,\n",
       " 13,\n",
       " 10,\n",
       " 3,\n",
       " 3,\n",
       " 12,\n",
       " 10,\n",
       " 6,\n",
       " 11,\n",
       " 12,\n",
       " 11,\n",
       " 0,\n",
       " 13,\n",
       " 7,\n",
       " 7,\n",
       " 2,\n",
       " 0,\n",
       " 12,\n",
       " 12,\n",
       " 0,\n",
       " 4,\n",
       " 12,\n",
       " 11,\n",
       " 4,\n",
       " 3,\n",
       " 1,\n",
       " 5,\n",
       " 13,\n",
       " 10,\n",
       " 13,\n",
       " 0,\n",
       " 12,\n",
       " 3,\n",
       " 4,\n",
       " 6,\n",
       " 4,\n",
       " 0,\n",
       " 5,\n",
       " 12,\n",
       " 7,\n",
       " 12,\n",
       " 4,\n",
       " 4,\n",
       " 13,\n",
       " 13,\n",
       " 7,\n",
       " 13,\n",
       " 3,\n",
       " 3,\n",
       " 0,\n",
       " 0,\n",
       " 13,\n",
       " 0,\n",
       " 9,\n",
       " 7,\n",
       " 10,\n",
       " 6,\n",
       " 0,\n",
       " 13,\n",
       " 0,\n",
       " 10,\n",
       " 3,\n",
       " 4,\n",
       " 6,\n",
       " 5,\n",
       " 12,\n",
       " 12,\n",
       " 0,\n",
       " 5,\n",
       " 12,\n",
       " 3,\n",
       " 12,\n",
       " 7,\n",
       " 0,\n",
       " 9,\n",
       " 0,\n",
       " 2,\n",
       " 7,\n",
       " 12,\n",
       " 12,\n",
       " 3,\n",
       " 3,\n",
       " 5,\n",
       " 13,\n",
       " 4,\n",
       " 3,\n",
       " 10,\n",
       " 3,\n",
       " 12,\n",
       " 13,\n",
       " 3,\n",
       " 2,\n",
       " 4,\n",
       " 0,\n",
       " 12,\n",
       " 13,\n",
       " 1,\n",
       " 0,\n",
       " 12,\n",
       " 8,\n",
       " 0,\n",
       " 10,\n",
       " 4,\n",
       " 1,\n",
       " 6,\n",
       " 1,\n",
       " 12,\n",
       " 3,\n",
       " 13,\n",
       " 10,\n",
       " 3,\n",
       " 1,\n",
       " 12,\n",
       " 12,\n",
       " 10,\n",
       " 12,\n",
       " 13,\n",
       " 1,\n",
       " 5,\n",
       " 0,\n",
       " 10,\n",
       " 12,\n",
       " 12,\n",
       " 3,\n",
       " 1,\n",
       " 9,\n",
       " 13,\n",
       " 7,\n",
       " ...]"
      ]
     },
     "execution_count": 71,
     "metadata": {},
     "output_type": "execute_result"
    }
   ],
   "source": [
    "main_category_mapped = [ mapping[x] for x in main_category_raw ]\n",
    "main_category_mapped"
   ]
  },
  {
   "cell_type": "code",
   "execution_count": 92,
   "metadata": {},
   "outputs": [
    {
     "name": "stdout",
     "output_type": "stream",
     "text": [
      "Size mapped \t= 3,294,978\n",
      "Size raw \t= 24,672,365\n"
     ]
    }
   ],
   "source": [
    "print(f\"Size mapped \\t= {total_size(main_category_mapped) + total_size(mapping):,}\")\n",
    "print(f\"Size raw \\t= {total_size(main_category_raw):,}\")\n"
   ]
  },
  {
   "cell_type": "code",
   "execution_count": null,
   "metadata": {
    "collapsed": true
   },
   "outputs": [],
   "source": []
  }
 ],
 "metadata": {
  "kernelspec": {
   "display_name": "vaa",
   "language": "python",
   "name": "python3"
  },
  "language_info": {
   "codemirror_mode": {
    "name": "ipython",
    "version": 3
   },
   "file_extension": ".py",
   "mimetype": "text/x-python",
   "name": "python",
   "nbconvert_exporter": "python",
   "pygments_lexer": "ipython3",
   "version": "3.12.2"
  },
  "widgets": {
   "application/vnd.jupyter.widget-state+json": {
    "state": {},
    "version_major": 2,
    "version_minor": 0
   }
  }
 },
 "nbformat": 4,
 "nbformat_minor": 2
}
