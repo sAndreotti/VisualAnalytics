{
 "cells": [
  {
   "cell_type": "markdown",
   "metadata": {},
   "source": [
    "# Visual Analytics\n",
    "\n",
    "## Assignment 1\n",
    "\n",
    "**Instructor:** Dr. Marco D'Ambros  \n",
    "**TAs:** Carmen Armenti, Mattia Giannaccari\n",
    "\n",
    "**Contacts:** marco.dambros@usi.ch, carmen.armenti@usi.ch, mattia.giannaccari@usi.ch\n",
    "\n",
    "**Due Date:** 10 April, 2025 @ 23:55\n",
    "\n",
    "---\n",
    "\n",
    "### Goal\n",
    "\n",
    "The goal of this assignment is to use Python and Jupyter notebook to explore, analyze and visualize the datasets provided. \n",
    "\n",
    "The assignment is divided into four sections, each requiring you to apply the knowledge gained from both the theoretical and practical lectures to solve the exercises. Specifically, when creating tabular or graphical representations, you should apply the principles learned in the theoretical lectures and use the technologies introduced in the practical sessions. The datasets you need to use are detailed in the **Datasets Description** section and can be found in the following folder [Assignment1_Data](https://usi365-my.sharepoint.com/:f:/g/personal/armenc_usi_ch/EqjXB7uSEoVAujKPSZY1hvIBMhAXJv5y6Z-UwaO6bCtOjg?e=kxcaai).\n",
    "\n",
    "### Submission Guidelines\n",
    "- **Format:** Please submit a Jupyter Notebook containing your solutions along with a clear explanation of the **steps** taken to arrive at each solution. Each solution must be introduced by a Markdown cell indicating the exercise number. If you prefer, you may use the uploaded assignment file and develop your solution by adding cells below each exercise instructions. It is essential that every choice is justified, and the solution is thoroughly commented to explain each step. Exercises without explanations will be evaluated negatively.\n",
    "\n",
    "- **Filename:** Please name the Jupyter notebook as follows: `SurenameName_Assignment1.ipynb`.\n",
    "\n",
    "- **Submission:** Please submit your solution (the jupyter notebook and any other script you may have used to support your solution) to iCorsi.\n"
   ]
  },
  {
   "cell_type": "markdown",
   "metadata": {},
   "source": [
    "---\n",
    "## Section 1 - Data quality (10 points)\n",
    "\n",
    "**Data Source:** `used_cars.csv`.\n",
    "\n",
    "In the `used_cars.csv` dataset, please perform the following data cleaning steps: \n",
    "- Identify any missing or invalid values in the following columns: `vehicle type`, `price`, `brand`, and `month of registration`. If needed, standardize the data. For the `price` column specifically, the prices are recorded in euros, please consider valid only values within the range of €1,000 and €500,000. \n",
    "- For each of the previous columns, report the number of missing or invalid entries.\n",
    "- After identifying missing or invalid values in the columns above, remove **any** rows where at least one of these columns contains such data.\n",
    "\n",
    "Please clearly outline the steps you take to clean the dataset and document your approach. You may use any preferred tool or technology, such as Python (vanilla or Pandas) or OpenRefine."
   ]
  },
  {
   "cell_type": "code",
   "metadata": {
    "vscode": {
     "languageId": "plaintext"
    },
    "ExecuteTime": {
     "end_time": "2025-03-26T23:22:29.388523Z",
     "start_time": "2025-03-26T23:22:28.692393Z"
    }
   },
   "source": [
    "import numpy as np\n",
    "import pandas as pd\n",
    "\n",
    "# Load dataset\n",
    "data = pd.read_csv('./datasets/used_cars.csv', delimiter=',', encoding='Windows-1252')\n",
    "data.head()"
   ],
   "outputs": [
    {
     "data": {
      "text/plain": [
       "           dateCrawled                            name  seller offerType  \\\n",
       "0  2016-03-24 11:52:17                      Golf_3_1.6  privat   Angebot   \n",
       "1  2016-03-24 10:58:45            A5_Sportback_2.7_Tdi  privat   Angebot   \n",
       "2  2016-03-14 12:52:21  Jeep_Grand_Cherokee_\"Overland\"  privat   Angebot   \n",
       "3  2016-03-17 16:54:04              GOLF_4_1_4__3TÜRER  privat   Angebot   \n",
       "4  2016-03-31 17:25:20  Skoda_Fabia_1.4_TDI_PD_Classic  privat   Angebot   \n",
       "\n",
       "   price abtest vehicleType  yearOfRegistration    gearbox  powerPS  model  \\\n",
       "0    480   test         NaN                1993    manuell        0   golf   \n",
       "1  18300   test       coupe                2011    manuell      190    NaN   \n",
       "2   9800   test         suv                2004  automatik      163  grand   \n",
       "3   1500   test  kleinwagen                2001    manuell       75   golf   \n",
       "4   3600   test  kleinwagen                2008    manuell       69  fabia   \n",
       "\n",
       "   kilometer  monthOfRegistration fuelType       brand notRepairedDamage  \\\n",
       "0     150000                    0   benzin  volkswagen               NaN   \n",
       "1     125000                    5   diesel        audi                ja   \n",
       "2     125000                    8   diesel        jeep               NaN   \n",
       "3     150000                    6   benzin  volkswagen              nein   \n",
       "4      90000                    7   diesel       skoda              nein   \n",
       "\n",
       "           dateCreated  nrOfPictures  postalCode             lastSeen  \n",
       "0  2016-03-24 00:00:00             0       70435  2016-04-07 03:16:57  \n",
       "1  2016-03-24 00:00:00             0       66954  2016-04-07 01:46:50  \n",
       "2  2016-03-14 00:00:00             0       90480  2016-04-05 12:47:46  \n",
       "3  2016-03-17 00:00:00             0       91074  2016-03-17 17:40:17  \n",
       "4  2016-03-31 00:00:00             0       60437  2016-04-06 10:17:21  "
      ],
      "text/html": [
       "<div>\n",
       "<style scoped>\n",
       "    .dataframe tbody tr th:only-of-type {\n",
       "        vertical-align: middle;\n",
       "    }\n",
       "\n",
       "    .dataframe tbody tr th {\n",
       "        vertical-align: top;\n",
       "    }\n",
       "\n",
       "    .dataframe thead th {\n",
       "        text-align: right;\n",
       "    }\n",
       "</style>\n",
       "<table border=\"1\" class=\"dataframe\">\n",
       "  <thead>\n",
       "    <tr style=\"text-align: right;\">\n",
       "      <th></th>\n",
       "      <th>dateCrawled</th>\n",
       "      <th>name</th>\n",
       "      <th>seller</th>\n",
       "      <th>offerType</th>\n",
       "      <th>price</th>\n",
       "      <th>abtest</th>\n",
       "      <th>vehicleType</th>\n",
       "      <th>yearOfRegistration</th>\n",
       "      <th>gearbox</th>\n",
       "      <th>powerPS</th>\n",
       "      <th>model</th>\n",
       "      <th>kilometer</th>\n",
       "      <th>monthOfRegistration</th>\n",
       "      <th>fuelType</th>\n",
       "      <th>brand</th>\n",
       "      <th>notRepairedDamage</th>\n",
       "      <th>dateCreated</th>\n",
       "      <th>nrOfPictures</th>\n",
       "      <th>postalCode</th>\n",
       "      <th>lastSeen</th>\n",
       "    </tr>\n",
       "  </thead>\n",
       "  <tbody>\n",
       "    <tr>\n",
       "      <th>0</th>\n",
       "      <td>2016-03-24 11:52:17</td>\n",
       "      <td>Golf_3_1.6</td>\n",
       "      <td>privat</td>\n",
       "      <td>Angebot</td>\n",
       "      <td>480</td>\n",
       "      <td>test</td>\n",
       "      <td>NaN</td>\n",
       "      <td>1993</td>\n",
       "      <td>manuell</td>\n",
       "      <td>0</td>\n",
       "      <td>golf</td>\n",
       "      <td>150000</td>\n",
       "      <td>0</td>\n",
       "      <td>benzin</td>\n",
       "      <td>volkswagen</td>\n",
       "      <td>NaN</td>\n",
       "      <td>2016-03-24 00:00:00</td>\n",
       "      <td>0</td>\n",
       "      <td>70435</td>\n",
       "      <td>2016-04-07 03:16:57</td>\n",
       "    </tr>\n",
       "    <tr>\n",
       "      <th>1</th>\n",
       "      <td>2016-03-24 10:58:45</td>\n",
       "      <td>A5_Sportback_2.7_Tdi</td>\n",
       "      <td>privat</td>\n",
       "      <td>Angebot</td>\n",
       "      <td>18300</td>\n",
       "      <td>test</td>\n",
       "      <td>coupe</td>\n",
       "      <td>2011</td>\n",
       "      <td>manuell</td>\n",
       "      <td>190</td>\n",
       "      <td>NaN</td>\n",
       "      <td>125000</td>\n",
       "      <td>5</td>\n",
       "      <td>diesel</td>\n",
       "      <td>audi</td>\n",
       "      <td>ja</td>\n",
       "      <td>2016-03-24 00:00:00</td>\n",
       "      <td>0</td>\n",
       "      <td>66954</td>\n",
       "      <td>2016-04-07 01:46:50</td>\n",
       "    </tr>\n",
       "    <tr>\n",
       "      <th>2</th>\n",
       "      <td>2016-03-14 12:52:21</td>\n",
       "      <td>Jeep_Grand_Cherokee_\"Overland\"</td>\n",
       "      <td>privat</td>\n",
       "      <td>Angebot</td>\n",
       "      <td>9800</td>\n",
       "      <td>test</td>\n",
       "      <td>suv</td>\n",
       "      <td>2004</td>\n",
       "      <td>automatik</td>\n",
       "      <td>163</td>\n",
       "      <td>grand</td>\n",
       "      <td>125000</td>\n",
       "      <td>8</td>\n",
       "      <td>diesel</td>\n",
       "      <td>jeep</td>\n",
       "      <td>NaN</td>\n",
       "      <td>2016-03-14 00:00:00</td>\n",
       "      <td>0</td>\n",
       "      <td>90480</td>\n",
       "      <td>2016-04-05 12:47:46</td>\n",
       "    </tr>\n",
       "    <tr>\n",
       "      <th>3</th>\n",
       "      <td>2016-03-17 16:54:04</td>\n",
       "      <td>GOLF_4_1_4__3TÜRER</td>\n",
       "      <td>privat</td>\n",
       "      <td>Angebot</td>\n",
       "      <td>1500</td>\n",
       "      <td>test</td>\n",
       "      <td>kleinwagen</td>\n",
       "      <td>2001</td>\n",
       "      <td>manuell</td>\n",
       "      <td>75</td>\n",
       "      <td>golf</td>\n",
       "      <td>150000</td>\n",
       "      <td>6</td>\n",
       "      <td>benzin</td>\n",
       "      <td>volkswagen</td>\n",
       "      <td>nein</td>\n",
       "      <td>2016-03-17 00:00:00</td>\n",
       "      <td>0</td>\n",
       "      <td>91074</td>\n",
       "      <td>2016-03-17 17:40:17</td>\n",
       "    </tr>\n",
       "    <tr>\n",
       "      <th>4</th>\n",
       "      <td>2016-03-31 17:25:20</td>\n",
       "      <td>Skoda_Fabia_1.4_TDI_PD_Classic</td>\n",
       "      <td>privat</td>\n",
       "      <td>Angebot</td>\n",
       "      <td>3600</td>\n",
       "      <td>test</td>\n",
       "      <td>kleinwagen</td>\n",
       "      <td>2008</td>\n",
       "      <td>manuell</td>\n",
       "      <td>69</td>\n",
       "      <td>fabia</td>\n",
       "      <td>90000</td>\n",
       "      <td>7</td>\n",
       "      <td>diesel</td>\n",
       "      <td>skoda</td>\n",
       "      <td>nein</td>\n",
       "      <td>2016-03-31 00:00:00</td>\n",
       "      <td>0</td>\n",
       "      <td>60437</td>\n",
       "      <td>2016-04-06 10:17:21</td>\n",
       "    </tr>\n",
       "  </tbody>\n",
       "</table>\n",
       "</div>"
      ]
     },
     "execution_count": 2,
     "metadata": {},
     "output_type": "execute_result"
    }
   ],
   "execution_count": 2
  },
  {
   "metadata": {
    "ExecuteTime": {
     "end_time": "2025-03-26T23:22:29.744789Z",
     "start_time": "2025-03-26T23:22:29.463625Z"
    }
   },
   "cell_type": "code",
   "source": [
    "# Identify any missing or invalid values in the following columns: `vehicle type`, `price`, `brand`, and `month of registration`.\n",
    "# If needed, standardize the data. For the `price` column specifically, the prices are recorded in euros, please consider valid only values within the range of €1,000 and €500,000.\n",
    "\n",
    "def reportNullVal(columnName):\n",
    "    null_val = columnName.isnull().sum()\n",
    "    total_val = len(columnName)\n",
    "    print(f\"There are {null_val} null values in a total of {total_val} values for {columnName.name}.\")\n",
    "    #print(\"Below there are the non null values:\")\n",
    "    #print(columnName.value_counts().sort_index())\n",
    "\n",
    "original_rows = len(data)\n",
    "\n",
    "# Filter for having only valid prices, meaning prices only in the interval [1_000, 500_000]\n",
    "data.price = data.price.apply(lambda x: x if (1_000 <= x <= 500_000) else np.nan)\n",
    "\n",
    "# Filter to make all the brands lower case and removing eventual spaces\n",
    "data.brand = data.brand.apply(lambda x: x.lower().strip())\n",
    "\n",
    "# Filtering monthOfRegistration, month can be only in [1, 12]\n",
    "data.monthOfRegistration = data.monthOfRegistration.apply(lambda x: np.nan if (x<1 or x>12) else x)\n",
    "\n",
    "reportList = [data.vehicleType, data.price, data.brand, data.monthOfRegistration]\n",
    "for element in reportList:\n",
    "    reportNullVal(element)\n",
    "    print(\"\")\n",
    "\n",
    "data.dropna(inplace=True)\n",
    "print(f\"Dropped {original_rows - len(data)} rows.\")"
   ],
   "outputs": [
    {
     "name": "stdout",
     "output_type": "stream",
     "text": [
      "There are 37869 null values in a total of 371528 values for vehicleType.\n",
      "\n",
      "There are 83435 null values in a total of 371528 values for price.\n",
      "\n",
      "There are 0 null values in a total of 371528 values for brand.\n",
      "\n",
      "There are 37675 null values in a total of 371528 values for monthOfRegistration.\n",
      "\n",
      "Dropped 155901 rows.\n"
     ]
    }
   ],
   "execution_count": 3
  },
  {
   "cell_type": "markdown",
   "metadata": {},
   "source": [
    "## Section 2 - Data Analysis, Visualization, and Exploration (60 points) 📊\n",
    "In this section, you will need to use two different datasets: `us_accidents.csv` for the first three exercises and `eu_energy.csv` for the next three. Each exercise is worth 10 points."
   ]
  },
  {
   "cell_type": "markdown",
   "metadata": {},
   "source": [
    "### Section 2.1 \n",
    "**Data Source**: `us_accidents.csv`"
   ]
  },
  {
   "cell_type": "markdown",
   "metadata": {},
   "source": [
    "1. In the US Accidents dataset please remove all rows where one or more columns have missing data and explicitly identify the number of rows with null values. Consider the years 2020 and 2022.\n",
    "\n",
    "    - What are the cities with the highest number of accidents in 2020 and 2022? Report them with the number of accidents.\n",
    "    - Please provide the yearly total number of car accidents in 2020 and 2022 for each `County` and `City` combination.\n",
    "    - Please retrieve the 10 cities with the highest total number of accidents in 2020 and 2022, and create a visualization that:\n",
    "    \n",
    "        - As a **primary goal** shows the increase in accident numbers for each city that allows the comparison of the increase per city. Which is the city with the most significant increase?\n",
    "        - As a **secondary goal** presents the absolute number of accidents in both 2020 and 2022 for each selected city.\n",
    "    \n",
    "    Please explain the insights gained from the visualization and justify the choice of the representation.\n"
   ]
  },
  {
   "cell_type": "code",
   "metadata": {
    "vscode": {
     "languageId": "plaintext"
    },
    "ExecuteTime": {
     "end_time": "2025-03-26T23:23:00.914485Z",
     "start_time": "2025-03-26T23:22:29.759861Z"
    }
   },
   "source": [
    "import pandas as pd\n",
    "\n",
    "# Load dataset\n",
    "data = pd.read_csv('./datasets/us_accidents.csv', delimiter=',')"
   ],
   "outputs": [],
   "execution_count": 4
  },
  {
   "metadata": {
    "ExecuteTime": {
     "end_time": "2025-03-26T23:23:00.954320Z",
     "start_time": "2025-03-26T23:23:00.937897Z"
    }
   },
   "cell_type": "code",
   "source": "data.head()",
   "outputs": [
    {
     "data": {
      "text/plain": [
       "    ID   Source  Severity           Start_Time             End_Time  \\\n",
       "0  A-1  Source2         3  2016-02-08 05:46:00  2016-02-08 11:00:00   \n",
       "1  A-2  Source2         2  2016-02-08 06:07:59  2016-02-08 06:37:59   \n",
       "2  A-3  Source2         2  2016-02-08 06:49:27  2016-02-08 07:19:27   \n",
       "3  A-4  Source2         3  2016-02-08 07:23:34  2016-02-08 07:53:34   \n",
       "4  A-5  Source2         2  2016-02-08 07:39:07  2016-02-08 08:09:07   \n",
       "\n",
       "   Start_Lat  Start_Lng  End_Lat  End_Lng  Distance(mi)  ... Roundabout  \\\n",
       "0  39.865147 -84.058723      NaN      NaN          0.01  ...      False   \n",
       "1  39.928059 -82.831184      NaN      NaN          0.01  ...      False   \n",
       "2  39.063148 -84.032608      NaN      NaN          0.01  ...      False   \n",
       "3  39.747753 -84.205582      NaN      NaN          0.01  ...      False   \n",
       "4  39.627781 -84.188354      NaN      NaN          0.01  ...      False   \n",
       "\n",
       "  Station   Stop Traffic_Calming Traffic_Signal Turning_Loop Sunrise_Sunset  \\\n",
       "0   False  False           False          False        False          Night   \n",
       "1   False  False           False          False        False          Night   \n",
       "2   False  False           False           True        False          Night   \n",
       "3   False  False           False          False        False          Night   \n",
       "4   False  False           False           True        False            Day   \n",
       "\n",
       "  Civil_Twilight Nautical_Twilight Astronomical_Twilight  \n",
       "0          Night             Night                 Night  \n",
       "1          Night             Night                   Day  \n",
       "2          Night               Day                   Day  \n",
       "3            Day               Day                   Day  \n",
       "4            Day               Day                   Day  \n",
       "\n",
       "[5 rows x 46 columns]"
      ],
      "text/html": [
       "<div>\n",
       "<style scoped>\n",
       "    .dataframe tbody tr th:only-of-type {\n",
       "        vertical-align: middle;\n",
       "    }\n",
       "\n",
       "    .dataframe tbody tr th {\n",
       "        vertical-align: top;\n",
       "    }\n",
       "\n",
       "    .dataframe thead th {\n",
       "        text-align: right;\n",
       "    }\n",
       "</style>\n",
       "<table border=\"1\" class=\"dataframe\">\n",
       "  <thead>\n",
       "    <tr style=\"text-align: right;\">\n",
       "      <th></th>\n",
       "      <th>ID</th>\n",
       "      <th>Source</th>\n",
       "      <th>Severity</th>\n",
       "      <th>Start_Time</th>\n",
       "      <th>End_Time</th>\n",
       "      <th>Start_Lat</th>\n",
       "      <th>Start_Lng</th>\n",
       "      <th>End_Lat</th>\n",
       "      <th>End_Lng</th>\n",
       "      <th>Distance(mi)</th>\n",
       "      <th>...</th>\n",
       "      <th>Roundabout</th>\n",
       "      <th>Station</th>\n",
       "      <th>Stop</th>\n",
       "      <th>Traffic_Calming</th>\n",
       "      <th>Traffic_Signal</th>\n",
       "      <th>Turning_Loop</th>\n",
       "      <th>Sunrise_Sunset</th>\n",
       "      <th>Civil_Twilight</th>\n",
       "      <th>Nautical_Twilight</th>\n",
       "      <th>Astronomical_Twilight</th>\n",
       "    </tr>\n",
       "  </thead>\n",
       "  <tbody>\n",
       "    <tr>\n",
       "      <th>0</th>\n",
       "      <td>A-1</td>\n",
       "      <td>Source2</td>\n",
       "      <td>3</td>\n",
       "      <td>2016-02-08 05:46:00</td>\n",
       "      <td>2016-02-08 11:00:00</td>\n",
       "      <td>39.865147</td>\n",
       "      <td>-84.058723</td>\n",
       "      <td>NaN</td>\n",
       "      <td>NaN</td>\n",
       "      <td>0.01</td>\n",
       "      <td>...</td>\n",
       "      <td>False</td>\n",
       "      <td>False</td>\n",
       "      <td>False</td>\n",
       "      <td>False</td>\n",
       "      <td>False</td>\n",
       "      <td>False</td>\n",
       "      <td>Night</td>\n",
       "      <td>Night</td>\n",
       "      <td>Night</td>\n",
       "      <td>Night</td>\n",
       "    </tr>\n",
       "    <tr>\n",
       "      <th>1</th>\n",
       "      <td>A-2</td>\n",
       "      <td>Source2</td>\n",
       "      <td>2</td>\n",
       "      <td>2016-02-08 06:07:59</td>\n",
       "      <td>2016-02-08 06:37:59</td>\n",
       "      <td>39.928059</td>\n",
       "      <td>-82.831184</td>\n",
       "      <td>NaN</td>\n",
       "      <td>NaN</td>\n",
       "      <td>0.01</td>\n",
       "      <td>...</td>\n",
       "      <td>False</td>\n",
       "      <td>False</td>\n",
       "      <td>False</td>\n",
       "      <td>False</td>\n",
       "      <td>False</td>\n",
       "      <td>False</td>\n",
       "      <td>Night</td>\n",
       "      <td>Night</td>\n",
       "      <td>Night</td>\n",
       "      <td>Day</td>\n",
       "    </tr>\n",
       "    <tr>\n",
       "      <th>2</th>\n",
       "      <td>A-3</td>\n",
       "      <td>Source2</td>\n",
       "      <td>2</td>\n",
       "      <td>2016-02-08 06:49:27</td>\n",
       "      <td>2016-02-08 07:19:27</td>\n",
       "      <td>39.063148</td>\n",
       "      <td>-84.032608</td>\n",
       "      <td>NaN</td>\n",
       "      <td>NaN</td>\n",
       "      <td>0.01</td>\n",
       "      <td>...</td>\n",
       "      <td>False</td>\n",
       "      <td>False</td>\n",
       "      <td>False</td>\n",
       "      <td>False</td>\n",
       "      <td>True</td>\n",
       "      <td>False</td>\n",
       "      <td>Night</td>\n",
       "      <td>Night</td>\n",
       "      <td>Day</td>\n",
       "      <td>Day</td>\n",
       "    </tr>\n",
       "    <tr>\n",
       "      <th>3</th>\n",
       "      <td>A-4</td>\n",
       "      <td>Source2</td>\n",
       "      <td>3</td>\n",
       "      <td>2016-02-08 07:23:34</td>\n",
       "      <td>2016-02-08 07:53:34</td>\n",
       "      <td>39.747753</td>\n",
       "      <td>-84.205582</td>\n",
       "      <td>NaN</td>\n",
       "      <td>NaN</td>\n",
       "      <td>0.01</td>\n",
       "      <td>...</td>\n",
       "      <td>False</td>\n",
       "      <td>False</td>\n",
       "      <td>False</td>\n",
       "      <td>False</td>\n",
       "      <td>False</td>\n",
       "      <td>False</td>\n",
       "      <td>Night</td>\n",
       "      <td>Day</td>\n",
       "      <td>Day</td>\n",
       "      <td>Day</td>\n",
       "    </tr>\n",
       "    <tr>\n",
       "      <th>4</th>\n",
       "      <td>A-5</td>\n",
       "      <td>Source2</td>\n",
       "      <td>2</td>\n",
       "      <td>2016-02-08 07:39:07</td>\n",
       "      <td>2016-02-08 08:09:07</td>\n",
       "      <td>39.627781</td>\n",
       "      <td>-84.188354</td>\n",
       "      <td>NaN</td>\n",
       "      <td>NaN</td>\n",
       "      <td>0.01</td>\n",
       "      <td>...</td>\n",
       "      <td>False</td>\n",
       "      <td>False</td>\n",
       "      <td>False</td>\n",
       "      <td>False</td>\n",
       "      <td>True</td>\n",
       "      <td>False</td>\n",
       "      <td>Day</td>\n",
       "      <td>Day</td>\n",
       "      <td>Day</td>\n",
       "      <td>Day</td>\n",
       "    </tr>\n",
       "  </tbody>\n",
       "</table>\n",
       "<p>5 rows × 46 columns</p>\n",
       "</div>"
      ]
     },
     "execution_count": 5,
     "metadata": {},
     "output_type": "execute_result"
    }
   ],
   "execution_count": 5
  },
  {
   "metadata": {
    "ExecuteTime": {
     "end_time": "2025-03-26T23:23:01.260656Z",
     "start_time": "2025-03-26T23:23:00.989264Z"
    }
   },
   "cell_type": "code",
   "source": [
    "data.Timezone.value_counts()\n",
    "# Should i consider also the timezone? i don't think"
   ],
   "outputs": [
    {
     "data": {
      "text/plain": [
       "Timezone\n",
       "US/Eastern     3580167\n",
       "US/Pacific     2062984\n",
       "US/Central     1645616\n",
       "US/Mountain     431819\n",
       "Name: count, dtype: int64"
      ]
     },
     "execution_count": 6,
     "metadata": {},
     "output_type": "execute_result"
    }
   ],
   "execution_count": 6
  },
  {
   "metadata": {
    "ExecuteTime": {
     "end_time": "2025-03-26T23:23:07.296343Z",
     "start_time": "2025-03-26T23:23:01.276428Z"
    }
   },
   "cell_type": "code",
   "source": [
    "# Remove all rows with one or more columns have missing data, explicit identify the number of rows with null values\n",
    "null_rows_count = data.isnull().any(axis=1).sum()\n",
    "print(f\"There are {null_rows_count} rows with at least one null value. Out of {len(data)} rows.\")\n",
    "\n",
    "data.dropna(inplace=True)\n",
    "print(f\"Now there are {len(data)} rows.\")"
   ],
   "outputs": [
    {
     "name": "stdout",
     "output_type": "stream",
     "text": [
      "There are 4173845 rows with at least one null value. Out of 7728394 rows.\n",
      "Now there are 3554549 rows.\n"
     ]
    }
   ],
   "execution_count": 7
  },
  {
   "metadata": {
    "ExecuteTime": {
     "end_time": "2025-03-26T23:23:33.638046Z",
     "start_time": "2025-03-26T23:23:32.769100Z"
    }
   },
   "cell_type": "code",
   "source": [
    "# Consider year 2020 and 2022 Cities with highest number of accidents, report the numbers\n",
    "\n",
    "# Cast start and end time to datetime objects\n",
    "data.Start_Time = pd.to_datetime(data.Start_Time, format='mixed')\n",
    "data.End_Time = pd.to_datetime(data.End_Time, format='mixed')\n",
    "\n",
    "# Create a new dataframe where the start and end date are both in 2020 or 2022\n",
    "restricted_data = data.query(\n",
    "    \"(Start_Time.dt.year == 2020 & End_Time.dt.year == 2020) | \"\n",
    "    \"(Start_Time.dt.year == 2022 & End_Time.dt.year == 2022)\"\n",
    ")\n",
    "\n",
    "print(f\"Now there are {len(restricted_data)} rows.\")\n",
    "top_cities = restricted_data.City.value_counts().head(10)\n",
    "top_cities"
   ],
   "outputs": [
    {
     "name": "stdout",
     "output_type": "stream",
     "text": [
      "Now there are 2067113 rows.\n"
     ]
    },
    {
     "data": {
      "text/plain": [
       "City\n",
       "Miami          82249\n",
       "Los Angeles    43621\n",
       "Orlando        42701\n",
       "Dallas         26512\n",
       "Houston        26322\n",
       "Charlotte      25476\n",
       "Raleigh        19367\n",
       "San Diego      17658\n",
       "Nashville      17114\n",
       "Sacramento     16365\n",
       "Name: count, dtype: int64"
      ]
     },
     "execution_count": 11,
     "metadata": {},
     "output_type": "execute_result"
    }
   ],
   "execution_count": 11
  },
  {
   "metadata": {
    "ExecuteTime": {
     "end_time": "2025-03-26T23:23:36.225617Z",
     "start_time": "2025-03-26T23:23:35.994023Z"
    }
   },
   "cell_type": "code",
   "source": [
    "#Provide yearly total number of car accidents in 2020 and 2022 for each Country and City combination\n",
    "accidents_data = restricted_data.groupby(['Country','City', restricted_data.Start_Time.dt.year]).size().reset_index(name='Total_Accidents')\n",
    "accidents_data"
   ],
   "outputs": [
    {
     "data": {
      "text/plain": [
       "      Country         City  Start_Time  Total_Accidents\n",
       "0          US   Aaronsburg        2022                7\n",
       "1          US    Abbeville        2020               34\n",
       "2          US    Abbeville        2022              100\n",
       "3          US   Abbotsford        2022                3\n",
       "4          US  Abbottstown        2020                4\n",
       "...       ...          ...         ...              ...\n",
       "16336      US     Zumbrota        2022              160\n",
       "16337      US         Zuni        2020                6\n",
       "16338      US         Zuni        2022               36\n",
       "16339      US      Zwingle        2020                3\n",
       "16340      US      Zwingle        2022                1\n",
       "\n",
       "[16341 rows x 4 columns]"
      ],
      "text/html": [
       "<div>\n",
       "<style scoped>\n",
       "    .dataframe tbody tr th:only-of-type {\n",
       "        vertical-align: middle;\n",
       "    }\n",
       "\n",
       "    .dataframe tbody tr th {\n",
       "        vertical-align: top;\n",
       "    }\n",
       "\n",
       "    .dataframe thead th {\n",
       "        text-align: right;\n",
       "    }\n",
       "</style>\n",
       "<table border=\"1\" class=\"dataframe\">\n",
       "  <thead>\n",
       "    <tr style=\"text-align: right;\">\n",
       "      <th></th>\n",
       "      <th>Country</th>\n",
       "      <th>City</th>\n",
       "      <th>Start_Time</th>\n",
       "      <th>Total_Accidents</th>\n",
       "    </tr>\n",
       "  </thead>\n",
       "  <tbody>\n",
       "    <tr>\n",
       "      <th>0</th>\n",
       "      <td>US</td>\n",
       "      <td>Aaronsburg</td>\n",
       "      <td>2022</td>\n",
       "      <td>7</td>\n",
       "    </tr>\n",
       "    <tr>\n",
       "      <th>1</th>\n",
       "      <td>US</td>\n",
       "      <td>Abbeville</td>\n",
       "      <td>2020</td>\n",
       "      <td>34</td>\n",
       "    </tr>\n",
       "    <tr>\n",
       "      <th>2</th>\n",
       "      <td>US</td>\n",
       "      <td>Abbeville</td>\n",
       "      <td>2022</td>\n",
       "      <td>100</td>\n",
       "    </tr>\n",
       "    <tr>\n",
       "      <th>3</th>\n",
       "      <td>US</td>\n",
       "      <td>Abbotsford</td>\n",
       "      <td>2022</td>\n",
       "      <td>3</td>\n",
       "    </tr>\n",
       "    <tr>\n",
       "      <th>4</th>\n",
       "      <td>US</td>\n",
       "      <td>Abbottstown</td>\n",
       "      <td>2020</td>\n",
       "      <td>4</td>\n",
       "    </tr>\n",
       "    <tr>\n",
       "      <th>...</th>\n",
       "      <td>...</td>\n",
       "      <td>...</td>\n",
       "      <td>...</td>\n",
       "      <td>...</td>\n",
       "    </tr>\n",
       "    <tr>\n",
       "      <th>16336</th>\n",
       "      <td>US</td>\n",
       "      <td>Zumbrota</td>\n",
       "      <td>2022</td>\n",
       "      <td>160</td>\n",
       "    </tr>\n",
       "    <tr>\n",
       "      <th>16337</th>\n",
       "      <td>US</td>\n",
       "      <td>Zuni</td>\n",
       "      <td>2020</td>\n",
       "      <td>6</td>\n",
       "    </tr>\n",
       "    <tr>\n",
       "      <th>16338</th>\n",
       "      <td>US</td>\n",
       "      <td>Zuni</td>\n",
       "      <td>2022</td>\n",
       "      <td>36</td>\n",
       "    </tr>\n",
       "    <tr>\n",
       "      <th>16339</th>\n",
       "      <td>US</td>\n",
       "      <td>Zwingle</td>\n",
       "      <td>2020</td>\n",
       "      <td>3</td>\n",
       "    </tr>\n",
       "    <tr>\n",
       "      <th>16340</th>\n",
       "      <td>US</td>\n",
       "      <td>Zwingle</td>\n",
       "      <td>2022</td>\n",
       "      <td>1</td>\n",
       "    </tr>\n",
       "  </tbody>\n",
       "</table>\n",
       "<p>16341 rows × 4 columns</p>\n",
       "</div>"
      ]
     },
     "execution_count": 12,
     "metadata": {},
     "output_type": "execute_result"
    }
   ],
   "execution_count": 12
  },
  {
   "metadata": {
    "ExecuteTime": {
     "end_time": "2025-03-26T23:34:43.898383Z",
     "start_time": "2025-03-26T23:34:43.850276Z"
    }
   },
   "cell_type": "code",
   "source": [
    "# Retrive the 10 cities with the highest total number of accidents in 2020 and 2022,\n",
    "\n",
    "# Group by city and sum the total accidents, then get the highest 10\n",
    "city_accidents = accidents_data.groupby(['Country','City'])['Total_Accidents'].sum()\n",
    "top_accidents = city_accidents.nlargest(10)\n",
    "top_accidents"
   ],
   "outputs": [
    {
     "data": {
      "text/plain": [
       "Country  City       \n",
       "US       Miami          82249\n",
       "         Los Angeles    43621\n",
       "         Orlando        42701\n",
       "         Dallas         26512\n",
       "         Houston        26322\n",
       "         Charlotte      25476\n",
       "         Raleigh        19367\n",
       "         San Diego      17658\n",
       "         Nashville      17114\n",
       "         Sacramento     16365\n",
       "Name: Total_Accidents, dtype: int64"
      ]
     },
     "execution_count": 20,
     "metadata": {},
     "output_type": "execute_result"
    }
   ],
   "execution_count": 20
  },
  {
   "metadata": {
    "ExecuteTime": {
     "end_time": "2025-03-26T23:37:16.780589Z",
     "start_time": "2025-03-26T23:37:16.668102Z"
    }
   },
   "cell_type": "code",
   "source": [
    "# Create charts that show the increase in accident numbers for each city that allows the comparison of the increase per city, show the city with the most significant increase\n",
    "\n",
    "# Extract the city names from top_accidents\n",
    "top_cities = top_accidents.index.get_level_values('City')\n",
    "filtered_accidents_data = accidents_data[accidents_data['City'].isin(top_cities)]\n",
    "\n",
    "import matplotlib.pyplot as plt\n",
    "import seaborn as sns\n",
    "\n",
    "# Set figure size\n",
    "plt.figure(figsize=(12, 6))\n",
    "\n",
    "# Create barplot\n",
    "sns.barplot(data=filtered_accidents_data, x='City', y='Total_Accidents', hue='Start_Time')\n",
    "plt.xticks(rotation=0)\n",
    "\n",
    "# Set labels and title\n",
    "plt.xlabel('City')\n",
    "plt.ylabel('Total Accidents')\n",
    "plt.title('Total Accidents per City in 2020 and 2022')\n",
    "\n",
    "# Show plot\n",
    "plt.legend(title='Year')\n",
    "plt.show()\n",
    "\n",
    "# Secondary goal: present the absolute number of accidents in both 2020 and 2022 for each selected city"
   ],
   "outputs": [
    {
     "data": {
      "text/plain": [
       "<Figure size 1200x600 with 1 Axes>"
      ],
      "image/png": "[encoded data removed]"
     },
     "metadata": {},
     "output_type": "display_data"
    }
   ],
   "execution_count": 24
  },
  {
   "cell_type": "markdown",
   "metadata": {},
   "source": [
    "2. We define the **accident duration** as the time elapsed from the start of the accident until its impact on traffic flow is resolved.\n",
    "\n",
    "    Please provide a table that shows the minimum and maximum accident duration for each combination of `State`, `County`, `City`, `Year`, `Month`, ensuring that only combinations with data for all 12 months is available. Then, filter the data to include only **Los Angeles**, **Dallas**, and **New York** cities and plot the behavior of the minimum and maximum durations for accidents that occurred in 2022. Choose a visualization that highlights how the average values of both minimum and maximum durations relate to the minimum-maximum range.\n",
    "\n",
    "    - Which city shows the least pronounced variation? \n",
    "    - What insights can you draw from the plot?\n",
    "\n",
    "    Please explain what the plot reveals and justify the choice of visualization.\n",
    "    "
   ]
  },
  {
   "cell_type": "code",
   "metadata": {
    "vscode": {
     "languageId": "plaintext"
    },
    "ExecuteTime": {
     "end_time": "2025-03-26T23:23:11.072051Z",
     "start_time": "2025-03-26T17:08:37.323439Z"
    }
   },
   "source": [],
   "outputs": [],
   "execution_count": null
  },
  {
   "cell_type": "markdown",
   "metadata": {},
   "source": [
    "3. Please filter the data for the years 2019 to 2023 and divide it into two bins based on the `Year` value. Then, calculate the duration ranges for each bin, grouped by `County` and `City`. Classify accidents by congestion level:\n",
    "\n",
    "    - Accidents affecting a road length greater than the median of `Distance(mi)` across the dataset are considered **severe**.\n",
    "    - Those below the median are categorized as **not severe**.\n",
    "\n",
    "    The resulting dataframe should have `County` and `City` as row indices, with year bins and severity (severe/not severe) as hierarchical columns. The values in the dataframe should represent the range of distances, with severe accidents placed under the \"Severe\" column and non-severe accidents under the \"Not Severe\" column. Each cell should display the range of distances for a specific city, county, and year interval. For this exercise, you have to use `groupby()` and __cannot__ rely on `pivot_table()`.\n",
    "    \n",
    "    What is the combination of county-city-year-range with the widest range of accidents duration?\n",
    "    \n",
    "    \n",
    "    The following table shows how the dataframe should look:\n",
    "\n",
    "<br>\n",
    "YB = Year bin range\n",
    "<br>\n",
    "DB = Range of minimum and maximum durations\n",
    "<br>\n",
    "\n",
    "<table>\n",
    "    <tr>\n",
    "        <th rowspan=\"2\">County</th>\n",
    "        <th rowspan=\"2\">City</th>\n",
    "        <th colspan=\"2\">Not Severe</th> \n",
    "        <th colspan=\"2\">Severe</th>\n",
    "    </tr>\n",
    "    <tr>\n",
    "        <th>YB</th>\n",
    "        <th>YB</th>\n",
    "        <th>YB</th>\n",
    "        <th>YB</th>\n",
    "    </tr>\n",
    "    <tr>\n",
    "        <th>Abbeville</th>\n",
    "        <th>Bradley</th>\n",
    "        <td>DB</td>\n",
    "        <td>DB</td>\n",
    "        <td>DB</td>\n",
    "        <td>DB</td>\n",
    "    </tr>\n",
    "    <tr>\n",
    "        <td colspan=\"2\">...</td>\n",
    "        <td colspan=\"2\">...</td>\n",
    "        <td colspan=\"2\">...</td>\n",
    "    </tr>\n",
    "    <tr>\n",
    "        <th>Yuma</th>\n",
    "        <th>Dateland</th>\n",
    "        <td>DB</td>\n",
    "        <td>DB</td>\n",
    "        <td>DB</td>\n",
    "        <td>DB</td>\n",
    "    </tr>\n",
    "    <tr>\n",
    "        <td colspan=\"2\">...</td>\n",
    "        <td colspan=\"2\">...</td>\n",
    "        <td colspan=\"2\">...</td>\n",
    "    </tr>\n",
    "</table>"
   ]
  },
  {
   "cell_type": "code",
   "metadata": {
    "vscode": {
     "languageId": "plaintext"
    },
    "ExecuteTime": {
     "end_time": "2025-03-26T23:23:11.074255Z",
     "start_time": "2025-03-26T17:08:37.335655Z"
    }
   },
   "source": [],
   "outputs": [],
   "execution_count": null
  },
  {
   "cell_type": "markdown",
   "metadata": {},
   "source": [
    "### Section 2.2 \n",
    "**Data Source:** `eu_energy.csv`\n",
    "\n",
    "Please note that:\n",
    "\n",
    "- EU countries are the following: Austria, Belgium, Bulgaria, Croatia, Cyprus, Czechia, Denmark, Estonia, Finland, France, Germany, Greece, Hungary, Ireland, Italy, Latvia, Lithuania, Luxembourg, Malta, Netherlands, Poland, Portugal, Romania, Slovakia, Slovenia, Spain, Sweden\n",
    "- Renewable energy sources: Hydroelectric power, solar power, wind power, biofuel\n",
    "- Non-renewable energy sources: Coal, fossil fuels, gas, oil, nuclear\n",
    "- Clean energy sources: Hydroelectric power, solar power, wind power, nuclear\n",
    "- Non-clean energy sources: Biofuel, coal, fossil fuels, gas, oil"
   ]
  },
  {
   "cell_type": "markdown",
   "metadata": {},
   "source": [
    "4. Please provide a visualization that highlights the relationship between:\n",
    "    - Population size;\n",
    "    - CO2 emissions per capita;\n",
    "    - Renewable energy production.\n",
    "\n",
    "    in 2017. Describe the visualization identifying groups and outliers."
   ]
  },
  {
   "cell_type": "code",
   "metadata": {
    "vscode": {
     "languageId": "plaintext"
    },
    "ExecuteTime": {
     "end_time": "2025-03-26T23:23:11.076532Z",
     "start_time": "2025-03-26T17:08:37.343475Z"
    }
   },
   "source": [],
   "outputs": [],
   "execution_count": null
  },
  {
   "cell_type": "markdown",
   "metadata": {},
   "source": [
    "5. Please compute the renewable energy production percentage (one datapoint per country, per year). Then, create a visualization to investigate how the distribution of these values evolves over the years, from 2010 to 2017."
   ]
  },
  {
   "cell_type": "code",
   "metadata": {
    "vscode": {
     "languageId": "plaintext"
    },
    "ExecuteTime": {
     "end_time": "2025-03-26T23:23:11.077326Z",
     "start_time": "2025-03-26T17:08:37.350642Z"
    }
   },
   "source": [],
   "outputs": [],
   "execution_count": null
  },
  {
   "cell_type": "markdown",
   "metadata": {},
   "source": [
    "6. Please provide visualizations that show the evolution over the years (from 1990 to 2020) of:\n",
    "    - Renewable energy production per capita for each country\n",
    "    - Clean energy production per capita for each country\n",
    "    - Net import per capita for each country\n",
    "\n",
    "    Are there countries that behave differently from the others?\n",
    "\n",
    "    *Please note that the goal of the visualization is not to compare all the countries with each other but to identify which ones present different trends compared to all the others.*"
   ]
  },
  {
   "cell_type": "code",
   "metadata": {
    "vscode": {
     "languageId": "plaintext"
    },
    "ExecuteTime": {
     "end_time": "2025-03-26T23:23:11.086643Z",
     "start_time": "2025-03-26T17:08:37.358047Z"
    }
   },
   "source": [],
   "outputs": [],
   "execution_count": null
  },
  {
   "cell_type": "markdown",
   "metadata": {},
   "source": [
    "## Section 3 - Graph Redesign and Analysis (15 points) 📊\n",
    "\n",
    "**Data Source:** `market_value_decline.csv`\n",
    "\n",
    "The 2008 financial crisis had a significant impact on banks worldwide, leading to substantial losses in market value. The following graph compares the market value of major banks in 2007 (pre-crisis) and 2009 (post-crisis), using blue to represent their value before the meltdown and green to represent their value after.\n",
    "\n",
    "The **primary** goal of this visualization is to highlight the extent of losses suffered by each bank, while also drawing attention to J.P. Morgan’s relatively minor decline compared to its peers. The **secondary** goal is to illustrate the overall ranking of banks by market value, showing their relative sizes before and after the crisis.\n",
    "\n",
    "Does this visualization effectively convey both the absolute losses and the percentage changes in market value? Does it allow for an easy comparison of which banks retained the most value relative to their original size?\n",
    "\n",
    "1. Evaluate the effectiveness of the graph in communicating the market value losses and the relative sizes of the banks. What improvements can be made?\n",
    "2. Propose a visualization that better captures both the absolute and relative losses per bank. Should we emphasize the percentage decline more? Should we use a different chart type?\n",
    "3. Implement your proposed visualization using the *market_value_decline* dataset.\n",
    "\n",
    "**Exercise Submission Requirements:**\n",
    "1. `Written analysis` of the original graph's shortcomings: Please examine the existing graph and identify any issues that hinder its ability to clearly convey the intended quantitative message.\n",
    "2. `Justifications` for the proposed improvements: For each issue you identify, please discuss potential improvements or alternative visualization techniques that might resolve these issues.\n",
    "3. `Redesigned graph` that better communicates the data. Be sure to explain how your redesign enhances data interpretation and achieves the intended objectives more effectively.\n",
    "\n",
    "![exercise3.png](exercise3.png)\n",
    "\n",
    "\n"
   ]
  },
  {
   "cell_type": "code",
   "metadata": {
    "vscode": {
     "languageId": "plaintext"
    },
    "ExecuteTime": {
     "end_time": "2025-03-26T23:23:11.090076Z",
     "start_time": "2025-03-26T17:08:37.365206Z"
    }
   },
   "source": [],
   "outputs": [],
   "execution_count": null
  },
  {
   "cell_type": "markdown",
   "metadata": {},
   "source": [
    "## Section 4 - Geospatial Analysis (35 points) 🌍\n",
    "\n",
    "**Data Source:** `airports.csv`, `countries.csv`, `routes.csv`, `europe.geojson`.\n",
    "\n",
    "Please create an interactive map representation—focused on European countries—such that, when a country is selected, the map displays the flight balance (number of incoming flights - number of outgoing flights) between that country and all other European countries. The map should dynamically update based on the selected country, visually representing the extent to which each country is a net sender or receiver of flights.\n",
    "\n",
    "**Hints**:\n",
    "1. If `A` is a GeoDataFrame and `B` a DataFrame, the result of `A.merge(B,..)` is a GeoDataFrame, whereas the result of `B.merge(A,..)` is a DataFrame. The function `to_json()` on a DataFrame with a geometry column does **not** work.\n",
    "2. When updating the map, to access the color mapper you can use the following method: `color_mapper = p.select_one(LinearColorMapper)`, where `p` is the figure.\n",
    "3. You can discard Guernsey and Gibraltar that are not present in the geojson."
   ]
  },
  {
   "cell_type": "code",
   "metadata": {
    "vscode": {
     "languageId": "plaintext"
    },
    "ExecuteTime": {
     "end_time": "2025-03-26T23:23:11.091783Z",
     "start_time": "2025-03-26T17:08:37.372801Z"
    }
   },
   "source": [],
   "outputs": [],
   "execution_count": null
  },
  {
   "cell_type": "markdown",
   "metadata": {},
   "source": [
    "## Datasets Description\n",
    "\n",
    "You can find the dataset in the `datasets` folder. The descriptions of the datasets are provided below."
   ]
  },
  {
   "cell_type": "markdown",
   "metadata": {},
   "source": [
    "### Used Cars\n",
    "\n",
    "The content of the dataset is in German, but it should not impose critical issues in understanding the data. Each entry contains the following information.\n",
    "\n",
    "| **Field**                    | **Description** |\n",
    "|------------------------------|---------------|\n",
    "| **dateCrawled**               | When this ad was first crawled, all field values are taken from this date. |\n",
    "| **name**                      | The name of the car. |\n",
    "| **seller**                    | Seller type (private or dealer). |\n",
    "| **offerTypeprice**            | The price in euros for the car on the ad. |\n",
    "| **abtest**                    | Type of test. |\n",
    "| **vehicleType**               | Type of vehicle. |\n",
    "| **yearOfRegistration**        | The year the car was first registered. |\n",
    "| **gearboxpowerPS**            | Power of the car in PS (horsepower). |\n",
    "| **modelkilometer**            | How many kilometers the car has driven. |\n",
    "| **monthOfRegistration**       | The month the car was first registered. |\n",
    "| **fuelType**                  | Vehicle fuel type. |\n",
    "| **brand**                     | Vehicle brand. |\n",
    "| **notRepairedDamage**         | If the car has any damage that has not been repaired yet. |\n",
    "| **dateCreated**               | The date the ad was created on eBay. |\n",
    "| **nrOfPictures**              | Number of pictures in the ad. |\n",
    "| **postalCodelastSeenOnline**  | When the crawler last saw this ad online. |\n",
    "\n",
    "\n",
    "### US Accidents\n",
    "\n",
    "| **Field**              | **Description** |\n",
    "|------------------------|---------------|\n",
    "| **ID** | Unique identifier of the accident record. |\n",
    "| **Severity** | Severity of the accident (1-4), where 1 indicates the least impact on traffic and 4 indicates significant impact. |\n",
    "| **Start_Time** | Start time of the accident in local time zone. |\n",
    "| **End_Time** | End time of the accident in local time zone (when the impact on traffic flow was dismissed). |\n",
    "| **Start_Lat** | Latitude in GPS coordinate of the start point. |\n",
    "| **Start_Lng** | Longitude in GPS coordinate of the start point. |\n",
    "| **End_Lat** | Latitude in GPS coordinate of the end point. |\n",
    "| **End_Lng** | Longitude in GPS coordinate of the end point. |\n",
    "| **Distance(mi)** | Length of the road extent affected by the accident. |\n",
    "| **Description** | Natural language description of the accident. |\n",
    "| **Number** | Street number in address field. |\n",
    "| **Street** | Street name in address field. |\n",
    "| **Side** | Relative side of the street (Right/Left) in address field. |\n",
    "| **City** | City in address field. |\n",
    "| **County** | County in address field. |\n",
    "| **State** | State in address field. |\n",
    "| **Zipcode** | Zipcode in address field. |\n",
    "| **Country** | Country in address field. |\n",
    "| **Timezone** | Timezone based on the location of the accident (eastern, central, etc.). |\n",
    "| **Airport_Code** | Closest airport-based weather station to the accident location. |\n",
    "| **Weather_Timestamp** | Timestamp of weather observation record (in local time). |\n",
    "| **Temperature(F)** | Temperature (in Fahrenheit). |\n",
    "| **Wind_Chill(F)** | Wind chill (in Fahrenheit). |\n",
    "| **Humidity(%)** | Humidity (in percentage). |\n",
    "| **Pressure(in)** | Air pressure (in inches). |\n",
    "| **Visibility(mi)** | Visibility (in miles). |\n",
    "| **Wind_Direction** | Wind direction. |\n",
    "| **Wind_Speed(mph)** | Wind speed (in miles per hour). |\n",
    "| **Precipitation(in)** | Precipitation amount in inches, if any. |\n",
    "| **Weather_Condition** | Weather condition (rain, snow, thunderstorm, fog, etc.). |\n",
    "| **Amenity** | POI annotation indicating presence of an amenity nearby. |\n",
    "| **Bump** | POI annotation indicating presence of a speed bump or hump nearby. |\n",
    "| **Crossing** | POI annotation indicating presence of a crossing nearby. |\n",
    "| **Give_Way** | POI annotation indicating presence of a give-way sign nearby. |\n",
    "| **Junction** | POI annotation indicating presence of a junction nearby. |\n",
    "| **No_Exit** | POI annotation indicating presence of a no-exit nearby. |\n",
    "| **Railway** | POI annotation indicating presence of a railway nearby. |\n",
    "| **Roundabout** | POI annotation indicating presence of a roundabout nearby. |\n",
    "| **Station** | POI annotation indicating presence of a station nearby. |\n",
    "| **Stop** | POI annotation indicating presence of a stop sign nearby. |\n",
    "| **Traffic_Calming** | POI annotation indicating presence of traffic calming measures nearby. |\n",
    "| **Traffic_Signal** | POI annotation indicating presence of a traffic signal nearby. |\n",
    "| **Turning_Loop** | POI annotation indicating presence of a turning loop nearby. |\n",
    "| **Sunrise_Sunset** | Period of day (day or night) based on sunrise/sunset. |\n",
    "| **Civil_Twilight** | Period of day (day or night) based on civil twilight. |\n",
    "| **Nautical_Twilight** | Period of day (day or night) based on nautical twilight. |\n",
    "| **Astronomical_Twilight** | Period of day (day or night) based on astronomical twilight. |\n",
    "\n",
    "\n",
    "### Energy Data\n",
    "\n",
    "| **Field**                | **Description** |\n",
    "|---------------------------|-----------------|\n",
    "| **country**               | Geographic location. |\n",
    "| **year**                  | Year of observation. |\n",
    "| **gdp**                   | (Gross Domestic Product) This data is adjusted for inflation and differences in the cost of living between countries. |\n",
    "| **population**            | Population by country, based on data and estimates from different sources. |\n",
    "| **greenhouse_gas_emissions** | Emissions from electricity generation. Measured in megatonnes of CO₂ equivalents. |\n",
    "| **net_elec_imports**      | Net electricity imports. Electricity imports minus exports, measured in TWh. |\n",
    "| **biofuel_consumption**   | Primary energy consumption from biofuels. Measured in terawatt-hours. |\n",
    "| **coal_consumption**      | Primary energy consumption from coal. Measured in terawatt-hours. |\n",
    "| **fossil_fuel_consumption** | Primary energy consumption from fossil fuels. Measured in terawatt-hours. |\n",
    "| **gas_consumption**       | Primary energy consumption from gas. Measured in terawatt-hours. |\n",
    "| **oil_consumption**       | Primary energy consumption from oil. Measured in terawatt-hours. |\n",
    "| **nuclear_consumption**   | Primary energy consumption from nuclear power. Measured in terawatt-hours, using the substitution method. |\n",
    "| **hydro_consumption**     | Primary energy consumption from hydropower. Measured in terawatt-hours, using the substitution method. |\n",
    "| **solar_consumption**     | Primary energy consumption from solar power. Measured in terawatt-hours, using the substitution method. |\n",
    "| **wind_consumption**      | Primary energy consumption from wind power. Measured in terawatt-hours, using the substitution method. |\n",
    "| **biofuel_electricity**   | Electricity generation from bioenergy. Measured in terawatt-hours. |\n",
    "| **coal_electricity**      | Electricity generation from coal. Measured in terawatt-hours. |\n",
    "| **fossil_electricity**    | Electricity generation from fossil fuels. Measured in terawatt-hours. |\n",
    "| **gas_electricity**       | Electricity generation from gas. Measured in terawatt-hours. |\n",
    "| **oil_electricity**       | Electricity generation from oil. Measured in terawatt-hours. |\n",
    "| **nuclear_electricity**   | Electricity generation from nuclear. Measured in terawatt-hours. |\n",
    "| **hydro_electricity**     | Electricity generation from hydropower. Measured in terawatt-hours. |\n",
    "| **solar_electricity**     | Electricity generation from solar power. Measured in terawatt-hours. |\n",
    "| **wind_electricity**      | Electricity generation from wind power. Measured in terawatt-hours. |\n",
    "\n",
    "\n",
    "\n",
    "### Airports\n",
    "\n",
    "As of January 2017, the OpenFlights Airports Database contains over 10,000 airports, train stations and ferry terminals spanning the globe, as shown in the map above. Each entry contains the following information:\n",
    "\n",
    "| **Field**                 | **Description** |\n",
    "|---------------------------|---------------|\n",
    "| **Airport ID** | Unique OpenFlights identifier for this airport. |\n",
    "| **Name** | Name of the airport. May or may not contain the city name. |\n",
    "| **City** | Main city served by the airport. May be spelled differently from the name. |\n",
    "| **Country** | Country or territory where the airport is located. Can be cross-referenced with ISO 3166-1 codes. |\n",
    "| **IATA** | 3-letter IATA code. Null if not assigned/unknown. |\n",
    "| **ICAO** | 4-letter ICAO code. Null if not assigned/unknown. |\n",
    "| **Latitude** | Decimal degrees, usually to six significant digits. Negative is South, positive is North. |\n",
    "| **Longitude** | Decimal degrees, usually to six significant digits. Negative is West, positive is East. |\n",
    "| **Altitude** | Altitude in feet. |\n",
    "| **Timezone** | Hours offset from UTC. Fractional hours are expressed as decimals (e.g., India is 5.5). |\n",
    "| **DST** | Daylight savings time classification: E (Europe), A (US/Canada), S (South America), O (Australia), Z (New Zealand), N (None), or U (Unknown). |\n",
    "| **Tz database time zone** | Timezone in \"tz\" (Olson) format (e.g., \"America/Los_Angeles\"). |\n",
    "| **Type** | Type of the airport. Value is \"airport\" for air terminals. |\n",
    "| **Source** | Source of the data. \"OurAirports\" for data sourced from OurAirports. |\n",
    "\n",
    "\n",
    "### Routes\n",
    "\n",
    "As of June 2014, the OpenFlights/Airline Route Mapper Route Database contains 67663 routes between 3321 airports on 548 airlines spanning the globe. \\\n",
    "Each entry contains the following information.\n",
    "\n",
    "| **Field**                | **Description** |\n",
    "|--------------------------|---------------|\n",
    "| **Airline** | 2-letter (IATA) or 3-letter (ICAO) code of the airline. |\n",
    "| **Airline ID** | Unique OpenFlights identifier for the airline. |\n",
    "| **Source airport** | 3-letter (IATA) or 4-letter (ICAO) code of the source airport. |\n",
    "| **Source airport ID** | Unique OpenFlights identifier for the source airport. |\n",
    "| **Destination airport** | 3-letter (IATA) or 4-letter (ICAO) code of the destination airport. |\n",
    "| **Destination airport ID** | Unique OpenFlights identifier for the destination airport. |\n",
    "| **Codeshare** | \"Y\" if the flight is a codeshare (operated by another carrier), empty otherwise. |\n",
    "| **Stops** | Number of stops on the flight (\"0\" for direct). |\n",
    "| **Equipment** | 3-letter codes for plane type(s) generally used on this flight, separated by spaces. |\n",
    "\n",
    "\n",
    "The data is UTF-8 encoded. The special value `\\N` is used for \"NULL\" to indicate that no value is available, and is understood automatically by MySQL if imported\n",
    "\n",
    "\n",
    "<aside>\n",
    "💡 Notes:\n",
    "\n",
    "- Routes are directional: if an airline operates services from A to B and from B to A, both A-B and B-A are listed separately.\n",
    "- Routes where one carrier operates both its own and codeshare flights are listed only once.\n",
    "</aside>\n",
    "\n",
    "\n",
    "### Countries\n",
    "\n",
    "This dataset contains the information related to European countries. "
   ]
  },
  {
   "cell_type": "markdown",
   "metadata": {},
   "source": []
  }
 ],
 "metadata": {
  "language_info": {
   "name": "python"
  },
  "kernelspec": {
   "name": "python3",
   "language": "python",
   "display_name": "Python 3 (ipykernel)"
  }
 },
 "nbformat": 4,
 "nbformat_minor": 2
}
